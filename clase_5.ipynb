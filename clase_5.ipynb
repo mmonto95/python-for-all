{
 "nbformat": 4,
 "nbformat_minor": 0,
 "metadata": {
  "colab": {
   "provenance": []
  },
  "kernelspec": {
   "name": "python3",
   "language": "python",
   "display_name": "Python 3 (ipykernel)"
  },
  "language_info": {
   "name": "python"
  }
 },
 "cells": [
  {
   "cell_type": "markdown",
   "source": [
    "# Ejercicios de funciones"
   ],
   "metadata": {
    "collapsed": false
   }
  },
  {
   "cell_type": "markdown",
   "source": [
    "# Ejercicio 131: Código Morse"
   ],
   "metadata": {
    "collapsed": false
   }
  },
  {
   "cell_type": "code",
   "execution_count": 2,
   "outputs": [],
   "source": [
    "mensaje = 'Mensaje de prueba'\n",
    "MORSE_CODE_DICT = {\n",
    "    'A': '.-', 'B': '-...',\n",
    "    'C': '-.-.', 'D': '-..', 'E': '.',\n",
    "    'F': '..-.', 'G': '--.', 'H': '....',\n",
    "    'I': '..', 'J': '.---', 'K': '-.-',\n",
    "    'L': '.-..', 'M': '--', 'N': '-.',\n",
    "    'O': '---', 'P': '.--.', 'Q': '--.-',\n",
    "    'R': '.-.', 'S': '...', 'T': '-',\n",
    "    'U': '..-', 'V': '...-', 'W': '.--',\n",
    "    'X': '-..-', 'Y': '-.--', 'Z': '--..',\n",
    "    '1': '.----', '2': '..---', '3': '...--',\n",
    "    '4': '....-', '5': '.....', '6': '-....',\n",
    "    '7': '--...', '8': '---..', '9': '----.',\n",
    "    '0': '-----', ', ': '--..--', '.': '.-.-.-',\n",
    "    '?': '..--..', '/': '-..-.', '-': '-....-',\n",
    "    '(': '-.--.', ')': '-.--.-', ' ': ' '\n",
    "}"
   ],
   "metadata": {
    "collapsed": false
   }
  },
  {
   "cell_type": "code",
   "execution_count": 9,
   "outputs": [],
   "source": [
    "def convertir_a_morse(mensaje):\n",
    "    traduccion = ''\n",
    "    for caracter in mensaje.upper():\n",
    "        if caracter in MORSE_CODE_DICT:\n",
    "            traduccion += MORSE_CODE_DICT[caracter] + ' '\n",
    "    return traduccion"
   ],
   "metadata": {
    "collapsed": false
   }
  },
  {
   "cell_type": "code",
   "execution_count": 11,
   "outputs": [],
   "source": [
    "def convertir_a_morse_usando_lista(mensaje):\n",
    "    traduccion = []\n",
    "    for caracter in mensaje.upper():\n",
    "        if caracter in MORSE_CODE_DICT:\n",
    "            traduccion.append(MORSE_CODE_DICT[caracter])\n",
    "    return ' '.join(traduccion)"
   ],
   "metadata": {
    "collapsed": false
   }
  },
  {
   "cell_type": "code",
   "execution_count": 10,
   "outputs": [
    {
     "data": {
      "text/plain": "'-- . -. ... .- .--- .   -.. .   .--. .-. ..- . -... .- '"
     },
     "execution_count": 10,
     "metadata": {},
     "output_type": "execute_result"
    }
   ],
   "source": [
    "convertir_a_morse(mensaje)"
   ],
   "metadata": {
    "collapsed": false
   }
  },
  {
   "cell_type": "code",
   "execution_count": 12,
   "outputs": [
    {
     "data": {
      "text/plain": "'-- . -. ... .- .--- .   -.. .   .--. .-. ..- . -... .-'"
     },
     "execution_count": 12,
     "metadata": {},
     "output_type": "execute_result"
    }
   ],
   "source": [
    "convertir_a_morse_usando_lista(mensaje)"
   ],
   "metadata": {
    "collapsed": false
   }
  },
  {
   "cell_type": "code",
   "execution_count": 14,
   "outputs": [
    {
     "data": {
      "text/plain": "'1,2,3'"
     },
     "execution_count": 14,
     "metadata": {},
     "output_type": "execute_result"
    }
   ],
   "source": [
    "','.join(['1', '2', '3'])"
   ],
   "metadata": {
    "collapsed": false
   }
  },
  {
   "cell_type": "markdown",
   "source": [
    "# Archivos y Excepciones\n",
    "\n",
    "### Archivos\n",
    "- Nos permiten trabajar con datos.\n",
    "- Nos permiten guardar resultados (datos) de forma permanente.\n",
    "- open()\n",
    "- close()\n",
    "\n",
    "### Excepciones\n",
    "- Se usan para manejar posibles errores de los cuales no tenemos control."
   ],
   "metadata": {
    "collapsed": false
   }
  },
  {
   "cell_type": "code",
   "execution_count": 15,
   "outputs": [],
   "source": [
    "archivo = open('problema_de_formateo.csv', 'r')"
   ],
   "metadata": {
    "collapsed": false
   }
  },
  {
   "cell_type": "code",
   "execution_count": 16,
   "outputs": [
    {
     "name": "stdout",
     "output_type": "stream",
     "text": [
      "<_io.TextIOWrapper name='problema_de_formateo.csv' mode='r' encoding='UTF-8'>\n"
     ]
    }
   ],
   "source": [
    "print(archivo)"
   ],
   "metadata": {
    "collapsed": false
   }
  },
  {
   "cell_type": "code",
   "execution_count": 17,
   "outputs": [],
   "source": [
    "archivo_leido = archivo.read()"
   ],
   "metadata": {
    "collapsed": false
   }
  },
  {
   "cell_type": "code",
   "execution_count": 18,
   "outputs": [
    {
     "data": {
      "text/plain": "'estrategia,codigo,cuenta_de_cobro,cuenta\\nEstrategia 1,cod 1,cdc 1,101\\n,,cdc 2,102\\n,,,103\\n,,,104\\nEstrategia 2,cod 2,cdc 3,105\\n,,cdc 2,102\\n,,,106\\n,,,107'"
     },
     "execution_count": 18,
     "metadata": {},
     "output_type": "execute_result"
    }
   ],
   "source": [
    "archivo_leido"
   ],
   "metadata": {
    "collapsed": false
   }
  },
  {
   "cell_type": "code",
   "execution_count": 32,
   "outputs": [
    {
     "data": {
      "text/plain": "['assssssssssssssssssssssssssssssss',\n 'fas',\n 'fas',\n 'fas',\n 'fas',\n 'fas',\n 'fsa',\n 'fas',\n 'f']"
     },
     "execution_count": 32,
     "metadata": {},
     "output_type": "execute_result"
    }
   ],
   "source": [
    "'asdfasdfasdfasdfasdfasdfsadfasdf'.split('d')"
   ],
   "metadata": {
    "collapsed": false
   }
  },
  {
   "cell_type": "code",
   "execution_count": 19,
   "outputs": [
    {
     "data": {
      "text/plain": "['estrategia,codigo,cuenta_de_cobro,cuenta',\n 'Estrategia 1,cod 1,cdc 1,101',\n ',,cdc 2,102',\n ',,,103',\n ',,,104',\n 'Estrategia 2,cod 2,cdc 3,105',\n ',,cdc 2,102',\n ',,,106',\n ',,,107']"
     },
     "execution_count": 19,
     "metadata": {},
     "output_type": "execute_result"
    }
   ],
   "source": [
    "lineas = archivo_leido.split('\\n')\n",
    "lineas"
   ],
   "metadata": {
    "collapsed": false
   }
  },
  {
   "cell_type": "code",
   "execution_count": 22,
   "outputs": [
    {
     "data": {
      "text/plain": "'estrategia,codigo,cuenta_de_cobro,cuenta'"
     },
     "execution_count": 22,
     "metadata": {},
     "output_type": "execute_result"
    }
   ],
   "source": [
    "lineas[0]"
   ],
   "metadata": {
    "collapsed": false
   }
  },
  {
   "cell_type": "code",
   "execution_count": 23,
   "outputs": [
    {
     "data": {
      "text/plain": "',,cdc 2,102'"
     },
     "execution_count": 23,
     "metadata": {},
     "output_type": "execute_result"
    }
   ],
   "source": [
    "lineas[2]"
   ],
   "metadata": {
    "collapsed": false
   }
  },
  {
   "cell_type": "code",
   "execution_count": 20,
   "outputs": [
    {
     "data": {
      "text/plain": "[['estrategia', 'codigo', 'cuenta_de_cobro', 'cuenta'],\n ['Estrategia 1', 'cod 1', 'cdc 1', '101'],\n ['', '', 'cdc 2', '102'],\n ['', '', '', '103'],\n ['', '', '', '104'],\n ['Estrategia 2', 'cod 2', 'cdc 3', '105'],\n ['', '', 'cdc 2', '102'],\n ['', '', '', '106'],\n ['', '', '', '107']]"
     },
     "execution_count": 20,
     "metadata": {},
     "output_type": "execute_result"
    }
   ],
   "source": [
    "datos = []\n",
    "for linea in lineas:\n",
    "    datos.append(linea.split(','))\n",
    "datos"
   ],
   "metadata": {
    "collapsed": false
   }
  },
  {
   "cell_type": "code",
   "execution_count": 24,
   "outputs": [
    {
     "data": {
      "text/plain": "'estrategia'"
     },
     "execution_count": 24,
     "metadata": {},
     "output_type": "execute_result"
    }
   ],
   "source": [
    "datos[0][0]"
   ],
   "metadata": {
    "collapsed": false
   }
  },
  {
   "cell_type": "code",
   "execution_count": 25,
   "outputs": [
    {
     "data": {
      "text/plain": "'Estrategia 1'"
     },
     "execution_count": 25,
     "metadata": {},
     "output_type": "execute_result"
    }
   ],
   "source": [
    "datos[1][0]"
   ],
   "metadata": {
    "collapsed": false
   }
  },
  {
   "cell_type": "code",
   "execution_count": 31,
   "outputs": [
    {
     "data": {
      "text/plain": "'Estrategia 2'"
     },
     "execution_count": 31,
     "metadata": {},
     "output_type": "execute_result"
    }
   ],
   "source": [
    "datos[5][0]"
   ],
   "metadata": {
    "collapsed": false
   }
  },
  {
   "cell_type": "code",
   "execution_count": 26,
   "outputs": [
    {
     "data": {
      "text/plain": "['estrategia', 'codigo', 'cuenta_de_cobro', 'cuenta']"
     },
     "execution_count": 26,
     "metadata": {},
     "output_type": "execute_result"
    }
   ],
   "source": [
    "datos[0]"
   ],
   "metadata": {
    "collapsed": false
   }
  },
  {
   "cell_type": "code",
   "execution_count": 27,
   "outputs": [
    {
     "data": {
      "text/plain": "['Estrategia 1', 'cod 1', 'cdc 1', '101']"
     },
     "execution_count": 27,
     "metadata": {},
     "output_type": "execute_result"
    }
   ],
   "source": [
    "datos[1]"
   ],
   "metadata": {
    "collapsed": false
   }
  },
  {
   "cell_type": "code",
   "execution_count": 28,
   "outputs": [
    {
     "data": {
      "text/plain": "'101'"
     },
     "execution_count": 28,
     "metadata": {},
     "output_type": "execute_result"
    }
   ],
   "source": [
    "datos[1][3]"
   ],
   "metadata": {
    "collapsed": false
   }
  },
  {
   "cell_type": "code",
   "execution_count": 29,
   "outputs": [
    {
     "data": {
      "text/plain": "'101'"
     },
     "execution_count": 29,
     "metadata": {},
     "output_type": "execute_result"
    }
   ],
   "source": [
    "datos[1][-1]  # Indexación negativa"
   ],
   "metadata": {
    "collapsed": false
   }
  },
  {
   "cell_type": "code",
   "execution_count": 38,
   "outputs": [],
   "source": [
    "archivo.close()"
   ],
   "metadata": {
    "collapsed": false
   }
  },
  {
   "cell_type": "code",
   "execution_count": 39,
   "outputs": [],
   "source": [
    "archivo = open('problema_de_formateo.csv', 'r')"
   ],
   "metadata": {
    "collapsed": false
   }
  },
  {
   "cell_type": "code",
   "execution_count": 40,
   "outputs": [],
   "source": [
    "lineas = archivo.readlines()"
   ],
   "metadata": {
    "collapsed": false
   }
  },
  {
   "cell_type": "code",
   "execution_count": 41,
   "outputs": [
    {
     "data": {
      "text/plain": "['estrategia,codigo,cuenta_de_cobro,cuenta\\n',\n 'Estrategia 1,cod 1,cdc 1,101\\n',\n ',,cdc 2,102\\n',\n ',,,103\\n',\n ',,,104\\n',\n 'Estrategia 2,cod 2,cdc 3,105\\n',\n ',,cdc 2,102\\n',\n ',,,106\\n',\n ',,,107']"
     },
     "execution_count": 41,
     "metadata": {},
     "output_type": "execute_result"
    }
   ],
   "source": [
    "lineas"
   ],
   "metadata": {
    "collapsed": false
   }
  },
  {
   "cell_type": "code",
   "execution_count": 42,
   "outputs": [
    {
     "name": "stdout",
     "output_type": "stream",
     "text": [
      "estrategia,codigo,cuenta_de_cobro,cuenta\n",
      "\n",
      "Estrategia 1,cod 1,cdc 1,101\n",
      "\n",
      ",,cdc 2,102\n",
      "\n",
      ",,,103\n",
      "\n",
      ",,,104\n",
      "\n",
      "Estrategia 2,cod 2,cdc 3,105\n",
      "\n",
      ",,cdc 2,102\n",
      "\n",
      ",,,106\n",
      "\n",
      ",,,107\n"
     ]
    }
   ],
   "source": [
    "for linea in lineas:\n",
    "    print(linea)"
   ],
   "metadata": {
    "collapsed": false
   }
  },
  {
   "cell_type": "code",
   "execution_count": 44,
   "outputs": [
    {
     "name": "stdout",
     "output_type": "stream",
     "text": [
      "False\n",
      "True\n"
     ]
    },
    {
     "data": {
      "text/plain": "['estrategia,codigo,cuenta_de_cobro,cuenta\\n',\n 'Estrategia 1,cod 1,cdc 1,101\\n',\n ',,cdc 2,102\\n',\n ',,,103\\n',\n ',,,104\\n',\n 'Estrategia 2,cod 2,cdc 3,105\\n',\n ',,cdc 2,102\\n',\n ',,,106\\n',\n ',,,107']"
     },
     "execution_count": 44,
     "metadata": {},
     "output_type": "execute_result"
    }
   ],
   "source": [
    "with open('problema_de_formateo.csv', 'r') as archivo:\n",
    "    lineas = archivo.readlines()\n",
    "    print(archivo.closed)\n",
    "print(archivo.closed)\n",
    "lineas"
   ],
   "metadata": {
    "collapsed": false
   }
  },
  {
   "cell_type": "code",
   "execution_count": 54,
   "outputs": [
    {
     "ename": "UnsupportedOperation",
     "evalue": "not readable",
     "output_type": "error",
     "traceback": [
      "\u001B[0;31m---------------------------------------------------------------------------\u001B[0m",
      "\u001B[0;31mUnsupportedOperation\u001B[0m                      Traceback (most recent call last)",
      "Cell \u001B[0;32mIn[54], line 2\u001B[0m\n\u001B[1;32m      1\u001B[0m \u001B[38;5;28;01mwith\u001B[39;00m \u001B[38;5;28mopen\u001B[39m(\u001B[38;5;124m'\u001B[39m\u001B[38;5;124mproblema_de_formateo_resuelto.csv\u001B[39m\u001B[38;5;124m'\u001B[39m, \u001B[38;5;124m'\u001B[39m\u001B[38;5;124mw\u001B[39m\u001B[38;5;124m'\u001B[39m) \u001B[38;5;28;01mas\u001B[39;00m archivo:\n\u001B[0;32m----> 2\u001B[0m     a \u001B[38;5;241m=\u001B[39m \u001B[43marchivo\u001B[49m\u001B[38;5;241;43m.\u001B[39;49m\u001B[43mread\u001B[49m\u001B[43m(\u001B[49m\u001B[43m)\u001B[49m\n\u001B[1;32m      3\u001B[0m     archivo\u001B[38;5;241m.\u001B[39mwrite(\u001B[38;5;124m'\u001B[39m\u001B[38;5;124mHola\u001B[39m\u001B[38;5;124m'\u001B[39m)\n",
      "\u001B[0;31mUnsupportedOperation\u001B[0m: not readable"
     ]
    }
   ],
   "source": [
    "with open('problema_de_formateo_resuelto.csv', 'w') as archivo:\n",
    "    a = archivo.read()\n",
    "    archivo.write('Hola')"
   ],
   "metadata": {
    "collapsed": false
   }
  },
  {
   "cell_type": "code",
   "execution_count": 55,
   "outputs": [],
   "source": [
    "with open('problema_de_formateo_resuelto.csv', 'w') as archivo:\n",
    "    archivo.write('Hola')"
   ],
   "metadata": {
    "collapsed": false
   }
  },
  {
   "cell_type": "code",
   "execution_count": 56,
   "outputs": [],
   "source": [
    "with open('problema_de_formateo_resuelto.csv', 'a') as archivo:\n",
    "    archivo.write('Hola2')"
   ],
   "metadata": {
    "collapsed": false
   }
  },
  {
   "cell_type": "code",
   "execution_count": 57,
   "outputs": [
    {
     "data": {
      "text/plain": "[['estrategia', 'codigo', 'cuenta_de_cobro', 'cuenta'],\n ['Estrategia 1', 'cod 1', 'cdc 1', '101'],\n ['', '', 'cdc 2', '102'],\n ['', '', '', '103'],\n ['', '', '', '104'],\n ['Estrategia 2', 'cod 2', 'cdc 3', '105'],\n ['', '', 'cdc 2', '102'],\n ['', '', '', '106'],\n ['', '', '', '107']]"
     },
     "execution_count": 57,
     "metadata": {},
     "output_type": "execute_result"
    }
   ],
   "source": [
    "datos"
   ],
   "metadata": {
    "collapsed": false
   }
  },
  {
   "cell_type": "code",
   "execution_count": 58,
   "outputs": [],
   "source": [
    "with open('problema_de_formateo_resuelto.csv', 'w') as archivo:\n",
    "    lineas = []\n",
    "    for linea in datos:\n",
    "        lineas.append(','.join(linea))\n",
    "\n",
    "    archivo_en_string = '\\n'.join(lineas)\n",
    "    archivo.write(archivo_en_string)"
   ],
   "metadata": {
    "collapsed": false
   }
  },
  {
   "cell_type": "markdown",
   "source": [
    "# Problema de Camilo"
   ],
   "metadata": {
    "collapsed": false
   }
  },
  {
   "cell_type": "code",
   "execution_count": 10,
   "outputs": [
    {
     "data": {
      "text/plain": "[3, 4, 5]"
     },
     "execution_count": 10,
     "metadata": {},
     "output_type": "execute_result"
    }
   ],
   "source": [
    "with open('problema_de_formateo.csv', 'r') as archivo:\n",
    "    datos = []\n",
    "    for linea in archivo.readlines()[1:]:\n",
    "        datos.append(linea.strip().split(','))"
   ],
   "metadata": {
    "collapsed": false,
    "ExecuteTime": {
     "end_time": "2023-05-30T23:31:16.338572Z",
     "start_time": "2023-05-30T23:31:16.330256Z"
    }
   }
  },
  {
   "cell_type": "code",
   "execution_count": 11,
   "outputs": [
    {
     "data": {
      "text/plain": "[4, 5, 6, 7]"
     },
     "execution_count": 11,
     "metadata": {},
     "output_type": "execute_result"
    }
   ],
   "source": [
    "bool('')"
   ],
   "metadata": {
    "collapsed": false,
    "ExecuteTime": {
     "end_time": "2023-05-30T23:31:42.581016Z",
     "start_time": "2023-05-30T23:31:42.574113Z"
    }
   }
  },
  {
   "cell_type": "code",
   "execution_count": 12,
   "outputs": [
    {
     "data": {
      "text/plain": "[1, 2, 3, 4, 5]"
     },
     "execution_count": 12,
     "metadata": {},
     "output_type": "execute_result"
    }
   ],
   "source": [
    "indices_de_estrategias = [indice for indice, fila in enumerate(datos) if fila[0]]"
   ],
   "metadata": {
    "collapsed": false,
    "ExecuteTime": {
     "end_time": "2023-05-30T23:31:53.617810Z",
     "start_time": "2023-05-30T23:31:53.610744Z"
    }
   }
  },
  {
   "cell_type": "code",
   "execution_count": 86,
   "outputs": [],
   "source": [
    "datos_por_estrategia = []\n",
    "for i in range(len(indices_de_estrategias) - 1):\n",
    "    datos_por_estrategia.append(datos[indices_de_estrategias[i]:indices_de_estrategias[i + 1] - 1])\n",
    "datos_por_estrategia.append(datos[indices_de_estrategias[-1]:])"
   ],
   "metadata": {
    "collapsed": false,
    "ExecuteTime": {
     "end_time": "2023-05-30T21:31:12.031033Z",
     "start_time": "2023-05-30T21:31:12.027933Z"
    }
   }
  },
  {
   "cell_type": "code",
   "execution_count": 7,
   "outputs": [
    {
     "name": "stdout",
     "output_type": "stream",
     "text": [
      "0 a\n",
      "1 b\n",
      "2 c\n"
     ]
    }
   ],
   "source": [
    "datos_por_estrategia"
   ],
   "metadata": {
    "collapsed": false,
    "ExecuteTime": {
     "end_time": "2023-05-30T23:28:10.642981Z",
     "start_time": "2023-05-30T23:28:10.638083Z"
    }
   }
  },
  {
   "cell_type": "code",
   "execution_count": 8,
   "outputs": [],
   "source": [
    "[fila[2] for fila in datos_por_estrategia[0] if fila[2]]"
   ],
   "metadata": {
    "collapsed": false,
    "ExecuteTime": {
     "end_time": "2023-05-30T23:28:52.999426Z",
     "start_time": "2023-05-30T23:28:52.993513Z"
    }
   }
  },
  {
   "cell_type": "code",
   "execution_count": 9,
   "outputs": [
    {
     "data": {
      "text/plain": "[0, 4]"
     },
     "execution_count": 9,
     "metadata": {},
     "output_type": "execute_result"
    }
   ],
   "source": [
    "def extraer_cdc(datos):\n",
    "    return [fila[2] for fila in datos if fila[2]]"
   ],
   "metadata": {
    "collapsed": false,
    "ExecuteTime": {
     "end_time": "2023-05-30T23:29:00.734780Z",
     "start_time": "2023-05-30T23:29:00.727883Z"
    }
   }
  },
  {
   "cell_type": "code",
   "execution_count": 90,
   "outputs": [],
   "source": [
    "from copy import deepcopy"
   ],
   "metadata": {
    "collapsed": false,
    "ExecuteTime": {
     "end_time": "2023-05-30T21:31:13.401608Z",
     "start_time": "2023-05-30T21:31:13.393640Z"
    }
   }
  },
  {
   "cell_type": "code",
   "execution_count": 91,
   "outputs": [],
   "source": [
    "datos_formateados = []\n",
    "for d in datos_por_estrategia.copy():\n",
    "    for cdc in extraer_cdc(d):\n",
    "        for i, fila in enumerate(d):\n",
    "            d[i][0] = d[0][0]\n",
    "            d[i][1] = d[0][1]\n",
    "            d[i][2] = cdc\n",
    "        datos_formateados.append(deepcopy(d))"
   ],
   "metadata": {
    "collapsed": false,
    "ExecuteTime": {
     "end_time": "2023-05-30T21:31:13.756070Z",
     "start_time": "2023-05-30T21:31:13.747347Z"
    }
   }
  },
  {
   "cell_type": "code",
   "execution_count": 13,
   "outputs": [
    {
     "data": {
      "text/plain": "[0, 4]"
     },
     "execution_count": 13,
     "metadata": {},
     "output_type": "execute_result"
    }
   ],
   "source": [
    "datos_formateados"
   ],
   "metadata": {
    "collapsed": false,
    "ExecuteTime": {
     "end_time": "2023-05-30T23:33:00.761696Z",
     "start_time": "2023-05-30T23:33:00.747995Z"
    }
   }
  },
  {
   "cell_type": "code",
   "execution_count": 15,
   "outputs": [
    {
     "data": {
      "text/plain": "[['Estrategia 2', 'cod 2', 'cdc 3', '105'],\n ['', '', 'cdc 2', '102'],\n ['', '', '', '106'],\n ['', '', '', '107']]"
     },
     "execution_count": 15,
     "metadata": {},
     "output_type": "execute_result"
    }
   ],
   "source": [
    "datos_formateados = [fila for estrategia in datos_formateados for fila in estrategia]"
   ],
   "metadata": {
    "collapsed": false,
    "ExecuteTime": {
     "end_time": "2023-05-30T23:40:59.962190Z",
     "start_time": "2023-05-30T23:40:59.955166Z"
    }
   }
  },
  {
   "cell_type": "code",
   "execution_count": 16,
   "outputs": [],
   "source": [
    "datos_formateados"
   ],
   "metadata": {
    "collapsed": false,
    "ExecuteTime": {
     "end_time": "2023-05-30T23:41:11.995383Z",
     "start_time": "2023-05-30T23:41:11.983771Z"
    }
   }
  },
  {
   "cell_type": "code",
   "execution_count": 20,
   "outputs": [
    {
     "data": {
      "text/plain": "[[['Estrategia 1', 'cod 1', 'cdc 1', '101'],\n  ['', '', 'cdc 2', '102'],\n  ['', '', '', '103'],\n  ['', '', '', '104']],\n [['Estrategia 2', 'cod 2', 'cdc 3', '105'],\n  ['', '', 'cdc 2', '102'],\n  ['', '', '', '106'],\n  ['', '', '', '107']]]"
     },
     "execution_count": 20,
     "metadata": {},
     "output_type": "execute_result"
    }
   ],
   "source": [
    "with open('problema_de_formateo_resuelto.csv', 'w') as archivo:\n",
    "    lineas = []\n",
    "    for linea in datos_formateados:\n",
    "        lineas.append(','.join(linea))\n",
    "\n",
    "    archivo_en_string = '\\n'.join(lineas)\n",
    "    archivo.write(archivo_en_string)"
   ],
   "metadata": {
    "collapsed": false,
    "ExecuteTime": {
     "end_time": "2023-05-30T23:43:20.533537Z",
     "start_time": "2023-05-30T23:43:20.524105Z"
    }
   }
  },
  {
   "cell_type": "markdown",
   "source": [
    "# Utilizando pandas"
   ],
   "metadata": {
    "collapsed": false,
    "ExecuteTime": {
     "end_time": "2023-05-30T23:43:28.242467Z",
     "start_time": "2023-05-30T23:43:28.239073Z"
    }
   },
   "outputs": [
    {
     "data": {
      "text/plain": "['cdc 1', 'cdc 2']"
     },
     "execution_count": 21,
     "metadata": {},
     "output_type": "execute_result"
    }
   ],
   "execution_count": 21
  },
  {
   "cell_type": "code",
   "execution_count": 22,
   "outputs": [],
   "source": [
    "import pandas as pd"
   ],
   "metadata": {
    "collapsed": false,
    "ExecuteTime": {
     "end_time": "2023-05-30T23:45:16.796449Z",
     "start_time": "2023-05-30T23:45:16.791463Z"
    }
   }
  },
  {
   "cell_type": "code",
   "execution_count": 23,
   "outputs": [],
   "source": [
    "df = pd.read_csv('problema_de_formateo.csv')"
   ],
   "metadata": {
    "collapsed": false,
    "ExecuteTime": {
     "end_time": "2023-05-30T23:46:12.927314Z",
     "start_time": "2023-05-30T23:46:12.923774Z"
    }
   }
  },
  {
   "cell_type": "code",
   "execution_count": 24,
   "outputs": [],
   "source": [
    "df"
   ],
   "metadata": {
    "collapsed": false
   }
  },
  {
   "cell_type": "code",
   "execution_count": 25,
   "outputs": [
    {
     "data": {
      "text/plain": "[[['Estrategia 1', 'cod 1', 'cdc 1', '101'],\n  ['Estrategia 1', 'cod 1', 'cdc 1', '102'],\n  ['Estrategia 1', 'cod 1', 'cdc 1', '103'],\n  ['Estrategia 1', 'cod 1', 'cdc 1', '104']],\n [['Estrategia 1', 'cod 1', 'cdc 2', '101'],\n  ['Estrategia 1', 'cod 1', 'cdc 2', '102'],\n  ['Estrategia 1', 'cod 1', 'cdc 2', '103'],\n  ['Estrategia 1', 'cod 1', 'cdc 2', '104']],\n [['Estrategia 2', 'cod 2', 'cdc 3', '105'],\n  ['Estrategia 2', 'cod 2', 'cdc 3', '102'],\n  ['Estrategia 2', 'cod 2', 'cdc 3', '106'],\n  ['Estrategia 2', 'cod 2', 'cdc 3', '107']],\n [['Estrategia 2', 'cod 2', 'cdc 2', '105'],\n  ['Estrategia 2', 'cod 2', 'cdc 2', '102'],\n  ['Estrategia 2', 'cod 2', 'cdc 2', '106'],\n  ['Estrategia 2', 'cod 2', 'cdc 2', '107']]]"
     },
     "execution_count": 25,
     "metadata": {},
     "output_type": "execute_result"
    }
   ],
   "source": [
    "strategy_index = df[df['estrategia'].notna()].index"
   ],
   "metadata": {
    "collapsed": false,
    "ExecuteTime": {
     "end_time": "2023-05-31T00:03:49.975194Z",
     "start_time": "2023-05-31T00:03:49.972638Z"
    }
   }
  },
  {
   "cell_type": "code",
   "execution_count": 27,
   "outputs": [],
   "source": [
    "dfs = []\n",
    "for i in range(len(strategy_index) - 1):\n",
    "    dfs.append(df.loc[strategy_index[i]:strategy_index[i + 1] - 1])\n",
    "dfs.append(df.loc[strategy_index[-1]:])"
   ],
   "metadata": {
    "collapsed": false,
    "ExecuteTime": {
     "end_time": "2023-05-31T00:06:01.915516Z",
     "start_time": "2023-05-31T00:06:01.909949Z"
    }
   }
  },
  {
   "cell_type": "code",
   "execution_count": 29,
   "outputs": [
    {
     "data": {
      "text/plain": "[['Estrategia 1', 'cod 1', 'cdc 1', '101'],\n ['Estrategia 1', 'cod 1', 'cdc 1', '102'],\n ['Estrategia 1', 'cod 1', 'cdc 1', '103'],\n ['Estrategia 1', 'cod 1', 'cdc 1', '104'],\n ['Estrategia 1', 'cod 1', 'cdc 2', '101'],\n ['Estrategia 1', 'cod 1', 'cdc 2', '102'],\n ['Estrategia 1', 'cod 1', 'cdc 2', '103'],\n ['Estrategia 1', 'cod 1', 'cdc 2', '104'],\n ['Estrategia 2', 'cod 2', 'cdc 3', '105'],\n ['Estrategia 2', 'cod 2', 'cdc 3', '102'],\n ['Estrategia 2', 'cod 2', 'cdc 3', '106'],\n ['Estrategia 2', 'cod 2', 'cdc 3', '107'],\n ['Estrategia 2', 'cod 2', 'cdc 2', '105'],\n ['Estrategia 2', 'cod 2', 'cdc 2', '102'],\n ['Estrategia 2', 'cod 2', 'cdc 2', '106'],\n ['Estrategia 2', 'cod 2', 'cdc 2', '107']]"
     },
     "execution_count": 29,
     "metadata": {},
     "output_type": "execute_result"
    }
   ],
   "source": [
    "dfs[0]"
   ],
   "metadata": {
    "collapsed": false,
    "ExecuteTime": {
     "end_time": "2023-05-31T00:06:23.769855Z",
     "start_time": "2023-05-31T00:06:23.765122Z"
    }
   }
  },
  {
   "cell_type": "code",
   "execution_count": 30,
   "outputs": [],
   "source": [
    "dfs[1]"
   ],
   "metadata": {
    "collapsed": false,
    "ExecuteTime": {
     "end_time": "2023-05-31T00:06:24.921883Z",
     "start_time": "2023-05-31T00:06:24.910160Z"
    }
   }
  },
  {
   "cell_type": "code",
   "execution_count": null,
   "outputs": [],
   "source": [
    "dfs[0].fillna(method='ffill')"
   ],
   "metadata": {
    "collapsed": false
   }
  },
  {
   "cell_type": "code",
   "execution_count": 31,
   "outputs": [
    {
     "ename": "TypeError",
     "evalue": "unsupported operand type(s) for -: 'str' and 'str'",
     "output_type": "error",
     "traceback": [
      "\u001B[0;31m---------------------------------------------------------------------------\u001B[0m",
      "\u001B[0;31mTypeError\u001B[0m                                 Traceback (most recent call last)",
      "Cell \u001B[0;32mIn[31], line 1\u001B[0m\n\u001B[0;32m----> 1\u001B[0m \u001B[38;5;124;43m'\u001B[39;49m\u001B[38;5;124;43ma\u001B[39;49m\u001B[38;5;124;43m'\u001B[39;49m\u001B[43m \u001B[49m\u001B[38;5;241;43m-\u001B[39;49m\u001B[43m \u001B[49m\u001B[38;5;124;43m'\u001B[39;49m\u001B[38;5;124;43mb\u001B[39;49m\u001B[38;5;124;43m'\u001B[39;49m\n",
      "\u001B[0;31mTypeError\u001B[0m: unsupported operand type(s) for -: 'str' and 'str'"
     ]
    }
   ],
   "source": [
    "dfs_out = []\n",
    "for df in dfs:\n",
    "    for cdc in df['cuenta_de_cobro'].dropna().unique():\n",
    "        df = df.fillna(method='ffill')\n",
    "        df['cuenta_de_cobro'] = cdc\n",
    "        dfs_out.append(df)\n",
    "\n",
    "df_out = pd.concat(dfs_out)"
   ],
   "metadata": {
    "collapsed": false,
    "ExecuteTime": {
     "end_time": "2023-05-31T00:10:36.160239Z",
     "start_time": "2023-05-31T00:10:36.054312Z"
    }
   }
  },
  {
   "cell_type": "code",
   "execution_count": 32,
   "outputs": [
    {
     "name": "stdout",
     "output_type": "stream",
     "text": [
      "No se pueden restar dos strings\n"
     ]
    }
   ],
   "source": [
    "df_out.to_csv('ready.csv', index=False)"
   ],
   "metadata": {
    "collapsed": false,
    "ExecuteTime": {
     "end_time": "2023-05-31T00:11:19.890062Z",
     "start_time": "2023-05-31T00:11:19.884242Z"
    }
   }
  },
  {
   "cell_type": "code",
   "execution_count": 1,
   "outputs": [
    {
     "ename": "TypeError",
     "evalue": "unsupported operand type(s) for -: 'str' and 'str'",
     "output_type": "error",
     "traceback": [
      "\u001B[0;31m---------------------------------------------------------------------------\u001B[0m",
      "\u001B[0;31mTypeError\u001B[0m                                 Traceback (most recent call last)",
      "Cell \u001B[0;32mIn[1], line 2\u001B[0m\n\u001B[1;32m      1\u001B[0m \u001B[38;5;28;01mtry\u001B[39;00m:\n\u001B[0;32m----> 2\u001B[0m     \u001B[38;5;124;43m'\u001B[39;49m\u001B[38;5;124;43ma\u001B[39;49m\u001B[38;5;124;43m'\u001B[39;49m\u001B[43m \u001B[49m\u001B[38;5;241;43m-\u001B[39;49m\u001B[43m \u001B[49m\u001B[38;5;124;43m'\u001B[39;49m\u001B[38;5;124;43mb\u001B[39;49m\u001B[38;5;124;43m'\u001B[39;49m\n\u001B[1;32m      3\u001B[0m \u001B[38;5;28;01mexcept\u001B[39;00m \u001B[38;5;167;01mSyntaxError\u001B[39;00m:\n\u001B[1;32m      4\u001B[0m     \u001B[38;5;28mprint\u001B[39m(\u001B[38;5;124m'\u001B[39m\u001B[38;5;124mNo se pueden restar dos strings\u001B[39m\u001B[38;5;124m'\u001B[39m)\n",
      "\u001B[0;31mTypeError\u001B[0m: unsupported operand type(s) for -: 'str' and 'str'"
     ]
    }
   ],
   "source": [
    "df_out"
   ],
   "metadata": {
    "collapsed": false,
    "ExecuteTime": {
     "end_time": "2023-05-31T00:14:12.970254Z",
     "start_time": "2023-05-31T00:14:12.862679Z"
    }
   }
  }
 ]
}
