{
 "cells": [
  {
   "cell_type": "markdown",
   "source": [
    "# Programación orientada a objetos\n",
    "\n",
    "Página 64 del pdf: Intro to python for computer science\n",
    "- Casi cualquier sustantivo se puede representar como un objeto en python.\n",
    "- En términos de **atributos** y **comportamientos**\n",
    "- [https://realpython.com/python-classes/](https://realpython.com/python-classes/)"
   ],
   "metadata": {
    "collapsed": false
   }
  },
  {
   "cell_type": "code",
   "execution_count": 1,
   "outputs": [],
   "source": [
    "class Car:\n",
    "    def __init__(self, make, model, year, color):\n",
    "        self.make = make\n",
    "        self.model = model\n",
    "        self.year = year\n",
    "        self.color = color\n",
    "        self.started = False\n",
    "        self.speed = 0\n",
    "        self.max_speed = 200\n",
    "\n",
    "    def start(self):\n",
    "        print(\"Starting the car...\")\n",
    "        self.started = True\n",
    "\n",
    "    def stop(self):\n",
    "        print(\"Stopping the car...\")\n",
    "        self.started = False\n",
    "\n",
    "    def accelerate(self, value):\n",
    "        if not self.started:\n",
    "            print(\"Car is not started!\")\n",
    "            return\n",
    "        if self.speed + value <= self.max_speed:\n",
    "            self.speed += value\n",
    "        else:\n",
    "            self.speed = self.max_speed\n",
    "        print(f\"Accelerating to {self.speed} km/h...\")\n",
    "\n",
    "    def brake(self, value):\n",
    "        if self.speed - value >= 0:\n",
    "            self.speed -= value\n",
    "        else:\n",
    "            self.speed = 0\n",
    "        print(f\"Braking to {self.speed} km/h...\")"
   ],
   "metadata": {
    "collapsed": false,
    "ExecuteTime": {
     "end_time": "2023-06-01T23:18:08.325827Z",
     "start_time": "2023-06-01T23:18:08.322445Z"
    }
   }
  },
  {
   "cell_type": "code",
   "execution_count": 3,
   "outputs": [],
   "source": [
    "toyota_camry = Car(\"Toyota\", \"Camry\", 2022, \"Red\")"
   ],
   "metadata": {
    "collapsed": false,
    "ExecuteTime": {
     "end_time": "2023-06-01T23:21:11.716983Z",
     "start_time": "2023-06-01T23:21:11.706839Z"
    }
   }
  },
  {
   "cell_type": "code",
   "execution_count": 4,
   "outputs": [
    {
     "data": {
      "text/plain": "'Toyota'"
     },
     "execution_count": 4,
     "metadata": {},
     "output_type": "execute_result"
    }
   ],
   "source": [
    "toyota_camry.make"
   ],
   "metadata": {
    "collapsed": false,
    "ExecuteTime": {
     "end_time": "2023-06-01T23:21:21.609853Z",
     "start_time": "2023-06-01T23:21:21.603615Z"
    }
   }
  },
  {
   "cell_type": "code",
   "execution_count": 5,
   "outputs": [
    {
     "data": {
      "text/plain": "'Camry'"
     },
     "execution_count": 5,
     "metadata": {},
     "output_type": "execute_result"
    }
   ],
   "source": [
    "toyota_camry.model"
   ],
   "metadata": {
    "collapsed": false,
    "ExecuteTime": {
     "end_time": "2023-06-01T23:21:23.339772Z",
     "start_time": "2023-06-01T23:21:23.325192Z"
    }
   }
  },
  {
   "cell_type": "code",
   "execution_count": 6,
   "outputs": [
    {
     "data": {
      "text/plain": "'Red'"
     },
     "execution_count": 6,
     "metadata": {},
     "output_type": "execute_result"
    }
   ],
   "source": [
    "toyota_camry.color"
   ],
   "metadata": {
    "collapsed": false,
    "ExecuteTime": {
     "end_time": "2023-06-01T23:21:25.673557Z",
     "start_time": "2023-06-01T23:21:25.661848Z"
    }
   }
  },
  {
   "cell_type": "code",
   "execution_count": 7,
   "outputs": [
    {
     "data": {
      "text/plain": "0"
     },
     "execution_count": 7,
     "metadata": {},
     "output_type": "execute_result"
    }
   ],
   "source": [
    "toyota_camry.speed"
   ],
   "metadata": {
    "collapsed": false,
    "ExecuteTime": {
     "end_time": "2023-06-01T23:21:32.145724Z",
     "start_time": "2023-06-01T23:21:32.139638Z"
    }
   }
  },
  {
   "cell_type": "code",
   "execution_count": 8,
   "outputs": [],
   "source": [
    "ford_mustang = Car(\"Ford\", \"Mustang\", 2022, \"Black\")"
   ],
   "metadata": {
    "collapsed": false,
    "ExecuteTime": {
     "end_time": "2023-06-01T23:21:59.013325Z",
     "start_time": "2023-06-01T23:21:59.007745Z"
    }
   }
  },
  {
   "cell_type": "code",
   "execution_count": 9,
   "outputs": [
    {
     "data": {
      "text/plain": "'Ford'"
     },
     "execution_count": 9,
     "metadata": {},
     "output_type": "execute_result"
    }
   ],
   "source": [
    "ford_mustang.make"
   ],
   "metadata": {
    "collapsed": false,
    "ExecuteTime": {
     "end_time": "2023-06-01T23:22:01.897288Z",
     "start_time": "2023-06-01T23:22:01.892651Z"
    }
   }
  },
  {
   "cell_type": "code",
   "execution_count": 10,
   "outputs": [
    {
     "data": {
      "text/plain": "'Mustang'"
     },
     "execution_count": 10,
     "metadata": {},
     "output_type": "execute_result"
    }
   ],
   "source": [
    "ford_mustang.model"
   ],
   "metadata": {
    "collapsed": false,
    "ExecuteTime": {
     "end_time": "2023-06-01T23:22:03.510040Z",
     "start_time": "2023-06-01T23:22:03.505138Z"
    }
   }
  },
  {
   "cell_type": "code",
   "execution_count": 11,
   "outputs": [
    {
     "data": {
      "text/plain": "2022"
     },
     "execution_count": 11,
     "metadata": {},
     "output_type": "execute_result"
    }
   ],
   "source": [
    "ford_mustang.year"
   ],
   "metadata": {
    "collapsed": false,
    "ExecuteTime": {
     "end_time": "2023-06-01T23:22:05.821504Z",
     "start_time": "2023-06-01T23:22:05.817131Z"
    }
   }
  },
  {
   "cell_type": "code",
   "execution_count": 12,
   "outputs": [
    {
     "data": {
      "text/plain": "200"
     },
     "execution_count": 12,
     "metadata": {},
     "output_type": "execute_result"
    }
   ],
   "source": [
    "ford_mustang.max_speed"
   ],
   "metadata": {
    "collapsed": false,
    "ExecuteTime": {
     "end_time": "2023-06-01T23:22:07.225185Z",
     "start_time": "2023-06-01T23:22:07.219609Z"
    }
   }
  },
  {
   "cell_type": "code",
   "execution_count": 14,
   "outputs": [
    {
     "name": "stdout",
     "output_type": "stream",
     "text": [
      "Starting the car...\n",
      "Accelerating to 100 km/h...\n",
      "Braking to 50 km/h...\n",
      "Braking to 50 km/h...\n",
      "Stopping the car...\n",
      "Car is not started!\n"
     ]
    }
   ],
   "source": [
    "ford_mustang.start()\n",
    "ford_mustang.accelerate(100)\n",
    "ford_mustang.brake(50)\n",
    "ford_mustang.brake(0)\n",
    "ford_mustang.stop()\n",
    "ford_mustang.accelerate(100)"
   ],
   "metadata": {
    "collapsed": false,
    "ExecuteTime": {
     "end_time": "2023-06-01T23:25:29.504207Z",
     "start_time": "2023-06-01T23:25:29.495157Z"
    }
   }
  },
  {
   "cell_type": "code",
   "execution_count": 18,
   "outputs": [],
   "source": [
    "class Vehicle:\n",
    "    can_jump = False\n",
    "\n",
    "    def __init__(self, make, model, year):\n",
    "        self.make = make\n",
    "        self.model = model\n",
    "        self.year = year\n",
    "        self._started = False\n",
    "\n",
    "    def start(self):\n",
    "        print(\"Starting engine...\")\n",
    "        self._started = True\n",
    "\n",
    "    def stop(self):\n",
    "        print(\"Stopping engine...\")\n",
    "        self._started = False\n",
    "\n",
    "    def jump(self):\n",
    "        if self.can_jump:\n",
    "            print(\"Jumping...\")\n",
    "        else:\n",
    "            raise ValueError(f\"Vehicle of type {type(self)} can't jump\")\n",
    "\n",
    "\n",
    "class Car(Vehicle):\n",
    "    def __init__(self, make, model, year, num_seats):\n",
    "        super().__init__(make, model, year)\n",
    "        self.num_seats = num_seats\n",
    "\n",
    "    def drive(self):\n",
    "        print(f'Driving my \"{self.make} - {self.model}\" on the road')\n",
    "\n",
    "    def __str__(self):\n",
    "        return f'\"{self.make} - {self.model}\" has {self.num_seats} seats'\n",
    "\n",
    "\n",
    "class Motorcycle(Vehicle):\n",
    "    def __init__(self, make, model, year, num_wheels):\n",
    "        super().__init__(make, model, year)\n",
    "        self.num_wheels = num_wheels\n",
    "\n",
    "    def ride(self):\n",
    "        print(f'Riding my \"{self.make} - {self.model}\" on the road')\n",
    "\n",
    "    def __str__(self):\n",
    "        return f'\"{self.make} - {self.model}\" has {self.num_wheels} wheels'\n",
    "\n",
    "\n",
    "class Horse(Vehicle):\n",
    "    can_jump = True\n",
    "\n",
    "    def __init__(self, model, year):\n",
    "        super().__init__(None, model, year)"
   ],
   "metadata": {
    "collapsed": false,
    "ExecuteTime": {
     "end_time": "2023-06-01T23:47:46.178258Z",
     "start_time": "2023-06-01T23:47:46.173882Z"
    }
   }
  },
  {
   "cell_type": "code",
   "execution_count": 19,
   "outputs": [],
   "source": [
    "toyota_prado = Car('Toyota', 'Prado', 2006, 5)"
   ],
   "metadata": {
    "collapsed": false,
    "ExecuteTime": {
     "end_time": "2023-06-01T23:47:52.716812Z",
     "start_time": "2023-06-01T23:47:52.712506Z"
    }
   }
  },
  {
   "cell_type": "code",
   "execution_count": 20,
   "outputs": [
    {
     "ename": "ValueError",
     "evalue": "Vehicle of type <class '__main__.Car'> can't jump",
     "output_type": "error",
     "traceback": [
      "\u001B[0;31m---------------------------------------------------------------------------\u001B[0m",
      "\u001B[0;31mValueError\u001B[0m                                Traceback (most recent call last)",
      "Cell \u001B[0;32mIn[20], line 1\u001B[0m\n\u001B[0;32m----> 1\u001B[0m \u001B[43mtoyota_prado\u001B[49m\u001B[38;5;241;43m.\u001B[39;49m\u001B[43mjump\u001B[49m\u001B[43m(\u001B[49m\u001B[43m)\u001B[49m\n",
      "Cell \u001B[0;32mIn[18], line 22\u001B[0m, in \u001B[0;36mVehicle.jump\u001B[0;34m(self)\u001B[0m\n\u001B[1;32m     20\u001B[0m     \u001B[38;5;28mprint\u001B[39m(\u001B[38;5;124m\"\u001B[39m\u001B[38;5;124mJumping...\u001B[39m\u001B[38;5;124m\"\u001B[39m)\n\u001B[1;32m     21\u001B[0m \u001B[38;5;28;01melse\u001B[39;00m:\n\u001B[0;32m---> 22\u001B[0m     \u001B[38;5;28;01mraise\u001B[39;00m \u001B[38;5;167;01mValueError\u001B[39;00m(\u001B[38;5;124mf\u001B[39m\u001B[38;5;124m\"\u001B[39m\u001B[38;5;124mVehicle of type \u001B[39m\u001B[38;5;132;01m{\u001B[39;00m\u001B[38;5;28mtype\u001B[39m(\u001B[38;5;28mself\u001B[39m)\u001B[38;5;132;01m}\u001B[39;00m\u001B[38;5;124m can\u001B[39m\u001B[38;5;124m'\u001B[39m\u001B[38;5;124mt jump\u001B[39m\u001B[38;5;124m\"\u001B[39m)\n",
      "\u001B[0;31mValueError\u001B[0m: Vehicle of type <class '__main__.Car'> can't jump"
     ]
    }
   ],
   "source": [
    "toyota_prado.jump()"
   ],
   "metadata": {
    "collapsed": false,
    "ExecuteTime": {
     "end_time": "2023-06-01T23:47:53.200400Z",
     "start_time": "2023-06-01T23:47:53.197458Z"
    }
   }
  },
  {
   "cell_type": "code",
   "execution_count": 21,
   "outputs": [],
   "source": [
    "caballito = Horse('Paso fino', 2015)"
   ],
   "metadata": {
    "collapsed": false,
    "ExecuteTime": {
     "end_time": "2023-06-01T23:49:06.023725Z",
     "start_time": "2023-06-01T23:49:06.018512Z"
    }
   }
  },
  {
   "cell_type": "code",
   "execution_count": 22,
   "outputs": [
    {
     "data": {
      "text/plain": "True"
     },
     "execution_count": 22,
     "metadata": {},
     "output_type": "execute_result"
    }
   ],
   "source": [
    "caballito.can_jump"
   ],
   "metadata": {
    "collapsed": false,
    "ExecuteTime": {
     "end_time": "2023-06-01T23:49:13.098886Z",
     "start_time": "2023-06-01T23:49:13.084569Z"
    }
   }
  },
  {
   "cell_type": "code",
   "execution_count": 23,
   "outputs": [],
   "source": [
    "caballito.make"
   ],
   "metadata": {
    "collapsed": false,
    "ExecuteTime": {
     "end_time": "2023-06-01T23:49:23.789516Z",
     "start_time": "2023-06-01T23:49:23.784192Z"
    }
   }
  },
  {
   "cell_type": "code",
   "execution_count": 24,
   "outputs": [
    {
     "name": "stdout",
     "output_type": "stream",
     "text": [
      "Jumping...\n"
     ]
    }
   ],
   "source": [
    "caballito.jump()"
   ],
   "metadata": {
    "collapsed": false,
    "ExecuteTime": {
     "end_time": "2023-06-01T23:49:41.190349Z",
     "start_time": "2023-06-01T23:49:41.179339Z"
    }
   }
  },
  {
   "cell_type": "code",
   "execution_count": 25,
   "outputs": [],
   "source": [
    "import pandas as pd"
   ],
   "metadata": {
    "collapsed": false,
    "ExecuteTime": {
     "end_time": "2023-06-01T23:54:13.286182Z",
     "start_time": "2023-06-01T23:54:13.006502Z"
    }
   }
  },
  {
   "cell_type": "code",
   "execution_count": 28,
   "outputs": [],
   "source": [
    "df = pd.DataFrame({'id': [1, 2, 3, 3], 'valor_total': [10, 20, 5, 5]})"
   ],
   "metadata": {
    "collapsed": false,
    "ExecuteTime": {
     "end_time": "2023-06-02T00:02:37.306144Z",
     "start_time": "2023-06-02T00:02:37.300272Z"
    }
   }
  },
  {
   "cell_type": "code",
   "execution_count": 29,
   "outputs": [
    {
     "data": {
      "text/plain": "   id  valor_total\n0   1           10\n1   2           20\n2   3            5\n3   3            5",
      "text/html": "<div>\n<style scoped>\n    .dataframe tbody tr th:only-of-type {\n        vertical-align: middle;\n    }\n\n    .dataframe tbody tr th {\n        vertical-align: top;\n    }\n\n    .dataframe thead th {\n        text-align: right;\n    }\n</style>\n<table border=\"1\" class=\"dataframe\">\n  <thead>\n    <tr style=\"text-align: right;\">\n      <th></th>\n      <th>id</th>\n      <th>valor_total</th>\n    </tr>\n  </thead>\n  <tbody>\n    <tr>\n      <th>0</th>\n      <td>1</td>\n      <td>10</td>\n    </tr>\n    <tr>\n      <th>1</th>\n      <td>2</td>\n      <td>20</td>\n    </tr>\n    <tr>\n      <th>2</th>\n      <td>3</td>\n      <td>5</td>\n    </tr>\n    <tr>\n      <th>3</th>\n      <td>3</td>\n      <td>5</td>\n    </tr>\n  </tbody>\n</table>\n</div>"
     },
     "execution_count": 29,
     "metadata": {},
     "output_type": "execute_result"
    }
   ],
   "source": [
    "df"
   ],
   "metadata": {
    "collapsed": false,
    "ExecuteTime": {
     "end_time": "2023-06-02T00:02:37.702820Z",
     "start_time": "2023-06-02T00:02:37.699573Z"
    }
   }
  },
  {
   "cell_type": "code",
   "execution_count": 32,
   "outputs": [
    {
     "data": {
      "text/plain": "   id  valor_total\n0   1           10\n1   2           20\n2   3            5",
      "text/html": "<div>\n<style scoped>\n    .dataframe tbody tr th:only-of-type {\n        vertical-align: middle;\n    }\n\n    .dataframe tbody tr th {\n        vertical-align: top;\n    }\n\n    .dataframe thead th {\n        text-align: right;\n    }\n</style>\n<table border=\"1\" class=\"dataframe\">\n  <thead>\n    <tr style=\"text-align: right;\">\n      <th></th>\n      <th>id</th>\n      <th>valor_total</th>\n    </tr>\n  </thead>\n  <tbody>\n    <tr>\n      <th>0</th>\n      <td>1</td>\n      <td>10</td>\n    </tr>\n    <tr>\n      <th>1</th>\n      <td>2</td>\n      <td>20</td>\n    </tr>\n    <tr>\n      <th>2</th>\n      <td>3</td>\n      <td>5</td>\n    </tr>\n  </tbody>\n</table>\n</div>"
     },
     "execution_count": 32,
     "metadata": {},
     "output_type": "execute_result"
    }
   ],
   "source": [
    "df.drop_duplicates()"
   ],
   "metadata": {
    "collapsed": false,
    "ExecuteTime": {
     "end_time": "2023-06-02T00:03:13.792184Z",
     "start_time": "2023-06-02T00:03:13.786492Z"
    }
   }
  },
  {
   "cell_type": "code",
   "execution_count": 31,
   "outputs": [
    {
     "data": {
      "text/plain": "   id  valor_total\n0   1           10\n1   2           20\n2   3            5\n3   3            5",
      "text/html": "<div>\n<style scoped>\n    .dataframe tbody tr th:only-of-type {\n        vertical-align: middle;\n    }\n\n    .dataframe tbody tr th {\n        vertical-align: top;\n    }\n\n    .dataframe thead th {\n        text-align: right;\n    }\n</style>\n<table border=\"1\" class=\"dataframe\">\n  <thead>\n    <tr style=\"text-align: right;\">\n      <th></th>\n      <th>id</th>\n      <th>valor_total</th>\n    </tr>\n  </thead>\n  <tbody>\n    <tr>\n      <th>0</th>\n      <td>1</td>\n      <td>10</td>\n    </tr>\n    <tr>\n      <th>1</th>\n      <td>2</td>\n      <td>20</td>\n    </tr>\n    <tr>\n      <th>2</th>\n      <td>3</td>\n      <td>5</td>\n    </tr>\n    <tr>\n      <th>3</th>\n      <td>3</td>\n      <td>5</td>\n    </tr>\n  </tbody>\n</table>\n</div>"
     },
     "execution_count": 31,
     "metadata": {},
     "output_type": "execute_result"
    }
   ],
   "source": [
    "df"
   ],
   "metadata": {
    "collapsed": false,
    "ExecuteTime": {
     "end_time": "2023-06-02T00:02:55.179940Z",
     "start_time": "2023-06-02T00:02:55.173966Z"
    }
   }
  },
  {
   "cell_type": "code",
   "execution_count": null,
   "outputs": [],
   "source": [],
   "metadata": {
    "collapsed": false
   }
  }
 ],
 "metadata": {
  "kernelspec": {
   "display_name": "Python 3",
   "language": "python",
   "name": "python3"
  },
  "language_info": {
   "codemirror_mode": {
    "name": "ipython",
    "version": 2
   },
   "file_extension": ".py",
   "mimetype": "text/x-python",
   "name": "python",
   "nbconvert_exporter": "python",
   "pygments_lexer": "ipython2",
   "version": "2.7.6"
  }
 },
 "nbformat": 4,
 "nbformat_minor": 0
}
