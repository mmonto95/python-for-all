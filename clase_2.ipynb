{
 "cells": [
  {
   "cell_type": "markdown",
   "source": [
    "# Condicionales"
   ],
   "metadata": {
    "collapsed": false
   }
  },
  {
   "cell_type": "code",
   "execution_count": null,
   "outputs": [],
   "source": [
    "x = 3\n",
    "y = 4\n",
    "if x == y:\n",
    "    print('El 5 es igual al 4')\n",
    "    print('Hola')\n",
    "    if y == 4:\n",
    "        print('Hola 2')\n",
    "    else:\n",
    "        print(25)\n",
    "elif x == 3:\n",
    "    print(15)\n",
    "else:\n",
    "    print(10)\n",
    "\n",
    "print('Chao')"
   ],
   "metadata": {
    "collapsed": false
   }
  },
  {
   "cell_type": "code",
   "execution_count": 4,
   "outputs": [
    {
     "name": "stdout",
     "output_type": "stream",
     "text": [
      "El 5 es igual al 4\n",
      "Hola\n",
      "Hola 2\n",
      "15\n",
      "Chao\n"
     ]
    }
   ],
   "source": [
    "x = 3\n",
    "y = 4\n",
    "if x == 3:\n",
    "    print('El 5 es igual al 4')\n",
    "    print('Hola')\n",
    "    if y == 4:\n",
    "        print('Hola 2')\n",
    "    else:\n",
    "        print(25)\n",
    "# elif x == 3:\n",
    "if x == 3:\n",
    "    print(15)\n",
    "else:\n",
    "    print(10)\n",
    "\n",
    "print('Chao')"
   ],
   "metadata": {
    "collapsed": false
   }
  },
  {
   "cell_type": "markdown",
   "source": [
    "# Exercise 34: Even or Odd?\n",
    "Write a program that reads an integer from the user. Then your program should display a message indicating whether the integer is even or odd."
   ],
   "metadata": {
    "collapsed": false
   }
  },
  {
   "cell_type": "code",
   "execution_count": 6,
   "outputs": [
    {
     "name": "stdout",
     "output_type": "stream",
     "text": [
      "El número es par\n"
     ]
    }
   ],
   "source": [
    "a = int(input('Número entero: '))\n",
    "if a % 2 == 0:\n",
    "    print('El número es par')\n",
    "else:\n",
    "    print('El número es impar')\n"
   ],
   "metadata": {
    "collapsed": false
   }
  },
  {
   "cell_type": "markdown",
   "source": [
    "# Exercise 35: Dog Years\n",
    "As a result, some people believe that it is better to count each of the first two\n",
    "human years as 10.5 dog years, and then count each additional human year as 4 dog years.\n",
    "\n",
    "Write a program that implements the conversion from human years to dog years\n",
    "described in the previous paragraph. Ensure that your program works correctly for\n",
    "conversions of less than two human years and for conversions of two or more human\n",
    "years. Your program should display an appropriate error message if the user enters\n",
    "a negative number."
   ],
   "metadata": {
    "collapsed": false
   }
  },
  {
   "cell_type": "code",
   "execution_count": 12,
   "outputs": [
    {
     "name": "stdout",
     "output_type": "stream",
     "text": [
      "Edad humana del perro: 33.0\n"
     ]
    }
   ],
   "source": [
    "edad_real_del_perro = int(input('Edad real del perro: '))\n",
    "\n",
    "if 0 <= edad_real_del_perro < 2:\n",
    "    print('Edad humana del perro:', edad_real_del_perro * 10.5)\n",
    "elif edad_real_del_perro >= 2:\n",
    "    print(\n",
    "        'Edad humana del perro:',\n",
    "        2 * 10.5 + (edad_real_del_perro - 2) * 4\n",
    "    )\n",
    "else:\n",
    "    print('Error. No hay edades negativas')"
   ],
   "metadata": {
    "collapsed": false
   }
  },
  {
   "cell_type": "markdown",
   "source": [
    "# Exercise 36:Vowel or Consonant\n",
    "In this exercise you will create a program that reads a letter of the alphabet from the\n",
    "user. If the user enters a, e, i, o or u then your program should display a message\n",
    "indicating that the entered letter is a vowel. If the user enters y then your program\n",
    "should display a message indicating that sometimes y is a vowel, and sometimes y is\n",
    "a consonant. Otherwise your program should display a message indicating that the\n",
    "letter is a consonant."
   ],
   "metadata": {
    "collapsed": false
   }
  },
  {
   "cell_type": "code",
   "execution_count": 3,
   "outputs": [
    {
     "name": "stdout",
     "output_type": "stream",
     "text": [
      "Algunas veces \"y\" es una vocal y una consonante\n"
     ]
    }
   ],
   "source": [
    "letra = (input('Letra a evaluar: '))\n",
    "\n",
    "if letra == 'a' or letra == 'e' or letra == 'i' or letra == 'o' or letra == 'u':\n",
    "    print('La letra es una vocal')\n",
    "elif letra == 'y':\n",
    "    print('Algunas veces \"y\" es una vocal y una consonante')\n",
    "else:\n",
    "    print(f'La letra {letra} es una consonante')"
   ],
   "metadata": {
    "collapsed": false
   }
  },
  {
   "cell_type": "code",
   "execution_count": 6,
   "outputs": [
    {
     "name": "stdout",
     "output_type": "stream",
     "text": [
      "La letra introducida es una consonante.\n"
     ]
    }
   ],
   "source": [
    "letra = input(\"Introduce una letra: \")\n",
    "\n",
    "if letra in ['a', 'e', 'i', 'o', 'u']:\n",
    "    print(\"La letra introducida es una vocal.\")\n",
    "elif letra == 'y':\n",
    "    print(\"A veces y es una vocal, y a veces es una consonante.\")\n",
    "else:\n",
    "    print(\"La letra introducida es una consonante.\")"
   ],
   "metadata": {
    "collapsed": false
   }
  },
  {
   "cell_type": "code",
   "execution_count": null,
   "outputs": [],
   "source": [
    "# Este código no funciona manera correcta\n",
    "letra = input(\"Introduce una letra: \")\n",
    "\n",
    "if letra == 'a' or 'e' or  'i' or  'o' or  'u':\n",
    "    print('La letra es una vocal')\n",
    "elif letra == 'y':\n",
    "    print('Algunas veces \"y\" es una vocal y una consonante')\n",
    "else:\n",
    "    print(f'La letra {letra} es una consonante')"
   ],
   "metadata": {
    "collapsed": false
   }
  },
  {
   "cell_type": "code",
   "execution_count": 22,
   "outputs": [
    {
     "name": "stdout",
     "output_type": "stream",
     "text": [
      "False\n",
      "True\n",
      "False\n",
      "True\n",
      "A\n",
      "a\n",
      "1\n",
      "14\n"
     ]
    }
   ],
   "source": [
    "x = 'a'\n",
    "\n",
    "print(x.isupper())\n",
    "print(x.islower())\n",
    "print(x.isdigit())\n",
    "print(x.isalpha())\n",
    "print(x.upper())\n",
    "print(x.upper().lower())\n",
    "\n",
    "print(len(x))\n",
    "x = 'aisdfjdsakfjas'\n",
    "print(len(x))"
   ],
   "metadata": {
    "collapsed": false
   }
  },
  {
   "cell_type": "code",
   "execution_count": 23,
   "outputs": [
    {
     "name": "stdout",
     "output_type": "stream",
     "text": [
      "Ingresaste más de un caracter\n"
     ]
    }
   ],
   "source": [
    "letra = input(\"Introduce una letra: \")\n",
    "letra = letra.lower()\n",
    "\n",
    "if len(letra) > 1:\n",
    "    print('Ingresaste más de un caracter')\n",
    "elif not letra.isalpha():\n",
    "    print(f'El caracter \"{letra}\" no es una letra')\n",
    "elif letra in ['a', 'e', 'i', 'o', 'u']:\n",
    "    print(\"La letra introducida es una vocal.\")\n",
    "elif letra == 'y':\n",
    "    print(\"A veces y es una vocal, y a veces es una consonante.\")\n",
    "else:\n",
    "    print(\"La letra introducida es una consonante.\")"
   ],
   "metadata": {
    "collapsed": false
   }
  },
  {
   "cell_type": "markdown",
   "source": [
    "# Contenedores\n",
    "\n",
    "Son tipos de datos más complejos que los que vimos inicialmente.\n",
    "- Lista, `list`, []\n",
    "- Tupla, `tuple`, ()\n",
    "- Conjunto, `set`, {}\n",
    "- Diccionario, `dict`, {\"a\": 1}"
   ],
   "metadata": {
    "collapsed": false
   }
  },
  {
   "cell_type": "markdown",
   "source": [
    "## Lista\n",
    "- Es **mutable**"
   ],
   "metadata": {
    "collapsed": false
   }
  },
  {
   "cell_type": "code",
   "execution_count": 24,
   "outputs": [
    {
     "name": "stdout",
     "output_type": "stream",
     "text": [
      "[1, 2, 3, 4, 5]\n"
     ]
    }
   ],
   "source": [
    "mi_primera_lista = [1, 2, 3, 4, 5]\n",
    "print(mi_primera_lista)"
   ],
   "metadata": {
    "collapsed": false
   }
  },
  {
   "cell_type": "code",
   "execution_count": 25,
   "outputs": [
    {
     "data": {
      "text/plain": "[1, 'hola', 3, 'holahola', 4]"
     },
     "execution_count": 25,
     "metadata": {},
     "output_type": "execute_result"
    }
   ],
   "source": [
    "x = 'hola'\n",
    "[1, x, 3, x * 2, 4]"
   ],
   "metadata": {
    "collapsed": false
   }
  },
  {
   "cell_type": "code",
   "execution_count": 26,
   "outputs": [
    {
     "data": {
      "text/plain": "1"
     },
     "execution_count": 26,
     "metadata": {},
     "output_type": "execute_result"
    }
   ],
   "source": [
    "mi_primera_lista[0]"
   ],
   "metadata": {
    "collapsed": false
   }
  },
  {
   "cell_type": "code",
   "execution_count": 27,
   "outputs": [
    {
     "data": {
      "text/plain": "5"
     },
     "execution_count": 27,
     "metadata": {},
     "output_type": "execute_result"
    }
   ],
   "source": [
    "mi_primera_lista[4]"
   ],
   "metadata": {
    "collapsed": false
   }
  },
  {
   "cell_type": "code",
   "execution_count": 28,
   "outputs": [
    {
     "ename": "IndexError",
     "evalue": "list index out of range",
     "output_type": "error",
     "traceback": [
      "\u001B[0;31m---------------------------------------------------------------------------\u001B[0m",
      "\u001B[0;31mIndexError\u001B[0m                                Traceback (most recent call last)",
      "Cell \u001B[0;32mIn[28], line 1\u001B[0m\n\u001B[0;32m----> 1\u001B[0m \u001B[43mmi_primera_lista\u001B[49m\u001B[43m[\u001B[49m\u001B[38;5;241;43m5\u001B[39;49m\u001B[43m]\u001B[49m\n",
      "\u001B[0;31mIndexError\u001B[0m: list index out of range"
     ]
    }
   ],
   "source": [
    "mi_primera_lista[5]"
   ],
   "metadata": {
    "collapsed": false
   }
  },
  {
   "cell_type": "code",
   "execution_count": 29,
   "outputs": [
    {
     "data": {
      "text/plain": "['Hola', 2, 3, 4, 5]"
     },
     "execution_count": 29,
     "metadata": {},
     "output_type": "execute_result"
    }
   ],
   "source": [
    "mi_primera_lista[0] = 'Hola'\n",
    "mi_primera_lista"
   ],
   "metadata": {
    "collapsed": false
   }
  },
  {
   "cell_type": "code",
   "execution_count": 30,
   "outputs": [
    {
     "data": {
      "text/plain": "['Hola', 2, 3, 4, 5, 'Hola', 2, 3, 4, 5]"
     },
     "execution_count": 30,
     "metadata": {},
     "output_type": "execute_result"
    }
   ],
   "source": [
    "mi_primera_lista + mi_primera_lista"
   ],
   "metadata": {
    "collapsed": false
   }
  },
  {
   "cell_type": "code",
   "execution_count": 31,
   "outputs": [
    {
     "name": "stdout",
     "output_type": "stream",
     "text": [
      "5\n",
      "10\n"
     ]
    }
   ],
   "source": [
    "print(len(mi_primera_lista))\n",
    "print(len(mi_primera_lista + mi_primera_lista))"
   ],
   "metadata": {
    "collapsed": false
   }
  },
  {
   "cell_type": "code",
   "execution_count": 33,
   "outputs": [
    {
     "data": {
      "text/plain": "['Hola', 2, 3, 4, 5, 'Hola', 2, 3, 4, 5]"
     },
     "execution_count": 33,
     "metadata": {},
     "output_type": "execute_result"
    }
   ],
   "source": [
    "mi_primera_lista * 2"
   ],
   "metadata": {
    "collapsed": false
   }
  },
  {
   "cell_type": "code",
   "execution_count": 34,
   "outputs": [
    {
     "ename": "TypeError",
     "evalue": "unsupported operand type(s) for -: 'list' and 'list'",
     "output_type": "error",
     "traceback": [
      "\u001B[0;31m---------------------------------------------------------------------------\u001B[0m",
      "\u001B[0;31mTypeError\u001B[0m                                 Traceback (most recent call last)",
      "Cell \u001B[0;32mIn[34], line 1\u001B[0m\n\u001B[0;32m----> 1\u001B[0m \u001B[43mmi_primera_lista\u001B[49m\u001B[43m \u001B[49m\u001B[38;5;241;43m-\u001B[39;49m\u001B[43m \u001B[49m\u001B[43mmi_primera_lista\u001B[49m\n",
      "\u001B[0;31mTypeError\u001B[0m: unsupported operand type(s) for -: 'list' and 'list'"
     ]
    }
   ],
   "source": [
    "mi_primera_lista - mi_primera_lista"
   ],
   "metadata": {
    "collapsed": false
   }
  },
  {
   "cell_type": "code",
   "execution_count": 36,
   "outputs": [
    {
     "data": {
      "text/plain": "1"
     },
     "execution_count": 36,
     "metadata": {},
     "output_type": "execute_result"
    }
   ],
   "source": [
    "mi_primera_lista.count(3)"
   ],
   "metadata": {
    "collapsed": false
   }
  },
  {
   "cell_type": "code",
   "execution_count": 37,
   "outputs": [
    {
     "data": {
      "text/plain": "0"
     },
     "execution_count": 37,
     "metadata": {},
     "output_type": "execute_result"
    }
   ],
   "source": [
    "mi_primera_lista.count(6)"
   ],
   "metadata": {
    "collapsed": false
   }
  },
  {
   "cell_type": "code",
   "execution_count": 38,
   "outputs": [],
   "source": [
    "lista_vacia = []"
   ],
   "metadata": {
    "collapsed": false
   }
  },
  {
   "cell_type": "code",
   "execution_count": 39,
   "outputs": [
    {
     "ename": "IndexError",
     "evalue": "list assignment index out of range",
     "output_type": "error",
     "traceback": [
      "\u001B[0;31m---------------------------------------------------------------------------\u001B[0m",
      "\u001B[0;31mIndexError\u001B[0m                                Traceback (most recent call last)",
      "Cell \u001B[0;32mIn[39], line 1\u001B[0m\n\u001B[0;32m----> 1\u001B[0m \u001B[43mlista_vacia\u001B[49m\u001B[43m[\u001B[49m\u001B[38;5;241;43m0\u001B[39;49m\u001B[43m]\u001B[49m \u001B[38;5;241m=\u001B[39m \u001B[38;5;124m'\u001B[39m\u001B[38;5;124mHola\u001B[39m\u001B[38;5;124m'\u001B[39m\n",
      "\u001B[0;31mIndexError\u001B[0m: list assignment index out of range"
     ]
    }
   ],
   "source": [
    "lista_vacia[0] = 'Hola'"
   ],
   "metadata": {
    "collapsed": false
   }
  },
  {
   "cell_type": "code",
   "execution_count": 40,
   "outputs": [
    {
     "data": {
      "text/plain": "[1]"
     },
     "execution_count": 40,
     "metadata": {},
     "output_type": "execute_result"
    }
   ],
   "source": [
    "lista_vacia.append(1)\n",
    "lista_vacia"
   ],
   "metadata": {
    "collapsed": false
   }
  },
  {
   "cell_type": "code",
   "execution_count": 42,
   "outputs": [
    {
     "data": {
      "text/plain": "'Hola'"
     },
     "execution_count": 42,
     "metadata": {},
     "output_type": "execute_result"
    }
   ],
   "source": [
    "lista_vacia[0] = 'Hola'\n",
    "lista_vacia[0]"
   ],
   "metadata": {
    "collapsed": false
   }
  },
  {
   "cell_type": "code",
   "execution_count": 47,
   "outputs": [
    {
     "name": "stdout",
     "output_type": "stream",
     "text": [
      "[1, 2, 3, 4, 5]\n",
      "[1, 2, 3, 4, 5, 6]\n"
     ]
    }
   ],
   "source": [
    "l = [1, 2, 3, 4, 5]\n",
    "print(l)\n",
    "l.append(6)\n",
    "print(l)"
   ],
   "metadata": {
    "collapsed": false
   }
  },
  {
   "cell_type": "code",
   "execution_count": 46,
   "outputs": [
    {
     "name": "stdout",
     "output_type": "stream",
     "text": [
      "None\n"
     ]
    }
   ],
   "source": [
    "b = None\n",
    "print(b)"
   ],
   "metadata": {
    "collapsed": false
   }
  },
  {
   "cell_type": "code",
   "execution_count": 48,
   "outputs": [
    {
     "data": {
      "text/plain": "'None'"
     },
     "execution_count": 48,
     "metadata": {},
     "output_type": "execute_result"
    }
   ],
   "source": [
    "str(b)"
   ],
   "metadata": {
    "collapsed": false
   }
  },
  {
   "cell_type": "code",
   "execution_count": 49,
   "outputs": [
    {
     "data": {
      "text/plain": "range(0, 10)"
     },
     "execution_count": 49,
     "metadata": {},
     "output_type": "execute_result"
    }
   ],
   "source": [
    "range(10)"
   ],
   "metadata": {
    "collapsed": false
   }
  },
  {
   "cell_type": "code",
   "execution_count": 50,
   "outputs": [
    {
     "data": {
      "text/plain": "range(1, 11)"
     },
     "execution_count": 50,
     "metadata": {},
     "output_type": "execute_result"
    }
   ],
   "source": [
    "range(1, 11)"
   ],
   "metadata": {
    "collapsed": false
   }
  },
  {
   "cell_type": "code",
   "execution_count": 51,
   "outputs": [
    {
     "data": {
      "text/plain": "[0, 1, 2, 3, 4, 5, 6, 7, 8, 9]"
     },
     "execution_count": 51,
     "metadata": {},
     "output_type": "execute_result"
    }
   ],
   "source": [
    "lista_0_9 = list(range(10))\n",
    "lista_0_9"
   ],
   "metadata": {
    "collapsed": false
   }
  },
  {
   "cell_type": "code",
   "execution_count": 52,
   "outputs": [
    {
     "data": {
      "text/plain": "[1, 2, 3, 4, 5, 6, 7, 8, 9, 10]"
     },
     "execution_count": 52,
     "metadata": {},
     "output_type": "execute_result"
    }
   ],
   "source": [
    "lista_1_10 = list(range(1, 11))\n",
    "lista_1_10"
   ],
   "metadata": {
    "collapsed": false
   }
  },
  {
   "cell_type": "code",
   "execution_count": 53,
   "outputs": [
    {
     "data": {
      "text/plain": "[1, 3, 5, 7, 9]"
     },
     "execution_count": 53,
     "metadata": {},
     "output_type": "execute_result"
    }
   ],
   "source": [
    "lista2 = list(range(1, 11, 2))\n",
    "lista2"
   ],
   "metadata": {
    "collapsed": false
   }
  },
  {
   "cell_type": "code",
   "execution_count": 54,
   "outputs": [
    {
     "ename": "TypeError",
     "evalue": "'str' object cannot be interpreted as an integer",
     "output_type": "error",
     "traceback": [
      "\u001B[0;31m---------------------------------------------------------------------------\u001B[0m",
      "\u001B[0;31mTypeError\u001B[0m                                 Traceback (most recent call last)",
      "Cell \u001B[0;32mIn[54], line 1\u001B[0m\n\u001B[0;32m----> 1\u001B[0m \u001B[38;5;28;43mrange\u001B[39;49m\u001B[43m(\u001B[49m\u001B[38;5;124;43m'\u001B[39;49m\u001B[38;5;124;43ma\u001B[39;49m\u001B[38;5;124;43m'\u001B[39;49m\u001B[43m,\u001B[49m\u001B[43m \u001B[49m\u001B[38;5;124;43m'\u001B[39;49m\u001B[38;5;124;43mz\u001B[39;49m\u001B[38;5;124;43m'\u001B[39;49m\u001B[43m)\u001B[49m\n",
      "\u001B[0;31mTypeError\u001B[0m: 'str' object cannot be interpreted as an integer"
     ]
    }
   ],
   "source": [
    "range('a', 'z')"
   ],
   "metadata": {
    "collapsed": false
   }
  },
  {
   "cell_type": "markdown",
   "source": [
    "# Exercise 45:What Color is that Square?\n",
    "Positions on a chess board are identified by a letter and a number. The letter identifies\n",
    "the column, while the number identifies the row, as shown below:\n",
    "Write a program that reads a position from the user. Use an if statement to determine if the column begins with a black square or a white square. Then use modular\n",
    "arithmetic to report the color of the square in that row. For example, if the user enters\n",
    "a1 then your program should report that the square is black. If the user enters d5\n",
    "then your program should report that the square is white. Your program may assume\n",
    "that a valid position will always be entered. It does not need to perform any error\n",
    "checking."
   ],
   "metadata": {
    "collapsed": false
   }
  },
  {
   "cell_type": "code",
   "execution_count": 55,
   "outputs": [],
   "source": [
    "cuadro = 'a8'"
   ],
   "metadata": {
    "collapsed": false
   }
  },
  {
   "cell_type": "code",
   "execution_count": 56,
   "outputs": [
    {
     "data": {
      "text/plain": "'a'"
     },
     "execution_count": 56,
     "metadata": {},
     "output_type": "execute_result"
    }
   ],
   "source": [
    "cuadro[0]"
   ],
   "metadata": {
    "collapsed": false
   }
  },
  {
   "cell_type": "code",
   "execution_count": 57,
   "outputs": [
    {
     "data": {
      "text/plain": "'8'"
     },
     "execution_count": 57,
     "metadata": {},
     "output_type": "execute_result"
    }
   ],
   "source": [
    "cuadro[1]"
   ],
   "metadata": {
    "collapsed": false
   }
  },
  {
   "cell_type": "code",
   "execution_count": 61,
   "outputs": [
    {
     "name": "stdout",
     "output_type": "stream",
     "text": [
      "La celda es negra\n"
     ]
    }
   ],
   "source": [
    "cuadro = input('Elige una celda (letra-número): ')\n",
    "\n",
    "letra = cuadro[0]\n",
    "numero = int(cuadro[1])\n",
    "letras_negras = ['b', 'd', 'f', 'h']\n",
    "\n",
    "if numero % 2 == 0:\n",
    "    if letra in letras_negras:\n",
    "        print('La celda es negra')\n",
    "    else:\n",
    "        print('La celda es blanca')\n",
    "else:\n",
    "    if letra in letras_negras:\n",
    "        print('La celda es blanca')\n",
    "    else:\n",
    "        print('La celda es negra')"
   ],
   "metadata": {
    "collapsed": false
   }
  },
  {
   "cell_type": "markdown",
   "source": [
    "## Tupla\n",
    "- Es **inmutable**\n",
    "- Se puede pensar como una lista, pero que no se puede modificar."
   ],
   "metadata": {
    "collapsed": false
   }
  },
  {
   "cell_type": "code",
   "execution_count": 62,
   "outputs": [],
   "source": [
    "mi_primera_tupla = (1, 2, 3, 4, 5)"
   ],
   "metadata": {
    "collapsed": false
   }
  },
  {
   "cell_type": "code",
   "execution_count": 63,
   "outputs": [
    {
     "data": {
      "text/plain": "4"
     },
     "execution_count": 63,
     "metadata": {},
     "output_type": "execute_result"
    }
   ],
   "source": [
    "mi_primera_tupla[3]"
   ],
   "metadata": {
    "collapsed": false
   }
  },
  {
   "cell_type": "code",
   "execution_count": 64,
   "outputs": [
    {
     "ename": "TypeError",
     "evalue": "'tuple' object does not support item assignment",
     "output_type": "error",
     "traceback": [
      "\u001B[0;31m---------------------------------------------------------------------------\u001B[0m",
      "\u001B[0;31mTypeError\u001B[0m                                 Traceback (most recent call last)",
      "Cell \u001B[0;32mIn[64], line 1\u001B[0m\n\u001B[0;32m----> 1\u001B[0m \u001B[43mmi_primera_tupla\u001B[49m\u001B[43m[\u001B[49m\u001B[38;5;241;43m0\u001B[39;49m\u001B[43m]\u001B[49m \u001B[38;5;241m=\u001B[39m \u001B[38;5;124m'\u001B[39m\u001B[38;5;124mHola\u001B[39m\u001B[38;5;124m'\u001B[39m\n",
      "\u001B[0;31mTypeError\u001B[0m: 'tuple' object does not support item assignment"
     ]
    }
   ],
   "source": [
    "mi_primera_tupla[0] = 'Hola'"
   ],
   "metadata": {
    "collapsed": false
   }
  },
  {
   "cell_type": "code",
   "execution_count": 65,
   "outputs": [],
   "source": [
    "t = ('hola', 1, 2)"
   ],
   "metadata": {
    "collapsed": false
   }
  },
  {
   "cell_type": "code",
   "execution_count": 66,
   "outputs": [
    {
     "data": {
      "text/plain": "('hola', 1, 2)"
     },
     "execution_count": 66,
     "metadata": {},
     "output_type": "execute_result"
    }
   ],
   "source": [
    "t"
   ],
   "metadata": {
    "collapsed": false
   }
  },
  {
   "cell_type": "code",
   "execution_count": 67,
   "outputs": [
    {
     "data": {
      "text/plain": "['__add__',\n '__class__',\n '__class_getitem__',\n '__contains__',\n '__delattr__',\n '__dir__',\n '__doc__',\n '__eq__',\n '__format__',\n '__ge__',\n '__getattribute__',\n '__getitem__',\n '__getnewargs__',\n '__gt__',\n '__hash__',\n '__init__',\n '__init_subclass__',\n '__iter__',\n '__le__',\n '__len__',\n '__lt__',\n '__mul__',\n '__ne__',\n '__new__',\n '__reduce__',\n '__reduce_ex__',\n '__repr__',\n '__rmul__',\n '__setattr__',\n '__sizeof__',\n '__str__',\n '__subclasshook__',\n 'count',\n 'index']"
     },
     "execution_count": 67,
     "metadata": {},
     "output_type": "execute_result"
    }
   ],
   "source": [
    "dir(t)"
   ],
   "metadata": {
    "collapsed": false
   }
  },
  {
   "cell_type": "code",
   "execution_count": 68,
   "outputs": [
    {
     "data": {
      "text/plain": "1"
     },
     "execution_count": 68,
     "metadata": {},
     "output_type": "execute_result"
    }
   ],
   "source": [
    "t.count('hola')"
   ],
   "metadata": {
    "collapsed": false
   }
  },
  {
   "cell_type": "code",
   "execution_count": 70,
   "outputs": [
    {
     "name": "stdout",
     "output_type": "stream",
     "text": [
      "La celda es negra\n"
     ]
    }
   ],
   "source": [
    "cuadro = 'd4'\n",
    "\n",
    "letra = cuadro[0]\n",
    "numero = int(cuadro[1])\n",
    "letras_negras = ('b', 'd', 'f', 'h')\n",
    "\n",
    "if numero % 2 == 0:\n",
    "    if letra in letras_negras:\n",
    "        print('La celda es negra')\n",
    "    else:\n",
    "        print('La celda es blanca')\n",
    "else:\n",
    "    if letra in letras_negras:\n",
    "        print('La celda es blanca')\n",
    "    else:\n",
    "        print('La celda es negra')"
   ],
   "metadata": {
    "collapsed": false
   }
  },
  {
   "cell_type": "code",
   "execution_count": 71,
   "outputs": [
    {
     "data": {
      "text/plain": "('hola', 1, 2, 'hola', 1, 2)"
     },
     "execution_count": 71,
     "metadata": {},
     "output_type": "execute_result"
    }
   ],
   "source": [
    "t + t"
   ],
   "metadata": {
    "collapsed": false
   }
  },
  {
   "cell_type": "code",
   "execution_count": 72,
   "outputs": [
    {
     "data": {
      "text/plain": "('hola', 1, 2, 'hola', 1, 2, 'hola', 1, 2)"
     },
     "execution_count": 72,
     "metadata": {},
     "output_type": "execute_result"
    }
   ],
   "source": [
    "t * 3"
   ],
   "metadata": {
    "collapsed": false
   }
  },
  {
   "cell_type": "code",
   "execution_count": 73,
   "outputs": [
    {
     "data": {
      "text/plain": "(0, 1, 2, 3, 4, 5, 6, 7, 8, 9)"
     },
     "execution_count": 73,
     "metadata": {},
     "output_type": "execute_result"
    }
   ],
   "source": [
    "tuple(range(10))"
   ],
   "metadata": {
    "collapsed": false
   }
  },
  {
   "cell_type": "code",
   "execution_count": 77,
   "outputs": [
    {
     "data": {
      "text/plain": "3"
     },
     "execution_count": 77,
     "metadata": {},
     "output_type": "execute_result"
    }
   ],
   "source": [
    "len(t)"
   ],
   "metadata": {
    "collapsed": false
   }
  },
  {
   "cell_type": "markdown",
   "source": [
    "## Conjuntos\n",
    "- No permiten elementos repetidos"
   ],
   "metadata": {
    "collapsed": false
   }
  },
  {
   "cell_type": "code",
   "execution_count": 74,
   "outputs": [
    {
     "name": "stdout",
     "output_type": "stream",
     "text": [
      "[0, 0, 0, 1]\n",
      "{0, 1}\n"
     ]
    }
   ],
   "source": [
    "lista = [0, 0, 0, 1]\n",
    "conjunto = {0, 0 , 0, 1}\n",
    "print(lista)\n",
    "print(conjunto)"
   ],
   "metadata": {
    "collapsed": false
   }
  },
  {
   "cell_type": "code",
   "execution_count": 75,
   "outputs": [
    {
     "data": {
      "text/plain": "{0, 1}"
     },
     "execution_count": 75,
     "metadata": {},
     "output_type": "execute_result"
    }
   ],
   "source": [
    "set(lista)"
   ],
   "metadata": {
    "collapsed": false
   }
  },
  {
   "cell_type": "code",
   "execution_count": 76,
   "outputs": [
    {
     "data": {
      "text/plain": "[0, 1]"
     },
     "execution_count": 76,
     "metadata": {},
     "output_type": "execute_result"
    }
   ],
   "source": [
    "list(set(lista))"
   ],
   "metadata": {
    "collapsed": false
   }
  },
  {
   "cell_type": "code",
   "execution_count": 78,
   "outputs": [
    {
     "data": {
      "text/plain": "2"
     },
     "execution_count": 78,
     "metadata": {},
     "output_type": "execute_result"
    }
   ],
   "source": [
    "len(conjunto)"
   ],
   "metadata": {
    "collapsed": false
   }
  },
  {
   "cell_type": "code",
   "execution_count": 79,
   "outputs": [
    {
     "name": "stdout",
     "output_type": "stream",
     "text": [
      "{2}\n"
     ]
    }
   ],
   "source": [
    "a = {1, 2}\n",
    "b = {2, 3}\n",
    "c = b.intersection(a)\n",
    "print(c)"
   ],
   "metadata": {
    "collapsed": false
   }
  },
  {
   "cell_type": "code",
   "execution_count": 81,
   "outputs": [
    {
     "data": {
      "text/plain": "{1, 2, 3}"
     },
     "execution_count": 81,
     "metadata": {},
     "output_type": "execute_result"
    }
   ],
   "source": [
    "a.union(b)"
   ],
   "metadata": {
    "collapsed": false
   }
  },
  {
   "cell_type": "code",
   "execution_count": 82,
   "outputs": [
    {
     "name": "stdout",
     "output_type": "stream",
     "text": [
      "set()\n"
     ]
    }
   ],
   "source": [
    "a = {1, 2}\n",
    "b = {0, 3}\n",
    "c = b.intersection(a)\n",
    "print(c)"
   ],
   "metadata": {
    "collapsed": false
   }
  },
  {
   "cell_type": "code",
   "execution_count": 84,
   "outputs": [
    {
     "data": {
      "text/plain": "set()"
     },
     "execution_count": 84,
     "metadata": {},
     "output_type": "execute_result"
    }
   ],
   "source": [
    "set({})"
   ],
   "metadata": {
    "collapsed": false
   }
  },
  {
   "cell_type": "code",
   "execution_count": 115,
   "outputs": [],
   "source": [
    "import numpy as np"
   ],
   "metadata": {
    "collapsed": false
   }
  },
  {
   "cell_type": "code",
   "execution_count": 85,
   "outputs": [],
   "source": [
    "from random import randint"
   ],
   "metadata": {
    "collapsed": false
   }
  },
  {
   "cell_type": "code",
   "execution_count": 114,
   "outputs": [
    {
     "data": {
      "text/plain": "9"
     },
     "execution_count": 114,
     "metadata": {},
     "output_type": "execute_result"
    }
   ],
   "source": [
    "randint(0, 10)"
   ],
   "metadata": {
    "collapsed": false
   }
  },
  {
   "cell_type": "code",
   "execution_count": 117,
   "outputs": [
    {
     "data": {
      "text/plain": "[4,\n 3,\n 4,\n 5,\n 1,\n 7,\n 1,\n 2,\n 6,\n 1,\n 4,\n 2,\n 5,\n 7,\n 6,\n 8,\n 6,\n 5,\n 6,\n 9,\n 9,\n 8,\n 8,\n 1,\n 8,\n 1,\n 3,\n 2,\n 8,\n 7,\n 7,\n 4,\n 4,\n 8,\n 1,\n 5,\n 5,\n 5,\n 1,\n 3,\n 8,\n 7,\n 6,\n 7,\n 1,\n 4,\n 8,\n 2,\n 5,\n 8,\n 0,\n 6,\n 4,\n 5,\n 0,\n 2,\n 5,\n 3,\n 0,\n 8,\n 2,\n 9,\n 8,\n 9,\n 9,\n 3,\n 3,\n 5,\n 7,\n 0,\n 1,\n 7,\n 6,\n 2,\n 0,\n 4,\n 1,\n 6,\n 4,\n 7,\n 8,\n 0,\n 1,\n 6,\n 6,\n 9,\n 2,\n 1,\n 3,\n 8,\n 4,\n 3,\n 3,\n 8,\n 7,\n 6,\n 2,\n 9,\n 5,\n 4]"
     },
     "execution_count": 117,
     "metadata": {},
     "output_type": "execute_result"
    }
   ],
   "source": [
    "np.random.randint(0, 10, 100).tolist()"
   ],
   "metadata": {
    "collapsed": false
   }
  },
  {
   "cell_type": "markdown",
   "source": [
    "# Exercise 60: Roulette Payouts\n"
   ],
   "metadata": {
    "collapsed": false
   }
  },
  {
   "cell_type": "markdown",
   "source": [
    "### Pedro"
   ],
   "metadata": {
    "collapsed": false
   }
  },
  {
   "cell_type": "code",
   "execution_count": 2,
   "outputs": [
    {
     "name": "stdout",
     "output_type": "stream",
     "text": [
      "La pelota cayó en la posición:  27\n",
      "Paga: Rojo Paga: Impar Paga: 19 a 36\n"
     ]
    }
   ],
   "source": [
    "from random import randint\n",
    "\n",
    "\n",
    "Apuesta = int(input('Introduzca su selección para apostar: '))\n",
    "\n",
    "# Suerte = randint(0 , 36)\n",
    "Suerte = randint(-1 , 36)\n",
    "print('La pelota cayó en la posición: ', Suerte)\n",
    "\n",
    "if Suerte == -1:\n",
    "  print( 'Paga: 00')\n",
    "\n",
    "elif Suerte == 0:\n",
    "  print( 'Paga: 0')\n",
    "\n",
    "elif Suerte == Apuesta and Suerte in ( 1,3, 5, 7, 9, 12, 14, 16, 18, 19, 21, 23, 25, 27, 30, 32, 34 , 36) and Suerte % 2 == 0 and 1 < Suerte < 18:\n",
    "  print('Paga: ', Apuesta , 'Paga: Rojo' , 'Paga: Par', 'Paga: 1 a 18')\n",
    "\n",
    "elif Suerte == Apuesta and Suerte in ( 1,3, 5, 7, 9, 12, 14, 16, 18, 19, 21, 23, 25, 27, 30, 32, 34 , 36) and Suerte % 2 == 0 and Suerte > 18:\n",
    "  print('Paga: ', Apuesta , 'Paga: Rojo' , 'Paga: Par', 'Paga: 19 a 36')\n",
    "\n",
    "elif Suerte == Apuesta and Suerte in ( 1,3, 5, 7, 9, 12, 14, 16, 18, 19, 21, 23, 25, 27, 30, 32, 34 , 36) and Suerte % 2 != 0 and 1 < Suerte < 18:\n",
    "  print('Paga: ', Apuesta , 'Paga: Rojo' , 'Paga: Impar', 'Paga: 1 a 18')\n",
    "\n",
    "elif Suerte == Apuesta and Suerte in ( 1,3, 5, 7, 9, 12, 14, 16, 18, 19, 21, 23, 25, 27, 30, 32, 34 , 36) and Suerte % 2 != 0 and Suerte > 18:\n",
    "  print('Paga: ', Apuesta , 'Paga: Rojo' , 'Paga: Impar', 'Paga: 19 a 36')\n",
    "\n",
    "elif Suerte != Apuesta and Suerte in ( 1,3, 5, 7, 9, 12, 14, 16, 18, 19, 21, 23, 25, 27, 30, 32, 34 , 36) and Suerte % 2 == 0 and 1 < Suerte < 18:\n",
    "  print('Paga: Rojo' , 'Paga: par' , 'Paga: 1 a 18')\n",
    "\n",
    "elif Suerte != Apuesta and Suerte in ( 1,3, 5, 7, 9, 12, 14, 16, 18, 19, 21, 23, 25, 27, 30, 32, 34 , 36) and Suerte % 2 == 0 and Suerte > 18:\n",
    "  print('Paga: Rojo' , 'Paga: par', 'Paga: 19 a 36')\n",
    "\n",
    "elif Suerte != Apuesta and Suerte in ( 1,3, 5, 7, 9, 12, 14, 16, 18, 19, 21, 23, 25, 27, 30, 32, 34 , 36) and Suerte % 2 != 0 and 1 < Suerte < 18:\n",
    "  print('Paga: Rojo' , 'Paga: Impar', 'Paga: 1 a 18')\n",
    "\n",
    "elif Suerte != Apuesta and Suerte in ( 1,3, 5, 7, 9, 12, 14, 16, 18, 19, 21, 23, 25, 27, 30, 32, 34 , 36) and Suerte % 2 != 0 and Suerte > 18:\n",
    "  print('Paga: Rojo' , 'Paga: Impar', 'Paga: 19 a 36')\n",
    "\n",
    "elif Suerte == Apuesta and Suerte in ( 2, 4, 6, 8, 10, 11, 13, 15, 17, 20, 22, 24, 26, 28, 29, 31, 33 , 35) and Suerte % 2 == 0 and 1 < Suerte < 18:\n",
    "  print('Paga: ', Apuesta , 'Paga: Negro' , 'Paga: Par', 'Paga: 1 a 18')\n",
    "\n",
    "elif Suerte == Apuesta and Suerte in ( 2, 4, 6, 8, 10, 11, 13, 15, 17, 20, 22, 24, 26, 28, 29, 31, 33 , 35) and Suerte % 2 == 0 and Suerte > 18:\n",
    "  print('Paga: ', Apuesta , 'Paga: Negro' , 'Paga: Par' , 'Paga: 19 a 36')\n",
    "\n",
    "elif Suerte == Apuesta and Suerte in ( 2, 4, 6, 8, 10, 11, 13, 15, 17, 20, 22, 24, 26, 28, 29, 31, 33 , 35) and Suerte % 2 != 0 and 1 < Suerte < 18:\n",
    "  print('Paga: ', Apuesta , 'Paga: Negro' , 'Paga: Impar' , 'Paga: 1 a 18')\n",
    "\n",
    "elif Suerte == Apuesta and Suerte in ( 2, 4, 6, 8, 10, 11, 13, 15, 17, 20, 22, 24, 26, 28, 29, 31, 33 , 35) and Suerte % 2 != 0 and Suerte > 18:\n",
    "  print('Paga: ', Apuesta , 'Paga: Negro' , 'Paga: Impar'  , 'Paga: 19 a 36')\n",
    "\n",
    "elif Suerte != Apuesta and Suerte in ( 2, 4, 6, 8, 10, 11, 13, 15, 17, 20, 22, 24, 26, 28, 29, 31, 33 , 35) and Suerte % 2 == 0 and 1 < Suerte < 18:\n",
    "  print('Paga: Negro' , 'Paga: par' , 'Paga: 1 a 18')\n",
    "\n",
    "elif Suerte != Apuesta and Suerte in ( 2, 4, 6, 8, 10, 11, 13, 15, 17, 20, 22, 24, 26, 28, 29, 31, 33 , 35) and Suerte % 2 == 0 and Suerte > 18:\n",
    "  print('Paga: Negro' , 'Paga: par', 'Paga: 19 a 36')\n",
    "\n",
    "elif Suerte != Apuesta and Suerte in ( 2, 4, 6, 8, 10, 11, 13, 15, 17, 20, 22, 24, 26, 28, 29, 31, 33 , 35) and Suerte % 2 != 0 and 1 < Suerte < 18:\n",
    "  print('Paga: Negro' , 'Paga: Impar', 'Paga: 1 a 18')\n",
    "\n",
    "elif Suerte != Apuesta and Suerte in ( 2, 4, 6, 8, 10, 11, 13, 15, 17, 20, 22, 24, 26, 28, 29, 31, 33 , 35) and Suerte % 2 != 0 and Suerte > 18:\n",
    "  print('Paga: Negro' , 'Paga: Impar' , 'Paga: 19 a 36')"
   ],
   "metadata": {
    "collapsed": false
   }
  },
  {
   "cell_type": "markdown",
   "source": [
    "### Paula"
   ],
   "metadata": {
    "collapsed": false
   }
  },
  {
   "cell_type": "code",
   "execution_count": null,
   "outputs": [],
   "source": [
    "from random import randint\n",
    "\n",
    "numero_aleatorio = randint(0, 37)\n",
    "if numero_aleatorio == 37:\n",
    "    print('El giro resultó en: 00')\n",
    "    print('Paga: 00')\n",
    "else:\n",
    "    print('El giro resultó en: ' + str(numero_aleatorio))\n",
    "    print('Paga: ' + str(numero_aleatorio))\n",
    "\n",
    "verdes = [0, 37]\n",
    "rojos = [1, 3, 5, 7, 9, 12, 14, 16, 18, 19, 21, 23, 25, 27, 30, 32, 34, 36]\n",
    "\n",
    "if numero_aleatorio in verdes:\n",
    "    print('')\n",
    "elif numero_aleatorio in rojos:\n",
    "    print('Paga: Rojo')\n",
    "else:\n",
    "    print('Paga: Negro')\n",
    "\n",
    "if numero_aleatorio in verdes:\n",
    "    print('')\n",
    "elif numero_aleatorio % 2 == 0:\n",
    "    print('Paga: Par')\n",
    "else:\n",
    "    print('Paga: Impar')\n",
    "\n",
    "if numero_aleatorio in verdes:\n",
    "    print('')\n",
    "elif numero_aleatorio <= 18:\n",
    "    print('Paga del 1 al 18')\n",
    "else:\n",
    "    print('Paga del 19 al 36')"
   ],
   "metadata": {
    "collapsed": false
   }
  },
  {
   "cell_type": "markdown",
   "source": [
    "### Modificación Paula"
   ],
   "metadata": {
    "collapsed": false
   }
  },
  {
   "cell_type": "code",
   "execution_count": 96,
   "outputs": [
    {
     "name": "stdout",
     "output_type": "stream",
     "text": [
      "El giro resultó en: 29\n",
      "Paga: 29\n",
      "Paga: Negro\n",
      "Paga: Impar\n",
      "Paga del 19 al 36\n"
     ]
    }
   ],
   "source": [
    "from random import randint\n",
    "\n",
    "numero_aleatorio = randint(0, 37)\n",
    "if numero_aleatorio == 37:\n",
    "    print('El giro resultó en: 00')\n",
    "    print('Paga: 00')\n",
    "else:\n",
    "    print('El giro resultó en: ' + str(numero_aleatorio))\n",
    "    print('Paga: ' + str(numero_aleatorio))\n",
    "\n",
    "verdes = [0, 37]\n",
    "rojos = [1, 3, 5, 7, 9, 12, 14, 16, 18, 19, 21, 23, 25, 27, 30, 32, 34, 36]\n",
    "\n",
    "if numero_aleatorio in verdes:\n",
    "    pass\n",
    "else:\n",
    "    if numero_aleatorio in rojos:\n",
    "        print('Paga: Rojo')\n",
    "    else:\n",
    "        print('Paga: Negro')\n",
    "\n",
    "    if numero_aleatorio % 2 == 0:\n",
    "        print('Paga: Par')\n",
    "    else:\n",
    "        print('Paga: Impar')\n",
    "\n",
    "    if numero_aleatorio <= 18:\n",
    "        print('Paga del 1 al 18')\n",
    "    else:\n",
    "        print('Paga del 19 al 36')"
   ],
   "metadata": {
    "collapsed": false
   }
  },
  {
   "cell_type": "markdown",
   "source": [
    "### Libro"
   ],
   "metadata": {
    "collapsed": false
   }
  },
  {
   "cell_type": "code",
   "execution_count": null,
   "outputs": [],
   "source": [
    "#\n",
    "## Display the bets that pay out in a roulette simulation\n",
    "#\n",
    "from random import randrange\n",
    "# Simulate spinning the wheel, using 37 representing 00\n",
    "value = randrange (0,38)\n",
    "if value == 37:\n",
    "    print(\"The spin resulted in 00...\")\n",
    "else:\n",
    "    print (\"The spin resulted in %d...\" % value)\n",
    "#Display the payout for a single number\n",
    "if value ==37:\n",
    "    print (\"Pay 00\")\n",
    "else:\n",
    "    print (\"Pay\", value)\n",
    "#Display the color payout\n",
    "#The first line in the condition checks for 1,3,5,7,9\n",
    "#The second line in the condition checks for 12,14,16,18\n",
    "#The third line in the condition checks for 19,21,23,25,27\n",
    "# The fourth line in the condition checks for 30, 32, 34 and 36\n",
    "if value %2==1 and value >=1 and value <=9 or \\\n",
    "    value %2==0 and value >=12 and value <= 18 or \\\n",
    "    value %2 ==1 and value >=19 and value <=27 or \\\n",
    "    value %2 ==0 and value >=30 and value <=36:\n",
    "    print (\"Pay red\")\n",
    "elif value ==0 or value ==37:\n",
    "    pass\n",
    "else:\n",
    "    print (\"Play Black\")\n",
    "#Display the odd vs even payout\n",
    "if value >=1 and value <=36:\n",
    "    if value %2==1:\n",
    "        print (\"Play odd\")\n",
    "    else:\n",
    "        print (\"Pay even\")\n",
    "#Display the lower number vs upper number payout\n",
    "if value >=1 and value <= 18:\n",
    "    print (\"Pay 1 to 18\")\n",
    "elif value >=19 and value <=36:\n",
    "    print(\"Pay 19 to 36\")"
   ],
   "metadata": {
    "collapsed": false
   }
  },
  {
   "cell_type": "markdown",
   "source": [
    "### Sergio Monsalve"
   ],
   "metadata": {
    "collapsed": false
   }
  },
  {
   "cell_type": "code",
   "execution_count": null,
   "outputs": [],
   "source": [
    "#Ejercio 60\n",
    "\n",
    "from random import choice\n",
    "\n",
    "verdes = [0, -1]\n",
    "rojos = [1, 3, 5, 7, 9, 12, 14, 16, 18, 19, 21, 23, 25, 27, 30, 32, 34, 36]\n",
    "negros = [2, 4, 6, 8, 10, 11, 13, 15, 17, 20, 22, 24, 26, 28, 29, 31, 33, 35]\n",
    "\n",
    "todos = verdes + rojos + negros\n",
    "\n",
    "ruleta = choice(todos)\n",
    "\n",
    "if ruleta == -1:\n",
    "    print(\"Paga 00\")\n",
    "elif ruleta == 0:\n",
    "    print(\"Paga 0\")\n",
    "else:\n",
    "    print(f\"Paga {ruleta}\")\n",
    "    if ruleta in rojos:\n",
    "        print(\"Paga rojos\")\n",
    "    elif ruleta in negros:\n",
    "        print(\"Paga negros\")\n",
    "\n",
    "    if ruleta % 2 == 0:\n",
    "        print(\"paga par\")\n",
    "    else:\n",
    "        print(\"paga inpar\")\n",
    "\n",
    "    if ruleta < 19:\n",
    "        print(\"paga entre 1 y 18\")\n",
    "    else:\n",
    "        print(\"paga entre 19 y 36\")\n"
   ],
   "metadata": {
    "collapsed": false
   }
  },
  {
   "cell_type": "code",
   "execution_count": 97,
   "outputs": [
    {
     "name": "stdout",
     "output_type": "stream",
     "text": [
      "00\n"
     ]
    }
   ],
   "source": [
    "from random import choice\n",
    "\n",
    "aleatorio = choice([randint(0, 36), '00', 'Hola'])\n",
    "print(aleatorio)"
   ],
   "metadata": {
    "collapsed": false
   }
  },
  {
   "cell_type": "code",
   "execution_count": 123,
   "outputs": [
    {
     "data": {
      "text/plain": "1004"
     },
     "execution_count": 123,
     "metadata": {},
     "output_type": "execute_result"
    }
   ],
   "source": [
    "aleatorio = choice([randint(0, 36), randint(100, 110), randint(1000, 1010)])\n",
    "aleatorio"
   ],
   "metadata": {
    "collapsed": false
   }
  },
  {
   "cell_type": "code",
   "execution_count": 122,
   "outputs": [
    {
     "data": {
      "text/plain": "50"
     },
     "execution_count": 122,
     "metadata": {},
     "output_type": "execute_result"
    }
   ],
   "source": [
    "choice([1, 2, 3, 50])"
   ],
   "metadata": {
    "collapsed": false
   }
  },
  {
   "cell_type": "code",
   "execution_count": 124,
   "outputs": [
    {
     "name": "stdout",
     "output_type": "stream",
     "text": [
      "[1, 2, 3]\n",
      "[1, [1, 2, 3], 4, 'hola']\n"
     ]
    }
   ],
   "source": [
    "a = [1, 2, 3]\n",
    "b = [1, [1, 2, 3], 4, \"hola\"]\n",
    "\n",
    "print(a)\n",
    "print(b)"
   ],
   "metadata": {
    "collapsed": false
   }
  },
  {
   "cell_type": "code",
   "execution_count": 125,
   "outputs": [
    {
     "data": {
      "text/plain": "[[1, 2, 3], [4, 5, 6], [7, 8, 9]]"
     },
     "execution_count": 125,
     "metadata": {},
     "output_type": "execute_result"
    }
   ],
   "source": [
    "a = [[1, 2, 3],\n",
    "     [4, 5, 6],\n",
    "     [7, 8, 9]]\n",
    "a"
   ],
   "metadata": {
    "collapsed": false
   }
  },
  {
   "cell_type": "markdown",
   "source": [
    "- Paquete para manejar matrices: numpy\n",
    "- Paquete para manejar tablas de datos: pandas"
   ],
   "metadata": {
    "collapsed": false
   }
  },
  {
   "cell_type": "markdown",
   "source": [
    "## Diccionarios\n",
    "- Son contenedores que utilizan el concepto de **llave - valor** (**key-value pairs**)\n",
    "- Se escribe con **dict()** o con {}"
   ],
   "metadata": {
    "collapsed": false
   }
  },
  {
   "cell_type": "code",
   "execution_count": 131,
   "outputs": [
    {
     "name": "stdout",
     "output_type": "stream",
     "text": [
      "{}\n",
      "{'Pedro': 1}\n"
     ]
    },
    {
     "data": {
      "text/plain": "True"
     },
     "execution_count": 131,
     "metadata": {},
     "output_type": "execute_result"
    }
   ],
   "source": [
    "a = dict()\n",
    "print(a)\n",
    "a[\"Pedro\"] = 1\n",
    "print(a)\n",
    "{\"Pedro\": 1} == dict(Pedro=1)"
   ],
   "metadata": {
    "collapsed": false
   }
  },
  {
   "cell_type": "code",
   "execution_count": 126,
   "outputs": [],
   "source": [
    "mi_primer_diccionario = {\n",
    "    \"Pedro\": 5.,\n",
    "    \"Juliana\": 4.9,\n",
    "    \"Diego\": 4.8,\n",
    "}"
   ],
   "metadata": {
    "collapsed": false
   }
  },
  {
   "cell_type": "code",
   "execution_count": 127,
   "outputs": [
    {
     "data": {
      "text/plain": "5.0"
     },
     "execution_count": 127,
     "metadata": {},
     "output_type": "execute_result"
    }
   ],
   "source": [
    "mi_primer_diccionario[\"Pedro\"]"
   ],
   "metadata": {
    "collapsed": false
   }
  },
  {
   "cell_type": "code",
   "execution_count": 128,
   "outputs": [],
   "source": [
    "mi_primer_diccionario[\"Pedro\"] = 4.4"
   ],
   "metadata": {
    "collapsed": false
   }
  },
  {
   "cell_type": "code",
   "execution_count": 129,
   "outputs": [
    {
     "data": {
      "text/plain": "{'Pedro': 4.4, 'Juliana': 4.9, 'Diego': 4.8}"
     },
     "execution_count": 129,
     "metadata": {},
     "output_type": "execute_result"
    }
   ],
   "source": [
    "mi_primer_diccionario"
   ],
   "metadata": {
    "collapsed": false
   }
  },
  {
   "cell_type": "code",
   "execution_count": 132,
   "outputs": [],
   "source": [
    "mi_primer_diccionario[\"Daniel\"] = 4.7"
   ],
   "metadata": {
    "collapsed": false
   }
  },
  {
   "cell_type": "code",
   "execution_count": 133,
   "outputs": [
    {
     "data": {
      "text/plain": "{'Pedro': 4.4, 'Juliana': 4.9, 'Diego': 4.8, 'Daniel': 4.7}"
     },
     "execution_count": 133,
     "metadata": {},
     "output_type": "execute_result"
    }
   ],
   "source": [
    "mi_primer_diccionario"
   ],
   "metadata": {
    "collapsed": false
   }
  },
  {
   "cell_type": "code",
   "execution_count": 134,
   "outputs": [],
   "source": [
    "diccionario_excel = {\n",
    "    \"id_usuario\": [],\n",
    "    \"total_venta\": [],\n",
    "    \"numero_de_ventas\": [],\n",
    "}"
   ],
   "metadata": {
    "collapsed": false
   }
  },
  {
   "cell_type": "code",
   "execution_count": 135,
   "outputs": [
    {
     "data": {
      "text/plain": "{'id_usuario': [], 'total_venta': [], 'numero_de_ventas': []}"
     },
     "execution_count": 135,
     "metadata": {},
     "output_type": "execute_result"
    }
   ],
   "source": [
    "diccionario_excel"
   ],
   "metadata": {
    "collapsed": false
   }
  },
  {
   "cell_type": "code",
   "execution_count": 136,
   "outputs": [],
   "source": [
    "diccionario_excel[\"id_usuario\"].append(1)\n",
    "diccionario_excel[\"total_venta\"].append(10)\n",
    "diccionario_excel[\"numero_de_ventas\"].append(1)"
   ],
   "metadata": {
    "collapsed": false
   }
  },
  {
   "cell_type": "code",
   "execution_count": 137,
   "outputs": [
    {
     "data": {
      "text/plain": "{'id_usuario': [1], 'total_venta': [10], 'numero_de_ventas': [1]}"
     },
     "execution_count": 137,
     "metadata": {},
     "output_type": "execute_result"
    }
   ],
   "source": [
    "diccionario_excel"
   ],
   "metadata": {
    "collapsed": false
   }
  },
  {
   "cell_type": "code",
   "execution_count": 138,
   "outputs": [],
   "source": [
    "diccionario_excel[\"id_usuario\"].append(2)\n",
    "diccionario_excel[\"total_venta\"].append(20)\n",
    "diccionario_excel[\"numero_de_ventas\"].append(1)"
   ],
   "metadata": {
    "collapsed": false
   }
  },
  {
   "cell_type": "code",
   "execution_count": 139,
   "outputs": [
    {
     "data": {
      "text/plain": "{'id_usuario': [1, 2], 'total_venta': [10, 20], 'numero_de_ventas': [1, 1]}"
     },
     "execution_count": 139,
     "metadata": {},
     "output_type": "execute_result"
    }
   ],
   "source": [
    "diccionario_excel"
   ],
   "metadata": {
    "collapsed": false
   }
  },
  {
   "cell_type": "markdown",
   "source": [
    "**Nota:** Uso del +="
   ],
   "metadata": {
    "collapsed": false
   }
  },
  {
   "cell_type": "code",
   "execution_count": 140,
   "outputs": [
    {
     "data": {
      "text/plain": "1"
     },
     "execution_count": 140,
     "metadata": {},
     "output_type": "execute_result"
    }
   ],
   "source": [
    "a = 0\n",
    "a = a + 1\n",
    "a"
   ],
   "metadata": {
    "collapsed": false
   }
  },
  {
   "cell_type": "code",
   "execution_count": 141,
   "outputs": [
    {
     "data": {
      "text/plain": "1"
     },
     "execution_count": 141,
     "metadata": {},
     "output_type": "execute_result"
    }
   ],
   "source": [
    "a = 0\n",
    "a += 1\n",
    "a"
   ],
   "metadata": {
    "collapsed": false
   }
  },
  {
   "cell_type": "code",
   "execution_count": 143,
   "outputs": [],
   "source": [
    "diccionario_excel[\"total_venta\"][0] += 1\n",
    "diccionario_excel[\"numero_de_ventas\"][0] += 1"
   ],
   "metadata": {
    "collapsed": false
   }
  },
  {
   "cell_type": "code",
   "execution_count": 144,
   "outputs": [
    {
     "data": {
      "text/plain": "{'id_usuario': [1, 2], 'total_venta': [11, 20], 'numero_de_ventas': [2, 1]}"
     },
     "execution_count": 144,
     "metadata": {},
     "output_type": "execute_result"
    }
   ],
   "source": [
    "diccionario_excel"
   ],
   "metadata": {
    "collapsed": false
   }
  },
  {
   "cell_type": "markdown",
   "source": [
    "# Exercise 104: Sorted Order\n",
    "\n",
    "Write a program that reads 3 integers from the user and stores them in a list. Use either the\n",
    " sort method or the sorted function to sort the list. Display the resulting list."
   ],
   "metadata": {
    "collapsed": false
   }
  },
  {
   "cell_type": "code",
   "execution_count": 145,
   "outputs": [
    {
     "data": {
      "text/plain": "[0, 3, 10]"
     },
     "execution_count": 145,
     "metadata": {},
     "output_type": "execute_result"
    }
   ],
   "source": [
    "lista = [\n",
    "    int(input('Entero 1: ')),\n",
    "    int(input('Entero 2: ')),\n",
    "    int(input('Entero 3: '))\n",
    "]\n",
    "\n",
    "sorted(lista)  # sorted function"
   ],
   "metadata": {
    "collapsed": false
   }
  },
  {
   "cell_type": "code",
   "execution_count": 146,
   "outputs": [
    {
     "data": {
      "text/plain": "[3, 0, 10]"
     },
     "execution_count": 146,
     "metadata": {},
     "output_type": "execute_result"
    }
   ],
   "source": [
    "lista"
   ],
   "metadata": {
    "collapsed": false
   }
  },
  {
   "cell_type": "code",
   "execution_count": 147,
   "outputs": [],
   "source": [
    "lista.sort()  # sort method"
   ],
   "metadata": {
    "collapsed": false
   }
  },
  {
   "cell_type": "code",
   "execution_count": 148,
   "outputs": [
    {
     "data": {
      "text/plain": "[0, 3, 10]"
     },
     "execution_count": 148,
     "metadata": {},
     "output_type": "execute_result"
    }
   ],
   "source": [
    "lista"
   ],
   "metadata": {
    "collapsed": false
   }
  },
  {
   "cell_type": "code",
   "execution_count": null,
   "outputs": [],
   "source": [],
   "metadata": {
    "collapsed": false
   }
  }
 ],
 "metadata": {
  "kernelspec": {
   "display_name": "Python 3",
   "language": "python",
   "name": "python3"
  },
  "language_info": {
   "codemirror_mode": {
    "name": "ipython",
    "version": 2
   },
   "file_extension": ".py",
   "mimetype": "text/x-python",
   "name": "python",
   "nbconvert_exporter": "python",
   "pygments_lexer": "ipython2",
   "version": "2.7.6"
  }
 },
 "nbformat": 4,
 "nbformat_minor": 0
}
