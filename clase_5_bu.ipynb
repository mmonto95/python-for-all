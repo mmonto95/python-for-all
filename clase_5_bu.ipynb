{
  "nbformat": 4,
  "nbformat_minor": 0,
  "metadata": {
    "colab": {
      "provenance": []
    },
    "kernelspec": {
      "name": "python3",
      "display_name": "Python 3"
    },
    "language_info": {
      "name": "python"
    }
  },
  "cells": [
    {
      "cell_type": "code",
      "execution_count": null,
      "metadata": {
        "id": "sU5znA0E7jiV"
      },
      "outputs": [],
      "source": [
        "# Creación de funciones\n",
        "# Uso funciones de otras personas \n",
        "\n",
        "from functools import reduce\n",
        "import math\n",
        "import random\n",
        "\n",
        "def suma(a,b):\n",
        "    \"\"\"Docstring\"\"\"\n",
        "    return(a+b)\n",
        "\n",
        "def suma(*args):\n",
        "    return(reduce((lambda a,b:a+b),*args))\n",
        "\n",
        "\n",
        "def n_random_nums_list(n):\n",
        "   return [(random.randint(1,100)) for i in range(n)]\n",
        "     \n",
        "l = n_random_nums_list(10)\n",
        "print(l)\n",
        "print(suma(l))"
      ]
    },
    {
      "cell_type": "markdown",
      "source": [
        "# Funciones\n",
        "\n",
        "* funciones sin parametros\n",
        "* funciones con parametros fijos\n",
        "* funciones con parametros con nombres\n",
        "* funciones con numero indeterminado de parametros\n",
        "* el retorno!\n",
        "* funciones que ya hemos visto\n",
        "  * print\n",
        "  * input\n",
        "  * max\n",
        "  * min\n",
        "  * randint\n",
        "  "
      ],
      "metadata": {
        "id": "z91s9e_w7pgf"
      }
    },
    {
      "cell_type": "code",
      "source": [
        "def nombre_funcion():"
      ],
      "metadata": {
        "colab": {
          "base_uri": "https://localhost:8080/",
          "height": 131
        },
        "id": "OwwEen_jA09v",
        "outputId": "8093773e-fdb2-4b4c-b647-b7d0c3df3fa7"
      },
      "execution_count": null,
      "outputs": [
        {
          "output_type": "error",
          "ename": "SyntaxError",
          "evalue": "ignored",
          "traceback": [
            "\u001b[0;36m  File \u001b[0;32m\"<ipython-input-1-f376e23cc0f8>\"\u001b[0;36m, line \u001b[0;32m1\u001b[0m\n\u001b[0;31m    def nombre_funcion():\u001b[0m\n\u001b[0m                         ^\u001b[0m\n\u001b[0;31mSyntaxError\u001b[0m\u001b[0;31m:\u001b[0m unexpected EOF while parsing\n"
          ]
        }
      ]
    },
    {
      "cell_type": "code",
      "source": [
        "def nombre_funcion():\n",
        "  pass"
      ],
      "metadata": {
        "id": "_TiB7LrvBO-t"
      },
      "execution_count": null,
      "outputs": []
    },
    {
      "cell_type": "code",
      "source": [
        "def nombre_funcion():\n",
        "  print(\"Hola!\")"
      ],
      "metadata": {
        "id": "Y-6y6G2iBUCj"
      },
      "execution_count": null,
      "outputs": []
    },
    {
      "cell_type": "code",
      "source": [
        "def nombre_funcion2():\n",
        "  return(\"Chao!\")"
      ],
      "metadata": {
        "id": "3wx7xjK3BlIg"
      },
      "execution_count": null,
      "outputs": []
    },
    {
      "cell_type": "code",
      "source": [
        "nombre_funcion()"
      ],
      "metadata": {
        "colab": {
          "base_uri": "https://localhost:8080/"
        },
        "id": "WrD6hlQqBpKE",
        "outputId": "e4b3b225-a954-4d88-8024-95c1b623849a"
      },
      "execution_count": null,
      "outputs": [
        {
          "output_type": "stream",
          "name": "stdout",
          "text": [
            "Hola!\n"
          ]
        }
      ]
    },
    {
      "cell_type": "code",
      "source": [
        "print(nombre_funcion2())"
      ],
      "metadata": {
        "colab": {
          "base_uri": "https://localhost:8080/"
        },
        "id": "tyBGHxteBxIx",
        "outputId": "ead92672-cf44-45fe-f4b4-7640b695e807"
      },
      "execution_count": null,
      "outputs": [
        {
          "output_type": "stream",
          "name": "stdout",
          "text": [
            "Chao!\n"
          ]
        }
      ]
    },
    {
      "cell_type": "code",
      "source": [
        "nombre_funcion2()"
      ],
      "metadata": {
        "colab": {
          "base_uri": "https://localhost:8080/",
          "height": 35
        },
        "id": "jAi1eKpNCAFf",
        "outputId": "238e8a7c-cf85-4baf-9001-0706bc4e818c"
      },
      "execution_count": null,
      "outputs": [
        {
          "output_type": "execute_result",
          "data": {
            "text/plain": [
              "'Chao!'"
            ],
            "application/vnd.google.colaboratory.intrinsic+json": {
              "type": "string"
            }
          },
          "metadata": {},
          "execution_count": 9
        }
      ]
    },
    {
      "cell_type": "code",
      "source": [
        "def multiplicacion(a,b):\n",
        "  return a*b\n",
        "\n",
        "print(multiplicacion(2,4))\n"
      ],
      "metadata": {
        "colab": {
          "base_uri": "https://localhost:8080/"
        },
        "id": "nhV5kOOBCG90",
        "outputId": "76002deb-2797-43d0-d8fe-4904ea470567"
      },
      "execution_count": null,
      "outputs": [
        {
          "output_type": "stream",
          "name": "stdout",
          "text": [
            "8\n"
          ]
        }
      ]
    },
    {
      "cell_type": "code",
      "source": [
        "def division(a,b):\n",
        "  #print(a/b)\n",
        "  return a/b\n",
        "\n",
        "division(2,4)"
      ],
      "metadata": {
        "colab": {
          "base_uri": "https://localhost:8080/"
        },
        "id": "7mtY6DARFDXg",
        "outputId": "aedff293-81ce-4df7-e910-a04d0c436283"
      },
      "execution_count": null,
      "outputs": [
        {
          "output_type": "execute_result",
          "data": {
            "text/plain": [
              "0.5"
            ]
          },
          "metadata": {},
          "execution_count": 15
        }
      ]
    },
    {
      "cell_type": "code",
      "source": [
        "division(multiplicacion(4,4),2)"
      ],
      "metadata": {
        "colab": {
          "base_uri": "https://localhost:8080/"
        },
        "id": "d-mcMTQzFN_D",
        "outputId": "18e2e680-da00-423a-9eeb-e7fa061206ef"
      },
      "execution_count": null,
      "outputs": [
        {
          "output_type": "stream",
          "name": "stdout",
          "text": [
            "8.0\n"
          ]
        }
      ]
    },
    {
      "cell_type": "code",
      "source": [
        "multiplicacion(division(50,5),2)"
      ],
      "metadata": {
        "colab": {
          "base_uri": "https://localhost:8080/"
        },
        "id": "uZtazQbmFiTt",
        "outputId": "5cf0728c-c0ef-4379-82cf-cf8ac46f9d7f"
      },
      "execution_count": null,
      "outputs": [
        {
          "output_type": "execute_result",
          "data": {
            "text/plain": [
              "20.0"
            ]
          },
          "metadata": {},
          "execution_count": 16
        }
      ]
    },
    {
      "cell_type": "markdown",
      "source": [
        "## parametros fijos"
      ],
      "metadata": {
        "id": "eO2ixpqpGPCB"
      }
    },
    {
      "cell_type": "code",
      "source": [
        "a = int(input(\"ingrese un valor\"))\n",
        "b = int(input(\"ingrese un valor\"))\n",
        "c = int(input(\"ingrese un valor\"))"
      ],
      "metadata": {
        "id": "L8ZgTlR9ghLt"
      },
      "execution_count": null,
      "outputs": []
    },
    {
      "cell_type": "code",
      "source": [
        "def max(a,b,c):\n",
        "  max = a\n",
        "  if(b>max):\n",
        "    max = b\n",
        "  if(c>max):\n",
        "    max = c\n",
        "  return max\n",
        "\n",
        "a = int(input(\"ingrese un valor\"))\n",
        "b = int(input(\"ingrese un valor\"))\n",
        "c = int(input(\"ingrese un valor\"))"
      ],
      "metadata": {
        "id": "T0kMj6RHFrQo"
      },
      "execution_count": null,
      "outputs": []
    },
    {
      "cell_type": "code",
      "source": [
        "print(max(4,1,5))\n",
        "print(max(1,4,5))\n",
        "print(max(5,1,4))"
      ],
      "metadata": {
        "colab": {
          "base_uri": "https://localhost:8080/"
        },
        "id": "TSNw0J6hGv-Z",
        "outputId": "ad24a136-f8c7-40e2-91f1-cc6670532473"
      },
      "execution_count": null,
      "outputs": [
        {
          "output_type": "stream",
          "name": "stdout",
          "text": [
            "5\n",
            "5\n",
            "5\n"
          ]
        }
      ]
    },
    {
      "cell_type": "code",
      "source": [
        "max(1,2,3)"
      ],
      "metadata": {
        "colab": {
          "base_uri": "https://localhost:8080/"
        },
        "id": "eKYQJG_SG79E",
        "outputId": "958f15ca-504b-425b-f5e2-3ec0a66850f4"
      },
      "execution_count": null,
      "outputs": [
        {
          "output_type": "execute_result",
          "data": {
            "text/plain": [
              "3"
            ]
          },
          "metadata": {},
          "execution_count": 21
        }
      ]
    },
    {
      "cell_type": "code",
      "source": [
        "var1 = 5\n",
        "var2 = 1\n",
        "var3 = 4\n",
        "\n",
        "\n",
        "print(max(var1,var2,var3))"
      ],
      "metadata": {
        "colab": {
          "base_uri": "https://localhost:8080/"
        },
        "id": "ZeCj7tSaHMQB",
        "outputId": "583225e3-52f5-40b4-d92f-c0619058f1e4"
      },
      "execution_count": null,
      "outputs": [
        {
          "output_type": "stream",
          "name": "stdout",
          "text": [
            "5\n"
          ]
        }
      ]
    },
    {
      "cell_type": "code",
      "source": [
        "def receta_torta(harina, mantequilla, huevos, azucar):\n",
        "  batir_huevos()\n",
        "  mezclar_matequilla(mantequilla)\n",
        "  pass\n",
        "  pass\n",
        "  torta = hornear(mantilla, huevos, azucar, harina)\n",
        "  return torta"
      ],
      "metadata": {
        "id": "Ca4728pAHmey"
      },
      "execution_count": null,
      "outputs": []
    },
    {
      "cell_type": "code",
      "source": [
        "def area_cuadrado(l):\n",
        "  return(l*l)"
      ],
      "metadata": {
        "id": "ZKvqKT0FIL6A"
      },
      "execution_count": null,
      "outputs": []
    },
    {
      "cell_type": "code",
      "source": [
        "print(area_cuadrado(2))"
      ],
      "metadata": {
        "colab": {
          "base_uri": "https://localhost:8080/"
        },
        "id": "4V-oM4hvITNt",
        "outputId": "a4ac71e0-e8ef-46f4-acc8-af654f6b850f"
      },
      "execution_count": null,
      "outputs": [
        {
          "output_type": "stream",
          "name": "stdout",
          "text": [
            "4\n"
          ]
        }
      ]
    },
    {
      "cell_type": "code",
      "source": [
        "print(area_cuadrado(4))"
      ],
      "metadata": {
        "colab": {
          "base_uri": "https://localhost:8080/"
        },
        "id": "AR05v-M1IczN",
        "outputId": "ef82fb3e-dc2d-467a-d65c-794d5c76bf24"
      },
      "execution_count": null,
      "outputs": [
        {
          "output_type": "stream",
          "name": "stdout",
          "text": [
            "16\n"
          ]
        }
      ]
    },
    {
      "cell_type": "markdown",
      "source": [
        "## Funciones con Cantidad de Parametros indeterminados"
      ],
      "metadata": {
        "id": "PCko7okTJLFn"
      }
    },
    {
      "cell_type": "code",
      "source": [
        "def sumar_nums(*args):\n",
        "  suma = 0\n",
        "  for e in args:\n",
        "    suma += e\n",
        "  return suma"
      ],
      "metadata": {
        "id": "3kYCiYD4IgC1"
      },
      "execution_count": null,
      "outputs": []
    },
    {
      "cell_type": "code",
      "source": [
        "print(sumar_nums(1,2))"
      ],
      "metadata": {
        "colab": {
          "base_uri": "https://localhost:8080/"
        },
        "id": "a-_wIXYzI-XL",
        "outputId": "46c444db-e487-4569-cab0-e9a98807fc56"
      },
      "execution_count": null,
      "outputs": [
        {
          "output_type": "stream",
          "name": "stdout",
          "text": [
            "3\n"
          ]
        }
      ]
    },
    {
      "cell_type": "code",
      "source": [
        "print(sumar_nums(1,2,3,4))"
      ],
      "metadata": {
        "colab": {
          "base_uri": "https://localhost:8080/"
        },
        "id": "0oeXHSh5JBhR",
        "outputId": "888444f7-89d5-4739-9892-091f3406fe07"
      },
      "execution_count": null,
      "outputs": [
        {
          "output_type": "stream",
          "name": "stdout",
          "text": [
            "10\n"
          ]
        }
      ]
    },
    {
      "cell_type": "markdown",
      "source": [
        "\n",
        "# Funciones con parametros con nombre\n"
      ],
      "metadata": {
        "id": "BqYyqmOuJRR5"
      }
    },
    {
      "cell_type": "code",
      "source": [
        "def restar_nums(a,b):\n",
        "  return(a-b)\n",
        "\n",
        "print(restar_nums(10,5))\n",
        "print(restar_nums(5,10))"
      ],
      "metadata": {
        "colab": {
          "base_uri": "https://localhost:8080/"
        },
        "id": "wcAuVOveJD--",
        "outputId": "fa419079-d458-4b25-ff0d-f6b0ea9a6ac4"
      },
      "execution_count": null,
      "outputs": [
        {
          "output_type": "stream",
          "name": "stdout",
          "text": [
            "5\n",
            "-5\n"
          ]
        }
      ]
    },
    {
      "cell_type": "code",
      "source": [
        "def restar_nums2(a=4,b=2):\n",
        "  return(a-b)\n",
        "\n",
        "print(restar_nums2(100,50))\n",
        "print(restar_nums2(b=100,a=50))\n",
        "print(restar_nums2())"
      ],
      "metadata": {
        "colab": {
          "base_uri": "https://localhost:8080/"
        },
        "id": "mrYTB1CRJQqw",
        "outputId": "b911f11e-7f65-4e74-8c7b-06f281e1f42d"
      },
      "execution_count": null,
      "outputs": [
        {
          "output_type": "stream",
          "name": "stdout",
          "text": [
            "50\n",
            "-50\n",
            "2\n"
          ]
        }
      ]
    },
    {
      "cell_type": "markdown",
      "source": [
        "## Funciones con Cantidad de Parametros k,v indeterminados"
      ],
      "metadata": {
        "id": "dxVmQJQjKSmU"
      }
    },
    {
      "cell_type": "code",
      "source": [
        "def restar_nums3(**kwargs):\n",
        "  for k,v in kwargs.items():\n",
        "    print(f\"{k} -> {v}\")\n",
        "\n",
        "restar_nums3(base=5,alto=3,ancho=2)\n"
      ],
      "metadata": {
        "colab": {
          "base_uri": "https://localhost:8080/"
        },
        "id": "aW4_z25GKODd",
        "outputId": "e8a13dae-a698-4c0c-9671-ed17c2f6f042"
      },
      "execution_count": null,
      "outputs": [
        {
          "output_type": "stream",
          "name": "stdout",
          "text": [
            "base -> 5\n",
            "alto -> 3\n",
            "ancho -> 2\n"
          ]
        }
      ]
    },
    {
      "cell_type": "code",
      "source": [
        "restar_nums3(largo=10, alto=20, ancho=40, piso=2)"
      ],
      "metadata": {
        "colab": {
          "base_uri": "https://localhost:8080/"
        },
        "id": "isXhO9LfJ-yA",
        "outputId": "0073ee14-4b06-47fb-e183-f5b7c5ab1a01"
      },
      "execution_count": null,
      "outputs": [
        {
          "output_type": "stream",
          "name": "stdout",
          "text": [
            "largo -> 10\n",
            "alto -> 20\n",
            "ancho -> 40\n",
            "piso -> 2\n"
          ]
        }
      ]
    },
    {
      "cell_type": "code",
      "source": [
        "diccionario = {'a':1, 'b':2, 'c':3}"
      ],
      "metadata": {
        "id": "BqDHnL5XLn_x"
      },
      "execution_count": null,
      "outputs": []
    },
    {
      "cell_type": "code",
      "source": [
        "diccionario.items()"
      ],
      "metadata": {
        "colab": {
          "base_uri": "https://localhost:8080/"
        },
        "id": "3hVmwc6_LxbX",
        "outputId": "97ceea15-27d7-47e5-c94a-63ea611a64cd"
      },
      "execution_count": null,
      "outputs": [
        {
          "output_type": "execute_result",
          "data": {
            "text/plain": [
              "dict_items([('a', 1), ('b', 2), ('c', 3)])"
            ]
          },
          "metadata": {},
          "execution_count": 40
        }
      ]
    },
    {
      "cell_type": "code",
      "source": [],
      "metadata": {
        "id": "dCjl_AeZMA57"
      },
      "execution_count": null,
      "outputs": []
    },
    {
      "cell_type": "markdown",
      "source": [
        "# Ejercicios"
      ],
      "metadata": {
        "id": "iDTf3M9CLZD5"
      }
    },
    {
      "cell_type": "code",
      "source": [
        "## Ejercicio 81: hipotenusa\n",
        "\n",
        "\"\"\"\n",
        "\n",
        "\n",
        "Write a function that takes the lengths of the two shorter sides of a right triangle as\n",
        "its parameters. Return the hypotenuse of the triangle, computed using Pythagorean\n",
        "theorem, as the function’s result. Include a main program that reads the lengths of\n",
        "the shorter sides of a right triangle from the user, uses your function to compute the\n",
        "length of the hypotenuse, and displays the result.\n",
        "\"\"\"\n",
        "\n",
        "def hip(a,b):\n",
        "  return((a**2 + b**2)**0.5)\n",
        "\n",
        "a = float(input(\"Ingrese el lado corto del triangulo rectangulo: \"))\n",
        "b = float(input(\"Ingrese el otro lado corto del triangulo rectangulo: \"))\n",
        "print(hip(a,b))"
      ],
      "metadata": {
        "colab": {
          "base_uri": "https://localhost:8080/"
        },
        "id": "CUsAb5VqLEOY",
        "outputId": "21c49f4f-8a88-4b0d-9240-f25b59f4b4a3"
      },
      "execution_count": null,
      "outputs": [
        {
          "output_type": "stream",
          "name": "stdout",
          "text": [
            "Ingrese el lado corto del triangulo rectangulo: 2\n",
            "Ingrese el otro lado corto del triangulo rectangulo: 3\n",
            "3.605551275463989\n"
          ]
        }
      ]
    },
    {
      "cell_type": "code",
      "source": [
        "def hip(a,b):\n",
        "  return((a**2 + b**2)**0.5)"
      ],
      "metadata": {
        "id": "jkp1wEtLNGuv"
      },
      "execution_count": null,
      "outputs": []
    },
    {
      "cell_type": "code",
      "source": [
        "print(hip(2,3))"
      ],
      "metadata": {
        "colab": {
          "base_uri": "https://localhost:8080/"
        },
        "id": "J0e7-Nb6NGgK",
        "outputId": "8e8a7314-be67-4c49-f13b-cf697bc06417"
      },
      "execution_count": null,
      "outputs": [
        {
          "output_type": "stream",
          "name": "stdout",
          "text": [
            "3.605551275463989\n"
          ]
        }
      ]
    },
    {
      "cell_type": "code",
      "source": [
        "print(hip(4,4))"
      ],
      "metadata": {
        "colab": {
          "base_uri": "https://localhost:8080/"
        },
        "id": "xMu-FgZ-NJjl",
        "outputId": "56734a37-1f78-4e34-cd30-75fa3fb45bd2"
      },
      "execution_count": null,
      "outputs": [
        {
          "output_type": "stream",
          "name": "stdout",
          "text": [
            "5.656854249492381\n"
          ]
        }
      ]
    },
    {
      "cell_type": "code",
      "source": [
        "print((5**2 + 7*2)**0.5)"
      ],
      "metadata": {
        "colab": {
          "base_uri": "https://localhost:8080/"
        },
        "id": "X9GAksxUNUQ6",
        "outputId": "a8deabdd-ca4e-422d-90a0-678e01770b2a"
      },
      "execution_count": null,
      "outputs": [
        {
          "output_type": "stream",
          "name": "stdout",
          "text": [
            "6.244997998398398\n"
          ]
        }
      ]
    },
    {
      "cell_type": "code",
      "source": [
        "c = input(\"Ingrese un numero\")\n",
        "print(float(c)+1)"
      ],
      "metadata": {
        "colab": {
          "base_uri": "https://localhost:8080/"
        },
        "id": "Fp39acmNNbAH",
        "outputId": "4ac65aa5-1978-459b-bdb9-caed5ff267c8"
      },
      "execution_count": null,
      "outputs": [
        {
          "output_type": "stream",
          "name": "stdout",
          "text": [
            "Ingrese un numero5.2\n",
            "6.2\n"
          ]
        }
      ]
    },
    {
      "cell_type": "code",
      "source": [
        "# Exercicio 82: Tarifa del Taxi\n",
        "\"\"\"\n",
        "In a particular jurisdiction, taxi fares consist of a base fare of $4.00, plus $0.25\n",
        "for every 140 meters traveled. Write a function that takes the distance traveled (in\n",
        "kilometers) as its only parameter and returns the total fare as its only result. Write a\n",
        "main program that demonstrates the function.\n",
        "Hint: Taxi fares change over time. Use constants to represent the base fare and\n",
        "the variable portion of the fare so that the program can be updated easily when\n",
        "the rates increase.\n",
        "\"\"\"\n",
        "\n",
        "BASE = 4.0\n",
        "PRECIO_DISTANCIA = 0.25 # Por cada 140 metros recorridos\n",
        "METROS_TARIFA = 140\n",
        "\n",
        "def tarifa_taxi(distancia):\n",
        "  return(BASE+(PRECIO_DISTANCIA*(distancia*1000)/METROS_TARIFA))\n",
        "\n",
        "print(tarifa_taxi(0)) # -> 4.0\n",
        "print(tarifa_taxi(0.140)) # -> 4.25\n",
        "print(tarifa_taxi(0.280)) # -> 4.5\n",
        "print(tarifa_taxi(1.4)) # -> 6.5\n"
      ],
      "metadata": {
        "colab": {
          "base_uri": "https://localhost:8080/"
        },
        "id": "LGDF3UE9OG0e",
        "outputId": "96e2cb7c-b3d8-40c5-e125-0aa93866c535"
      },
      "execution_count": null,
      "outputs": [
        {
          "output_type": "stream",
          "name": "stdout",
          "text": [
            "4.0\n",
            "4.25\n",
            "4.5\n",
            "6.5\n"
          ]
        }
      ]
    },
    {
      "cell_type": "code",
      "source": [
        "# Exercicio 103: Fechas Mágicas\n",
        "\"\"\"A magic date is a date where the day multiplied by the month is equal to the two digit\n",
        "year. For example, June 10, 1960 is a magic date because June is the sixth month, and\n",
        "6 times 10 is 60, which is equal to the two digit year. Write a function that determines\n",
        "whether or not a date is a magic date. Use your function to create a main program\n",
        "that finds and displays all of the magic dates in the 20th century. You will probably\n",
        "find your solution to Exercise 100 helpful when completing this exercise.\n",
        "\"\"\"\n",
        "\n",
        "\n",
        "def es_fecha_magica(dia=10, mes=\"junio\",año=1960):\n",
        "  m = 0\n",
        "  if(mes==\"enero\"):\n",
        "    m=1\n",
        "  elif(mes==\"febrero\"):\n",
        "    m=2\n",
        "  elif(mes==\"marzo\"):\n",
        "    m=3\n",
        "  elif(mes==\"abril\"):\n",
        "    m=4\n",
        "  elif(mes==\"mayo\"):\n",
        "    m=5\n",
        "  elif(mes==\"junio\"):\n",
        "    m=6\n",
        "  elif(mes==\"julio\"):\n",
        "    m=7\n",
        "  elif(mes==\"agosto\"):\n",
        "    m=8\n",
        "  elif(mes==\"septiembre\"):\n",
        "    m=9\n",
        "  elif(mes==\"octubre\"):\n",
        "    m=10\n",
        "  elif(mes==\"noviembre\"):\n",
        "    m=11\n",
        "  elif(mes==\"diciembre\"):\n",
        "    m=12\n",
        "\n",
        "  a = año%100\n",
        "  return(dia*m == a)\n"
      ],
      "metadata": {
        "id": "qX7ZlbxqPugA"
      },
      "execution_count": null,
      "outputs": []
    },
    {
      "cell_type": "code",
      "source": [
        "print(es_fecha_magica())"
      ],
      "metadata": {
        "colab": {
          "base_uri": "https://localhost:8080/"
        },
        "id": "kfWZD1DESB47",
        "outputId": "5c53a825-af3d-4a6f-fc74-d93cc8b573b1"
      },
      "execution_count": null,
      "outputs": [
        {
          "output_type": "stream",
          "name": "stdout",
          "text": [
            "True\n"
          ]
        }
      ]
    },
    {
      "cell_type": "code",
      "source": [
        "print(es_fecha_magica(dia=11))"
      ],
      "metadata": {
        "colab": {
          "base_uri": "https://localhost:8080/"
        },
        "id": "jgmkd3YmSie_",
        "outputId": "dfd79d42-904c-47a9-ae28-4ccf5d36fd94"
      },
      "execution_count": null,
      "outputs": [
        {
          "output_type": "stream",
          "name": "stdout",
          "text": [
            "False\n"
          ]
        }
      ]
    },
    {
      "cell_type": "code",
      "source": [
        "print(es_fecha_magica(dia=11,año=1966))"
      ],
      "metadata": {
        "colab": {
          "base_uri": "https://localhost:8080/"
        },
        "id": "Fl1vnOh2Srgr",
        "outputId": "1a47ea04-dc80-4089-8121-9cd93e7d479e"
      },
      "execution_count": null,
      "outputs": [
        {
          "output_type": "stream",
          "name": "stdout",
          "text": [
            "True\n"
          ]
        }
      ]
    },
    {
      "cell_type": "code",
      "source": [
        "print(es_fecha_magica(10,\"junio\",1961))"
      ],
      "metadata": {
        "colab": {
          "base_uri": "https://localhost:8080/"
        },
        "id": "HYYyWT7WSveD",
        "outputId": "fe42ef64-d410-475c-adf9-55cb9525ce9f"
      },
      "execution_count": null,
      "outputs": [
        {
          "output_type": "stream",
          "name": "stdout",
          "text": [
            "False\n"
          ]
        }
      ]
    },
    {
      "cell_type": "code",
      "source": [
        "print(es_fecha_magica(10,\"junio\",1960))"
      ],
      "metadata": {
        "colab": {
          "base_uri": "https://localhost:8080/"
        },
        "id": "dYhYAqrqS7Iu",
        "outputId": "bc2d8c2d-eb30-4cc1-c5be-9efc3b500f97"
      },
      "execution_count": null,
      "outputs": [
        {
          "output_type": "stream",
          "name": "stdout",
          "text": [
            "True\n"
          ]
        }
      ]
    },
    {
      "cell_type": "code",
      "source": [
        "print(es_fecha_magica(10,1960,\"junio\"))"
      ],
      "metadata": {
        "colab": {
          "base_uri": "https://localhost:8080/",
          "height": 270
        },
        "id": "lnIJrCgZS9Js",
        "outputId": "1f0acb12-380e-4629-872b-3ff1320c66f0"
      },
      "execution_count": null,
      "outputs": [
        {
          "output_type": "error",
          "ename": "TypeError",
          "evalue": "ignored",
          "traceback": [
            "\u001b[0;31m---------------------------------------------------------------------------\u001b[0m",
            "\u001b[0;31mTypeError\u001b[0m                                 Traceback (most recent call last)",
            "\u001b[0;32m<ipython-input-69-55742bd09fdb>\u001b[0m in \u001b[0;36m<module>\u001b[0;34m\u001b[0m\n\u001b[0;32m----> 1\u001b[0;31m \u001b[0mprint\u001b[0m\u001b[0;34m(\u001b[0m\u001b[0mes_fecha_magica\u001b[0m\u001b[0;34m(\u001b[0m\u001b[0;36m10\u001b[0m\u001b[0;34m,\u001b[0m\u001b[0;36m1960\u001b[0m\u001b[0;34m,\u001b[0m\u001b[0;34m\"junio\"\u001b[0m\u001b[0;34m)\u001b[0m\u001b[0;34m)\u001b[0m\u001b[0;34m\u001b[0m\u001b[0;34m\u001b[0m\u001b[0m\n\u001b[0m",
            "\u001b[0;32m<ipython-input-63-2c7c54f16146>\u001b[0m in \u001b[0;36mes_fecha_magica\u001b[0;34m(dia, mes, año)\u001b[0m\n\u001b[1;32m     36\u001b[0m     \u001b[0mm\u001b[0m\u001b[0;34m=\u001b[0m\u001b[0;36m12\u001b[0m\u001b[0;34m\u001b[0m\u001b[0;34m\u001b[0m\u001b[0m\n\u001b[1;32m     37\u001b[0m \u001b[0;34m\u001b[0m\u001b[0m\n\u001b[0;32m---> 38\u001b[0;31m   \u001b[0ma\u001b[0m \u001b[0;34m=\u001b[0m \u001b[0maño\u001b[0m\u001b[0;34m%\u001b[0m\u001b[0;36m100\u001b[0m\u001b[0;34m\u001b[0m\u001b[0;34m\u001b[0m\u001b[0m\n\u001b[0m\u001b[1;32m     39\u001b[0m   \u001b[0;32mreturn\u001b[0m\u001b[0;34m(\u001b[0m\u001b[0mdia\u001b[0m\u001b[0;34m*\u001b[0m\u001b[0mm\u001b[0m \u001b[0;34m==\u001b[0m \u001b[0ma\u001b[0m\u001b[0;34m)\u001b[0m\u001b[0;34m\u001b[0m\u001b[0;34m\u001b[0m\u001b[0m\n",
            "\u001b[0;31mTypeError\u001b[0m: not all arguments converted during string formatting"
          ]
        }
      ]
    },
    {
      "cell_type": "code",
      "source": [
        "print(int(5/7))"
      ],
      "metadata": {
        "colab": {
          "base_uri": "https://localhost:8080/"
        },
        "id": "UZyb-F9OTLDh",
        "outputId": "8b69c3cc-8893-43f5-d275-cb3727e53e74"
      },
      "execution_count": null,
      "outputs": [
        {
          "output_type": "stream",
          "name": "stdout",
          "text": [
            "0\n"
          ]
        }
      ]
    },
    {
      "cell_type": "code",
      "source": [
        "def cancion(*args):\n",
        "  inicio = \"On the third day of Christmas\\nmy true love sent to me:\\n\"\"\"\n",
        "  for e in args:\n",
        "    inicio += e + \"\\n\"\n",
        "    print(inicio+\"\\n\")\n",
        "\n",
        "\n",
        "cancion(\"Three French hens\",\"Two turtle doves\",\"And a partridge in a pear tree\")\n"
      ],
      "metadata": {
        "colab": {
          "base_uri": "https://localhost:8080/"
        },
        "id": "Bs7jjb3uTwk5",
        "outputId": "d54251e1-65dc-42cd-c413-e88d2b342089"
      },
      "execution_count": null,
      "outputs": [
        {
          "output_type": "stream",
          "name": "stdout",
          "text": [
            "On the third day of Christmas\n",
            "my true love sent to me:\n",
            "Three French hens\n",
            "\n",
            "\n",
            "On the third day of Christmas\n",
            "my true love sent to me:\n",
            "Three French hens\n",
            "Two turtle doves\n",
            "\n",
            "\n",
            "On the third day of Christmas\n",
            "my true love sent to me:\n",
            "Three French hens\n",
            "Two turtle doves\n",
            "And a partridge in a pear tree\n",
            "\n",
            "\n"
          ]
        }
      ]
    },
    {
      "cell_type": "code",
      "source": [],
      "metadata": {
        "id": "nQtYxFdZV9UU"
      },
      "execution_count": null,
      "outputs": []
    },
    {
      "cell_type": "markdown",
      "source": [
        "| Alejandra Patricia Ramos Álvarez      -> \n",
        "| Andrés Mauricio Vergel Miranda        -> 90\n",
        "| Catalina Espinal Jaramillo            -> 89\n",
        "| César Augusto Gómez González          -> 91\n",
        "| César Rubents Ramírez Monsalve        -> 96\n",
        "| Diego Alexander Higuita Jaramillo     -> 93\n",
        "| Edwin Alejandro Bejarano García       ->\n",
        "| Ferney De Jesús Noreña Soto           ->\n",
        "| Fran Fernando Olarte Ramírez          ->\n",
        "| Isabella Orozco Ramírez               ->\n",
        "| José Orlando Agudelo Barrera          -> 84\n",
        "| Laura Vanessa Hernández Acevedo       -> 94\n",
        "| Luis Ernesto Paz Marulanda            ->\n",
        "| Maritza Medina Giraldo                -> 100\n",
        "| Marleny Jaramillo Arango              -> \n",
        "| Richard Adalber Tirado                ->\n",
        "| Sebastián Zapata Granada              ->\n",
        "| York Michel Polanco Piedrahíta        ->\n",
        "| Yuli Marina Ledezma Maturana          -> 83\n",
        "Tomas ->  92"
      ],
      "metadata": {
        "id": "GgaAHcJwWmGS"
      }
    },
    {
      "cell_type": "code",
      "source": [
        "a = \"   -12   \".strip()"
      ],
      "metadata": {
        "id": "hFZxTst7bJ8H"
      },
      "execution_count": null,
      "outputs": []
    },
    {
      "cell_type": "code",
      "source": [
        "a[0]"
      ],
      "metadata": {
        "colab": {
          "base_uri": "https://localhost:8080/",
          "height": 35
        },
        "id": "IEEHD6lWb-IK",
        "outputId": "7ec7a536-109c-4fac-b12a-0e9b5c83d5f5"
      },
      "execution_count": null,
      "outputs": [
        {
          "output_type": "execute_result",
          "data": {
            "text/plain": [
              "'-'"
            ],
            "application/vnd.google.colaboratory.intrinsic+json": {
              "type": "string"
            }
          },
          "metadata": {},
          "execution_count": 83
        }
      ]
    },
    {
      "cell_type": "code",
      "source": [
        "for c in :\n",
        "  print(c)"
      ],
      "metadata": {
        "colab": {
          "base_uri": "https://localhost:8080/"
        },
        "id": "C8J_WIzccEaV",
        "outputId": "7bc5fd61-4d02-48a3-ae98-f2011e187153"
      },
      "execution_count": null,
      "outputs": [
        {
          "output_type": "stream",
          "name": "stdout",
          "text": [
            "-\n",
            "1\n",
            "2\n"
          ]
        }
      ]
    },
    {
      "cell_type": "code",
      "source": [
        "a[1:].isdigit()"
      ],
      "metadata": {
        "colab": {
          "base_uri": "https://localhost:8080/"
        },
        "id": "304sxAdUcUAD",
        "outputId": "bcb83b39-01de-4f08-d244-e7ab14500fb8"
      },
      "execution_count": null,
      "outputs": [
        {
          "output_type": "execute_result",
          "data": {
            "text/plain": [
              "True"
            ]
          },
          "metadata": {},
          "execution_count": 86
        }
      ]
    },
    {
      "cell_type": "code",
      "source": [
        "int(a[1:])"
      ],
      "metadata": {
        "colab": {
          "base_uri": "https://localhost:8080/"
        },
        "id": "1GfPwiB2ce19",
        "outputId": "22a465e8-33bc-40c5-e8b8-6c782f0ae983"
      },
      "execution_count": null,
      "outputs": [
        {
          "output_type": "execute_result",
          "data": {
            "text/plain": [
              "12"
            ]
          },
          "metadata": {},
          "execution_count": 87
        }
      ]
    },
    {
      "cell_type": "code",
      "source": [
        "def is_good(psw):\n",
        "  resp = False\n",
        "  may = 0\n",
        "  min = 0\n",
        "  if(len(psw)>=8):\n",
        "    for c in psw:\n",
        "      if(c.isupper()):\n",
        "        may +=1\n",
        "      \n",
        "      c.islower()\n",
        "    resp = True\n",
        "\n",
        "  if len>=8, and \n",
        "  return resp"
      ],
      "metadata": {
        "id": "P-zAlisacl5W"
      },
      "execution_count": null,
      "outputs": []
    },
    {
      "cell_type": "code",
      "source": [
        "\"A\".isupper()"
      ],
      "metadata": {
        "colab": {
          "base_uri": "https://localhost:8080/"
        },
        "id": "NY_3M6G6e_3N",
        "outputId": "05e61ab4-ce14-463a-8a1d-ed25eabb15e2"
      },
      "execution_count": null,
      "outputs": [
        {
          "output_type": "execute_result",
          "data": {
            "text/plain": [
              "True"
            ]
          },
          "metadata": {},
          "execution_count": 88
        }
      ]
    },
    {
      "cell_type": "code",
      "source": [
        "\"a\".isupper()"
      ],
      "metadata": {
        "colab": {
          "base_uri": "https://localhost:8080/"
        },
        "id": "5WUXJ87afCPa",
        "outputId": "e40a8ab8-c3ac-474b-bf91-f5ed9f458cd2"
      },
      "execution_count": null,
      "outputs": [
        {
          "output_type": "execute_result",
          "data": {
            "text/plain": [
              "False"
            ]
          },
          "metadata": {},
          "execution_count": 89
        }
      ]
    },
    {
      "cell_type": "code",
      "source": [
        "\"1\".isdigit()"
      ],
      "metadata": {
        "colab": {
          "base_uri": "https://localhost:8080/"
        },
        "id": "vrpkPU8ufECQ",
        "outputId": "2a8fb5f4-a230-4de5-ca0d-4e75e4f45849"
      },
      "execution_count": null,
      "outputs": [
        {
          "output_type": "execute_result",
          "data": {
            "text/plain": [
              "True"
            ]
          },
          "metadata": {},
          "execution_count": 91
        }
      ]
    },
    {
      "cell_type": "code",
      "source": [
        "def int_to_ordinal(num):\n",
        "  if(num == 1):\n",
        "    ans=\"primero\"\n",
        "  elif(num == 2):\n",
        "    ans = \"segundo\"\n",
        "  \n",
        "\n",
        "  return ans"
      ],
      "metadata": {
        "id": "gS2yO9MmfcIS"
      },
      "execution_count": null,
      "outputs": []
    },
    {
      "cell_type": "code",
      "source": [
        "a = int(input(\"ingrese un valor\"))\n",
        "b = int(input(\"ingrese un valor\"))\n",
        "c = int(input(\"ingrese un valor\"))\n",
        "\n",
        "def maxi(a,b,c):\n",
        "  max = a\n",
        "  if(b>max):\n",
        "    max = b\n",
        "  if(c>max):\n",
        "    max = c\n",
        "  return max\n",
        "\n",
        "print(maxi(a,b,c))\n",
        "\n",
        "\n",
        "\n"
      ],
      "metadata": {
        "colab": {
          "base_uri": "https://localhost:8080/"
        },
        "id": "-4XzGESzgtaV",
        "outputId": "1e0b2067-fa20-4bd0-8440-08a4d92a8156"
      },
      "execution_count": null,
      "outputs": [
        {
          "output_type": "stream",
          "name": "stdout",
          "text": [
            "ingrese un valor1\n",
            "ingrese un valor2\n",
            "ingrese un valor3\n",
            "3\n"
          ]
        }
      ]
    },
    {
      "cell_type": "code",
      "source": [
        "\"1\".isdigit"
      ],
      "metadata": {
        "id": "YfDdodjdg3Lv"
      },
      "execution_count": null,
      "outputs": []
    },
    {
      "cell_type": "code",
      "source": [
        "x = 17\n",
        "primo = True\n",
        "for n in range(2,x):\n",
        "  if(x%n==0):\n",
        "    primo = False\n",
        "    print(f\"{n} divide a {x}\")\n",
        "print(primo)"
      ],
      "metadata": {
        "colab": {
          "base_uri": "https://localhost:8080/"
        },
        "id": "xXnq9c4lh737",
        "outputId": "65bef492-c968-4049-a04f-953ac11e7e6f"
      },
      "execution_count": null,
      "outputs": [
        {
          "output_type": "stream",
          "name": "stdout",
          "text": [
            "True\n"
          ]
        }
      ]
    },
    {
      "cell_type": "code",
      "source": [],
      "metadata": {
        "id": "KeLq6gaHjgZ6"
      },
      "execution_count": null,
      "outputs": []
    }
  ]
}