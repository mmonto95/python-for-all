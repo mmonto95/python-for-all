{
 "nbformat": 4,
 "nbformat_minor": 0,
 "metadata": {
  "colab": {
   "provenance": []
  },
  "kernelspec": {
   "name": "python3",
   "display_name": "Python 3"
  },
  "language_info": {
   "name": "python"
  }
 },
 "cells": [
  {
   "cell_type": "markdown",
   "source": [
    "# Ciclos\n",
    "\n",
    "Permite que un bloque de código repita su ejecución varias veces hasta que llega a algún criterio de parada definido por el programador."
   ],
   "metadata": {
    "id": "gzhTvr9cl2-s"
   }
  },
  {
   "cell_type": "code",
   "execution_count": 1,
   "outputs": [
    {
     "name": "stdout",
     "output_type": "stream",
     "text": [
      "\n",
      "Here is a list of the Python keywords.  Enter any keyword to get more help.\n",
      "\n",
      "False               break               for                 not\n",
      "None                class               from                or\n",
      "True                continue            global              pass\n",
      "__peg_parser__      def                 if                  raise\n",
      "and                 del                 import              return\n",
      "as                  elif                in                  try\n",
      "assert              else                is                  while\n",
      "async               except              lambda              with\n",
      "await               finally             nonlocal            yield\n",
      "\n"
     ]
    }
   ],
   "source": [
    "help(\"keywords\")"
   ],
   "metadata": {
    "collapsed": false
   }
  },
  {
   "cell_type": "markdown",
   "source": [
    "## Ciclos While\n"
   ],
   "metadata": {
    "id": "RQg2fXvql7jB"
   }
  },
  {
   "cell_type": "code",
   "execution_count": 6,
   "outputs": [
    {
     "name": "stdout",
     "output_type": "stream",
     "text": [
      "0\n",
      "1\n",
      "2\n",
      "3\n",
      "4\n",
      "5\n",
      "6\n",
      "7\n",
      "8\n",
      "9\n",
      "10\n",
      "11\n",
      "12\n",
      "13\n",
      "14\n",
      "15\n",
      "16\n",
      "17\n",
      "18\n",
      "19\n",
      "acabó\n"
     ]
    }
   ],
   "source": [
    "contador = 0\n",
    "while contador < 20:\n",
    "    print(contador)\n",
    "    contador += 1\n",
    "print('acabó')"
   ],
   "metadata": {
    "collapsed": false
   }
  },
  {
   "cell_type": "code",
   "execution_count": 7,
   "outputs": [],
   "source": [
    "from time import sleep"
   ],
   "metadata": {
    "collapsed": false
   }
  },
  {
   "cell_type": "code",
   "execution_count": 8,
   "outputs": [
    {
     "name": "stdout",
     "output_type": "stream",
     "text": [
      "0\n",
      "1\n",
      "2\n",
      "3\n",
      "4\n",
      "5\n",
      "6\n",
      "7\n",
      "8\n",
      "9\n",
      "10\n",
      "11\n",
      "12\n",
      "13\n",
      "14\n",
      "15\n",
      "16\n",
      "17\n",
      "18\n",
      "19\n"
     ]
    }
   ],
   "source": [
    "contador = 0\n",
    "while contador < 20:\n",
    "    print(contador)\n",
    "    contador += 1\n",
    "    sleep(1)"
   ],
   "metadata": {
    "collapsed": false
   }
  },
  {
   "cell_type": "code",
   "execution_count": 10,
   "outputs": [
    {
     "name": "stdout",
     "output_type": "stream",
     "text": [
      "0\n",
      "1\n",
      "2\n",
      "3\n",
      "4\n",
      "5\n",
      "6\n",
      "7\n",
      "8\n",
      "9\n",
      "10\n",
      "11\n",
      "12\n",
      "13\n",
      "14\n",
      "15\n",
      "16\n",
      "17\n",
      "18\n",
      "19\n"
     ]
    }
   ],
   "source": [
    "contador = 0\n",
    "while True:\n",
    "    print(contador)\n",
    "    contador += 1\n",
    "    if contador >= 20:\n",
    "        break  # Para salirse del ciclo"
   ],
   "metadata": {
    "collapsed": false
   }
  },
  {
   "cell_type": "code",
   "execution_count": 11,
   "outputs": [
    {
     "name": "stdout",
     "output_type": "stream",
     "text": [
      "10\n",
      "11\n",
      "12\n",
      "13\n",
      "14\n",
      "15\n",
      "16\n",
      "17\n",
      "18\n",
      "19\n",
      "20\n",
      "21\n",
      "22\n",
      "23\n",
      "24\n",
      "25\n",
      "26\n",
      "27\n",
      "28\n",
      "29\n"
     ]
    }
   ],
   "source": [
    "contador = 10\n",
    "while contador < 30:\n",
    "    print(contador)\n",
    "    contador += 1"
   ],
   "metadata": {
    "collapsed": false
   }
  },
  {
   "cell_type": "markdown",
   "source": [
    "# Exercise 104: Sorted Order\n",
    "\n",
    "Write a program that reads integers from the user and stores them in a list. Stop asking for integers when the user inputs `0`.  Use either the sort method or the sorted\n",
    " function to sort the list. Display the resulting list."
   ],
   "metadata": {
    "collapsed": false
   }
  },
  {
   "cell_type": "code",
   "execution_count": 12,
   "outputs": [
    {
     "data": {
      "text/plain": "[-1, 1, 3, 4, 5]"
     },
     "execution_count": 12,
     "metadata": {},
     "output_type": "execute_result"
    }
   ],
   "source": [
    "lista = []\n",
    "while True:\n",
    "    entero_actual = int(input('Escribe el siguiente entero. Escribe 0 para terminar: '))\n",
    "    if entero_actual == 0:\n",
    "        break\n",
    "    lista.append(entero_actual)\n",
    "\n",
    "sorted(lista)  # sorted function"
   ],
   "metadata": {
    "collapsed": false
   }
  },
  {
   "cell_type": "markdown",
   "source": [
    "## Ciclos For\n",
    "\n",
    "- for contador in **iterador** (iterator en inglés)"
   ],
   "metadata": {
    "id": "odF2nHU8l99t"
   }
  },
  {
   "cell_type": "code",
   "execution_count": 13,
   "outputs": [
    {
     "data": {
      "text/plain": "[0, 1, 2, 3, 4, 5, 6, 7, 8, 9, 10, 11, 12, 13, 14, 15, 16, 17, 18, 19]"
     },
     "execution_count": 13,
     "metadata": {},
     "output_type": "execute_result"
    }
   ],
   "source": [
    "list(range(20))"
   ],
   "metadata": {
    "collapsed": false
   }
  },
  {
   "cell_type": "code",
   "source": [
    "for contador in range(20):\n",
    "    print(contador)"
   ],
   "metadata": {
    "id": "R0WgY27LSN_a"
   },
   "execution_count": 14,
   "outputs": [
    {
     "name": "stdout",
     "output_type": "stream",
     "text": [
      "0\n",
      "1\n",
      "2\n",
      "3\n",
      "4\n",
      "5\n",
      "6\n",
      "7\n",
      "8\n",
      "9\n",
      "10\n",
      "11\n",
      "12\n",
      "13\n",
      "14\n",
      "15\n",
      "16\n",
      "17\n",
      "18\n",
      "19\n"
     ]
    }
   ]
  },
  {
   "cell_type": "code",
   "execution_count": 15,
   "outputs": [
    {
     "name": "stdout",
     "output_type": "stream",
     "text": [
      "1\n",
      "2\n",
      "3\n"
     ]
    }
   ],
   "source": [
    "for elemento in [1, 2, 3]:\n",
    "    print(elemento)"
   ],
   "metadata": {
    "collapsed": false
   }
  },
  {
   "cell_type": "code",
   "execution_count": 16,
   "outputs": [
    {
     "name": "stdout",
     "output_type": "stream",
     "text": [
      "1\n",
      "2\n",
      "3\n"
     ]
    }
   ],
   "source": [
    "lista = [1, 2, 3]\n",
    "for elemento in lista:\n",
    "    print(elemento)"
   ],
   "metadata": {
    "collapsed": false
   }
  },
  {
   "cell_type": "code",
   "execution_count": 17,
   "outputs": [
    {
     "name": "stdout",
     "output_type": "stream",
     "text": [
      "10\n",
      "12\n",
      "14\n",
      "16\n",
      "18\n"
     ]
    }
   ],
   "source": [
    "for contador in range(10, 20, 2):\n",
    "    print(contador)"
   ],
   "metadata": {
    "collapsed": false
   }
  },
  {
   "cell_type": "code",
   "execution_count": 18,
   "outputs": [
    {
     "name": "stdout",
     "output_type": "stream",
     "text": [
      "0\n",
      "1\n",
      "2\n",
      "3\n",
      "4\n",
      "5\n",
      "6\n",
      "7\n",
      "8\n",
      "9\n",
      "10\n",
      "11\n",
      "12\n",
      "13\n",
      "14\n",
      "15\n"
     ]
    }
   ],
   "source": [
    "for contador in range(20):\n",
    "    print(contador)\n",
    "    if contador == 15:\n",
    "        break"
   ],
   "metadata": {
    "collapsed": false
   }
  },
  {
   "cell_type": "markdown",
   "source": [
    "# Exercise 104: Sorted Order"
   ],
   "metadata": {
    "collapsed": false
   }
  },
  {
   "cell_type": "code",
   "execution_count": 19,
   "outputs": [
    {
     "data": {
      "text/plain": "[-1, 1, 3, 4, 5]"
     },
     "execution_count": 19,
     "metadata": {},
     "output_type": "execute_result"
    }
   ],
   "source": [
    "lista = []\n",
    "for _ in range(1000000000000):\n",
    "    entero_actual = int(input('Escribe el siguiente entero. Escribe 0 para terminar: '))\n",
    "    if entero_actual == 0:\n",
    "        break\n",
    "    lista.append(entero_actual)\n",
    "\n",
    "sorted(lista)  # sorted function"
   ],
   "metadata": {
    "collapsed": false
   }
  },
  {
   "cell_type": "code",
   "execution_count": 1,
   "outputs": [
    {
     "name": "stdout",
     "output_type": "stream",
     "text": [
      "       *       \n",
      "      ***      \n",
      "     *****     \n",
      "    *******    \n",
      "   *********   \n",
      "  ***********  \n",
      " ************* \n"
     ]
    }
   ],
   "source": [
    "z = 7\n",
    "x = 1\n",
    "while z > 0:\n",
    "    print(' ' * z + '*' * x + ' ' * z)\n",
    "    x += 2\n",
    "    z -= 1"
   ],
   "metadata": {
    "collapsed": false
   }
  },
  {
   "cell_type": "code",
   "execution_count": 2,
   "outputs": [
    {
     "name": "stdout",
     "output_type": "stream",
     "text": [
      "       *\n",
      "      ***\n",
      "     *****\n",
      "    *******\n",
      "   *********\n",
      "  ***********\n",
      " *************\n"
     ]
    }
   ],
   "source": [
    "z = 7\n",
    "x = 1\n",
    "while z > 0:\n",
    "    print(' ' * z + '*' * x)\n",
    "    x += 2\n",
    "    z -= 1"
   ],
   "metadata": {
    "collapsed": false
   }
  },
  {
   "cell_type": "markdown",
   "source": [
    "# Exercise 61: Average\n",
    "In this exercise you will create a program that computes the average of a collection\n",
    "of values entered by the user. The user will enter 0 as a sentinel value to indicate\n",
    "that no further values will be provided. Your program should display an appropriate\n",
    "error message if the first value entered by the user is 0"
   ],
   "metadata": {
    "collapsed": false
   }
  },
  {
   "cell_type": "code",
   "execution_count": 4,
   "outputs": [
    {
     "name": "stdout",
     "output_type": "stream",
     "text": [
      "el promedio es: 5.166666666666667\n"
     ]
    }
   ],
   "source": [
    "total = 0\n",
    "contar = 0\n",
    "\n",
    "valor = float(input(\"ingrese un numero (ingrese  0 para parar): \"))\n",
    "\n",
    "if valor == 0:\n",
    "    print(\"Error: el primer valor no puede ser 0.\")\n",
    "else:\n",
    "    while valor != 0:\n",
    "        total += valor\n",
    "        contar += 1\n",
    "        valor = float(input(\"ingrese un numero (ingrese  0 para parar): \"))\n",
    "\n",
    "    promedio = total / contar\n",
    "    print(\"el promedio es:\", promedio)"
   ],
   "metadata": {
    "collapsed": false
   }
  },
  {
   "cell_type": "code",
   "execution_count": 7,
   "outputs": [
    {
     "name": "stdout",
     "output_type": "stream",
     "text": [
      "El promedio es: 6.0\n"
     ]
    }
   ],
   "source": [
    "valor = float(input(\"Ingrese un numero (ingrese  0 para parar): \"))\n",
    "\n",
    "if valor == 0:\n",
    "    print(\"Error: el primer valor no puede ser 0.\")\n",
    "else:\n",
    "    todos_los_valores = [valor]\n",
    "    while True:\n",
    "        valor = float(input(\"Ingrese un numero (ingrese  0 para parar): \"))\n",
    "        if valor == 0:\n",
    "            break\n",
    "        else:\n",
    "            todos_los_valores.append(valor)\n",
    "\n",
    "    promedio = sum(todos_los_valores) / len(todos_los_valores)\n",
    "    print(\"El promedio es:\", promedio)"
   ],
   "metadata": {
    "collapsed": false
   }
  },
  {
   "cell_type": "code",
   "execution_count": 9,
   "outputs": [
    {
     "data": {
      "text/plain": "6.0"
     },
     "execution_count": 9,
     "metadata": {},
     "output_type": "execute_result"
    }
   ],
   "source": [
    "import numpy as np\n",
    "\n",
    "todos_los_valores = [5, 6, 7]\n",
    "np.mean(todos_los_valores)"
   ],
   "metadata": {
    "collapsed": false
   }
  },
  {
   "cell_type": "markdown",
   "source": [
    "# Exercise 62: Discount Table\n",
    "precio_final = precio_original - (precio_original * descuento)\n",
    "precio_final = precio_original * (1 - descuento)"
   ],
   "metadata": {
    "collapsed": false
   }
  },
  {
   "cell_type": "code",
   "execution_count": 17,
   "outputs": [
    {
     "name": "stdout",
     "output_type": "stream",
     "text": [
      "Precio: 4.95 USD | Descuento: 2.97 USD | Precio con descuento: 1.98 USD\n",
      "Precio: 9.95 USD | Descuento: 5.97 USD | Precio con descuento: 3.98 USD\n",
      "Precio: 14.95 USD | Descuento: 8.97 USD | Precio con descuento: 5.98 USD\n",
      "Precio: 19.95 USD | Descuento: 11.97 USD | Precio con descuento: 7.98 USD\n",
      "Precio: 24.95 USD | Descuento: 14.97 USD | Precio con descuento: 9.98 USD\n"
     ]
    }
   ],
   "source": [
    "lista_de_precios = [4.95, 9.95, 14.95, 19.95, 24.95]\n",
    "descuento_proporcion = 0.6\n",
    "\n",
    "for precio in lista_de_precios:\n",
    "    descuento = precio * descuento_proporcion\n",
    "    valor_final = precio - descuento\n",
    "    print(\n",
    "        f'Precio: {round(precio, 2)} USD',\n",
    "        f'Descuento: {round(descuento, 2)} USD',\n",
    "        f'Precio con descuento: {round(valor_final, 2)} USD',\n",
    "        sep=' | '\n",
    "    )"
   ],
   "metadata": {
    "collapsed": false
   }
  },
  {
   "cell_type": "markdown",
   "source": [
    "# Ejercicio 1: Project Euler"
   ],
   "metadata": {
    "collapsed": false
   }
  },
  {
   "cell_type": "code",
   "execution_count": 18,
   "outputs": [
    {
     "name": "stdout",
     "output_type": "stream",
     "text": [
      "233168\n"
     ]
    }
   ],
   "source": [
    "lista_con_multiplos = []\n",
    "lista = list(range(1000))\n",
    "for elemento in lista:\n",
    "    if elemento % 3 == 0 or elemento % 5 == 0:\n",
    "        lista_con_multiplos.append(elemento)\n",
    "print(sum(lista_con_multiplos))"
   ],
   "metadata": {
    "collapsed": false
   }
  },
  {
   "cell_type": "code",
   "execution_count": 19,
   "outputs": [
    {
     "name": "stdout",
     "output_type": "stream",
     "text": [
      "467\n"
     ]
    }
   ],
   "source": [
    "print(len(lista_con_multiplos))"
   ],
   "metadata": {
    "collapsed": false
   }
  },
  {
   "cell_type": "code",
   "execution_count": 28,
   "outputs": [
    {
     "data": {
      "text/plain": "False"
     },
     "execution_count": 28,
     "metadata": {},
     "output_type": "execute_result"
    }
   ],
   "source": [
    "bool(0)"
   ],
   "metadata": {
    "collapsed": false
   }
  },
  {
   "cell_type": "code",
   "execution_count": 30,
   "outputs": [
    {
     "data": {
      "text/plain": "True"
     },
     "execution_count": 30,
     "metadata": {},
     "output_type": "execute_result"
    }
   ],
   "source": [
    "bool(1)"
   ],
   "metadata": {
    "collapsed": false
   }
  },
  {
   "cell_type": "code",
   "execution_count": 31,
   "outputs": [
    {
     "data": {
      "text/plain": "True"
     },
     "execution_count": 31,
     "metadata": {},
     "output_type": "execute_result"
    }
   ],
   "source": [
    "bool(2)"
   ],
   "metadata": {
    "collapsed": false
   }
  },
  {
   "cell_type": "code",
   "execution_count": 20,
   "outputs": [
    {
     "name": "stdout",
     "output_type": "stream",
     "text": [
      "233168\n"
     ]
    }
   ],
   "source": [
    "total = 0\n",
    "for elemento in range(1000):\n",
    "    if elemento % 3 == 0 or elemento % 5 == 0:\n",
    "        total += elemento\n",
    "print(total)"
   ],
   "metadata": {
    "collapsed": false
   }
  },
  {
   "cell_type": "code",
   "execution_count": 32,
   "outputs": [
    {
     "name": "stdout",
     "output_type": "stream",
     "text": [
      "233168\n",
      "233168\n"
     ]
    }
   ],
   "source": [
    "print(sum([x for x in range(1,1000) if not x % 3 or not x % 5]))\n",
    "\n",
    "# Hace lo mismo que la de arriba\n",
    "print(sum([x for x in range(1,1000) if x % 3 == 0 or x % 5 == 0]))"
   ],
   "metadata": {
    "collapsed": false
   }
  },
  {
   "cell_type": "markdown",
   "source": [
    "# List comprehension"
   ],
   "metadata": {
    "collapsed": false
   }
  },
  {
   "cell_type": "code",
   "execution_count": 22,
   "outputs": [
    {
     "data": {
      "text/plain": "[1, 2, 3]"
     },
     "execution_count": 22,
     "metadata": {},
     "output_type": "execute_result"
    }
   ],
   "source": [
    "a = [1, 2, 3]\n",
    "a"
   ],
   "metadata": {
    "collapsed": false
   }
  },
  {
   "cell_type": "code",
   "execution_count": 23,
   "outputs": [
    {
     "data": {
      "text/plain": "[1, 2, 3]"
     },
     "execution_count": 23,
     "metadata": {},
     "output_type": "execute_result"
    }
   ],
   "source": [
    "a = []\n",
    "for i in range(1, 4):\n",
    "    a.append(i)\n",
    "a"
   ],
   "metadata": {
    "collapsed": false
   }
  },
  {
   "cell_type": "code",
   "execution_count": 24,
   "outputs": [
    {
     "data": {
      "text/plain": "[1, 2, 3]"
     },
     "execution_count": 24,
     "metadata": {},
     "output_type": "execute_result"
    }
   ],
   "source": [
    "a = [i for i in range(1, 4)]\n",
    "a"
   ],
   "metadata": {
    "collapsed": false
   }
  },
  {
   "cell_type": "code",
   "execution_count": 25,
   "outputs": [
    {
     "data": {
      "text/plain": "[2, 4, 6]"
     },
     "execution_count": 25,
     "metadata": {},
     "output_type": "execute_result"
    }
   ],
   "source": [
    "[i * 2 for i in range(1, 4)]"
   ],
   "metadata": {
    "collapsed": false
   }
  },
  {
   "cell_type": "code",
   "execution_count": null,
   "outputs": [],
   "source": [
    "a = []\n",
    "for i in range(1, 4):\n",
    "    a.append(i * 2)"
   ],
   "metadata": {
    "collapsed": false
   }
  },
  {
   "cell_type": "code",
   "execution_count": 21,
   "outputs": [
    {
     "name": "stdout",
     "output_type": "stream",
     "text": [
      "233168\n"
     ]
    }
   ],
   "source": [
    "print(sum([x for x in range(1,1000) if not x % 3 or not x % 5]))"
   ],
   "metadata": {
    "collapsed": false
   }
  },
  {
   "cell_type": "code",
   "execution_count": 27,
   "outputs": [
    {
     "data": {
      "text/plain": "[0, 1, 2, 3, 4, 6, 7, 8, 9]"
     },
     "execution_count": 27,
     "metadata": {},
     "output_type": "execute_result"
    }
   ],
   "source": [
    "[i for i in range(10) if i != 5]"
   ],
   "metadata": {
    "collapsed": false
   }
  },
  {
   "cell_type": "code",
   "execution_count": 29,
   "outputs": [
    {
     "data": {
      "text/plain": "40"
     },
     "execution_count": 29,
     "metadata": {},
     "output_type": "execute_result"
    }
   ],
   "source": [
    "sum([i for i in range(10) if i != 5])"
   ],
   "metadata": {
    "collapsed": false
   }
  },
  {
   "cell_type": "code",
   "execution_count": null,
   "outputs": [],
   "source": [],
   "metadata": {
    "collapsed": false
   }
  }
 ]
}
