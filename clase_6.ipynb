{
 "cells": [
  {
   "cell_type": "code",
   "execution_count": 1,
   "metadata": {
    "collapsed": true,
    "ExecuteTime": {
     "end_time": "2023-05-31T00:15:59.857240Z",
     "start_time": "2023-05-31T00:15:59.852961Z"
    }
   },
   "outputs": [
    {
     "name": "stdout",
     "output_type": "stream",
     "text": [
      "Hola\n"
     ]
    }
   ],
   "source": [
    "try:\n",
    "    'a' - 'b'\n",
    "except:\n",
    "    print('Hola')"
   ]
  },
  {
   "cell_type": "code",
   "execution_count": 6,
   "outputs": [
    {
     "ename": "IndexError",
     "evalue": "list index out of range",
     "output_type": "error",
     "traceback": [
      "\u001B[0;31m---------------------------------------------------------------------------\u001B[0m",
      "\u001B[0;31mIndexError\u001B[0m                                Traceback (most recent call last)",
      "Cell \u001B[0;32mIn[6], line 3\u001B[0m\n\u001B[1;32m      1\u001B[0m \u001B[38;5;28;01mwith\u001B[39;00m \u001B[38;5;28mopen\u001B[39m(\u001B[38;5;124m'\u001B[39m\u001B[38;5;124mdatos\u001B[39m\u001B[38;5;124m'\u001B[39m, \u001B[38;5;124m'\u001B[39m\u001B[38;5;124mr\u001B[39m\u001B[38;5;124m'\u001B[39m) \u001B[38;5;28;01mas\u001B[39;00m file:\n\u001B[1;32m      2\u001B[0m     datos \u001B[38;5;241m=\u001B[39m [\u001B[38;5;28mint\u001B[39m(i) \u001B[38;5;28;01mfor\u001B[39;00m i \u001B[38;5;129;01min\u001B[39;00m file\u001B[38;5;241m.\u001B[39mread()\u001B[38;5;241m.\u001B[39msplit(\u001B[38;5;124m'\u001B[39m\u001B[38;5;124m,\u001B[39m\u001B[38;5;124m'\u001B[39m)]\n\u001B[0;32m----> 3\u001B[0m     resultado \u001B[38;5;241m=\u001B[39m \u001B[43mdatos\u001B[49m\u001B[43m[\u001B[49m\u001B[38;5;241;43m3\u001B[39;49m\u001B[43m]\u001B[49m \u001B[38;5;241m*\u001B[39m datos[\u001B[38;5;241m0\u001B[39m]\n\u001B[1;32m      5\u001B[0m \u001B[38;5;28mprint\u001B[39m(resultado)\n",
      "\u001B[0;31mIndexError\u001B[0m: list index out of range"
     ]
    }
   ],
   "source": [
    "with open('datos', 'r') as file:\n",
    "    datos = [int(i) for i in file.read().split(',')]\n",
    "    resultado = datos[3] * datos[0]\n",
    "\n",
    "print(resultado)"
   ],
   "metadata": {
    "collapsed": false,
    "ExecuteTime": {
     "end_time": "2023-05-31T00:21:16.689875Z",
     "start_time": "2023-05-31T00:21:16.681312Z"
    }
   }
  },
  {
   "cell_type": "code",
   "execution_count": 9,
   "outputs": [
    {
     "ename": "ValueError",
     "evalue": "invalid literal for int() with base 10: '}30'",
     "output_type": "error",
     "traceback": [
      "\u001B[0;31m---------------------------------------------------------------------------\u001B[0m",
      "\u001B[0;31mValueError\u001B[0m                                Traceback (most recent call last)",
      "Cell \u001B[0;32mIn[9], line 3\u001B[0m\n\u001B[1;32m      1\u001B[0m \u001B[38;5;28;01mwith\u001B[39;00m \u001B[38;5;28mopen\u001B[39m(\u001B[38;5;124m'\u001B[39m\u001B[38;5;124mdatos\u001B[39m\u001B[38;5;124m'\u001B[39m, \u001B[38;5;124m'\u001B[39m\u001B[38;5;124mr\u001B[39m\u001B[38;5;124m'\u001B[39m) \u001B[38;5;28;01mas\u001B[39;00m file:\n\u001B[1;32m      2\u001B[0m     \u001B[38;5;28;01mtry\u001B[39;00m:\n\u001B[0;32m----> 3\u001B[0m         datos \u001B[38;5;241m=\u001B[39m [\u001B[38;5;28mint\u001B[39m(i) \u001B[38;5;28;01mfor\u001B[39;00m i \u001B[38;5;129;01min\u001B[39;00m file\u001B[38;5;241m.\u001B[39mread()\u001B[38;5;241m.\u001B[39msplit(\u001B[38;5;124m'\u001B[39m\u001B[38;5;124m,\u001B[39m\u001B[38;5;124m'\u001B[39m)]\n\u001B[1;32m      4\u001B[0m         resultado \u001B[38;5;241m=\u001B[39m datos[\u001B[38;5;241m3\u001B[39m] \u001B[38;5;241m*\u001B[39m datos[\u001B[38;5;241m0\u001B[39m]\n\u001B[1;32m      5\u001B[0m         \u001B[38;5;28mprint\u001B[39m(resultado)\n",
      "Cell \u001B[0;32mIn[9], line 3\u001B[0m, in \u001B[0;36m<listcomp>\u001B[0;34m(.0)\u001B[0m\n\u001B[1;32m      1\u001B[0m \u001B[38;5;28;01mwith\u001B[39;00m \u001B[38;5;28mopen\u001B[39m(\u001B[38;5;124m'\u001B[39m\u001B[38;5;124mdatos\u001B[39m\u001B[38;5;124m'\u001B[39m, \u001B[38;5;124m'\u001B[39m\u001B[38;5;124mr\u001B[39m\u001B[38;5;124m'\u001B[39m) \u001B[38;5;28;01mas\u001B[39;00m file:\n\u001B[1;32m      2\u001B[0m     \u001B[38;5;28;01mtry\u001B[39;00m:\n\u001B[0;32m----> 3\u001B[0m         datos \u001B[38;5;241m=\u001B[39m [\u001B[38;5;28;43mint\u001B[39;49m\u001B[43m(\u001B[49m\u001B[43mi\u001B[49m\u001B[43m)\u001B[49m \u001B[38;5;28;01mfor\u001B[39;00m i \u001B[38;5;129;01min\u001B[39;00m file\u001B[38;5;241m.\u001B[39mread()\u001B[38;5;241m.\u001B[39msplit(\u001B[38;5;124m'\u001B[39m\u001B[38;5;124m,\u001B[39m\u001B[38;5;124m'\u001B[39m)]\n\u001B[1;32m      4\u001B[0m         resultado \u001B[38;5;241m=\u001B[39m datos[\u001B[38;5;241m3\u001B[39m] \u001B[38;5;241m*\u001B[39m datos[\u001B[38;5;241m0\u001B[39m]\n\u001B[1;32m      5\u001B[0m         \u001B[38;5;28mprint\u001B[39m(resultado)\n",
      "\u001B[0;31mValueError\u001B[0m: invalid literal for int() with base 10: '}30'"
     ]
    }
   ],
   "source": [
    "with open('datos', 'r') as file:\n",
    "    try:\n",
    "        datos = [int(i) for i in file.read().split(',')]\n",
    "        resultado = datos[3] * datos[0]\n",
    "        print(resultado)\n",
    "    except IndexError:\n",
    "        print('No hay suficientes datos en el archivo')"
   ],
   "metadata": {
    "collapsed": false,
    "ExecuteTime": {
     "end_time": "2023-05-31T00:25:55.783443Z",
     "start_time": "2023-05-31T00:25:55.760333Z"
    }
   }
  },
  {
   "cell_type": "code",
   "execution_count": 10,
   "outputs": [
    {
     "name": "stdout",
     "output_type": "stream",
     "text": [
      "El archivo está mal formateado\n"
     ]
    }
   ],
   "source": [
    "with open('datos', 'r') as file:\n",
    "    try:\n",
    "        datos = [int(i) for i in file.read().split(',')]\n",
    "        resultado = datos[3] * datos[0]\n",
    "        print(resultado)\n",
    "    except IndexError:\n",
    "        print('No hay suficientes datos en el archivo')\n",
    "    except ValueError:\n",
    "        print('El archivo está mal formateado')"
   ],
   "metadata": {
    "collapsed": false,
    "ExecuteTime": {
     "end_time": "2023-05-31T00:26:45.629050Z",
     "start_time": "2023-05-31T00:26:45.612726Z"
    }
   }
  },
  {
   "cell_type": "code",
   "execution_count": null,
   "outputs": [],
   "source": [],
   "metadata": {
    "collapsed": false
   }
  }
 ],
 "metadata": {
  "kernelspec": {
   "display_name": "Python 3",
   "language": "python",
   "name": "python3"
  },
  "language_info": {
   "codemirror_mode": {
    "name": "ipython",
    "version": 2
   },
   "file_extension": ".py",
   "mimetype": "text/x-python",
   "name": "python",
   "nbconvert_exporter": "python",
   "pygments_lexer": "ipython2",
   "version": "2.7.6"
  }
 },
 "nbformat": 4,
 "nbformat_minor": 0
}
