{
 "nbformat": 4,
 "nbformat_minor": 0,
 "metadata": {
  "colab": {
   "provenance": []
  },
  "kernelspec": {
   "name": "python3",
   "display_name": "Python 3"
  },
  "language_info": {
   "name": "python"
  }
 },
 "cells": [
  {
   "cell_type": "markdown",
   "source": [
    "# Pruebas Iniciales"
   ],
   "metadata": {
    "id": "YlPvTm-vGb9C"
   }
  },
  {
   "cell_type": "code",
   "execution_count": 1,
   "metadata": {
    "colab": {
     "base_uri": "https://localhost:8080/"
    },
    "id": "9oUOL5P247l1",
    "outputId": "e8c4c267-739b-48ea-8537-67032c8c78a9"
   },
   "outputs": [
    {
     "data": {
      "text/plain": "1"
     },
     "execution_count": 1,
     "metadata": {},
     "output_type": "execute_result"
    }
   ],
   "source": [
    "1"
   ]
  },
  {
   "cell_type": "code",
   "source": [
    "a"
   ],
   "metadata": {
    "colab": {
     "base_uri": "https://localhost:8080/",
     "height": 166
    },
    "id": "stIUesFZ5bUc",
    "outputId": "92b5a736-c0d3-45b6-a0cb-4fbc6a0ea8b7"
   },
   "execution_count": null,
   "outputs": [
    {
     "output_type": "error",
     "ename": "NameError",
     "evalue": "ignored",
     "traceback": [
      "\u001B[0;31m---------------------------------------------------------------------------\u001B[0m",
      "\u001B[0;31mNameError\u001B[0m                                 Traceback (most recent call last)",
      "\u001B[0;32m<ipython-input-2-3f786850e387>\u001B[0m in \u001B[0;36m<cell line: 1>\u001B[0;34m()\u001B[0m\n\u001B[0;32m----> 1\u001B[0;31m \u001B[0ma\u001B[0m\u001B[0;34m\u001B[0m\u001B[0;34m\u001B[0m\u001B[0m\n\u001B[0m",
      "\u001B[0;31mNameError\u001B[0m: name 'a' is not defined"
     ]
    }
   ]
  },
  {
   "cell_type": "markdown",
   "source": [
    "# Curso de programación para todos"
   ],
   "metadata": {
    "id": "vxQFhoyl5o6D"
   }
  },
  {
   "cell_type": "markdown",
   "source": [
    "## Variables"
   ],
   "metadata": {
    "id": "oZymTt2OGnPE"
   }
  },
  {
   "cell_type": "code",
   "source": [
    "a = 1"
   ],
   "metadata": {
    "id": "vEmHTb3m7Ks-"
   },
   "execution_count": null,
   "outputs": []
  },
  {
   "cell_type": "code",
   "source": [
    "a + a"
   ],
   "metadata": {
    "colab": {
     "base_uri": "https://localhost:8080/"
    },
    "id": "j_yHFClc7Mrb",
    "outputId": "899f00ad-bdbd-4d27-d0c2-936335f351e8"
   },
   "execution_count": null,
   "outputs": [
    {
     "output_type": "execute_result",
     "data": {
      "text/plain": [
       "2"
      ]
     },
     "metadata": {},
     "execution_count": 5
    }
   ]
  },
  {
   "cell_type": "code",
   "source": [
    "a"
   ],
   "metadata": {
    "colab": {
     "base_uri": "https://localhost:8080/"
    },
    "id": "xclfkjQI7Y18",
    "outputId": "56c85ed0-b493-4534-df42-a375c90ff8bc"
   },
   "execution_count": null,
   "outputs": [
    {
     "output_type": "execute_result",
     "data": {
      "text/plain": [
       "1"
      ]
     },
     "metadata": {},
     "execution_count": 6
    }
   ]
  },
  {
   "cell_type": "code",
   "source": [
    "a = 10"
   ],
   "metadata": {
    "id": "ZRroCsLj7uxc"
   },
   "execution_count": null,
   "outputs": []
  },
  {
   "cell_type": "code",
   "source": [
    "a"
   ],
   "metadata": {
    "colab": {
     "base_uri": "https://localhost:8080/"
    },
    "id": "E-YFU0WL74PZ",
    "outputId": "0374087e-8ec0-405d-eccf-624c1020fafa"
   },
   "execution_count": null,
   "outputs": [
    {
     "output_type": "execute_result",
     "data": {
      "text/plain": [
       "10"
      ]
     },
     "metadata": {},
     "execution_count": 9
    }
   ]
  },
  {
   "cell_type": "code",
   "source": [
    "A"
   ],
   "metadata": {
    "colab": {
     "base_uri": "https://localhost:8080/",
     "height": 166
    },
    "id": "bUYC73Lj75Fy",
    "outputId": "19ec4f1e-2185-4eec-f253-31580dfe32f0"
   },
   "execution_count": null,
   "outputs": [
    {
     "output_type": "error",
     "ename": "NameError",
     "evalue": "ignored",
     "traceback": [
      "\u001B[0;31m---------------------------------------------------------------------------\u001B[0m",
      "\u001B[0;31mNameError\u001B[0m                                 Traceback (most recent call last)",
      "\u001B[0;32m<ipython-input-10-7d157d7c000a>\u001B[0m in \u001B[0;36m<cell line: 1>\u001B[0;34m()\u001B[0m\n\u001B[0;32m----> 1\u001B[0;31m \u001B[0mA\u001B[0m\u001B[0;34m\u001B[0m\u001B[0;34m\u001B[0m\u001B[0m\n\u001B[0m",
      "\u001B[0;31mNameError\u001B[0m: name 'A' is not defined"
     ]
    }
   ]
  },
  {
   "cell_type": "markdown",
   "source": [
    "## Salidas y Entradas básicas (I/O)"
   ],
   "metadata": {
    "id": "unHNHen2GqJm"
   }
  },
  {
   "cell_type": "code",
   "source": [
    "print(a)"
   ],
   "metadata": {
    "colab": {
     "base_uri": "https://localhost:8080/"
    },
    "id": "EuOA9Xx_8bFU",
    "outputId": "dff47728-f3d5-489d-d389-b5e5c8650321"
   },
   "execution_count": null,
   "outputs": [
    {
     "output_type": "stream",
     "name": "stdout",
     "text": [
      "1\n"
     ]
    }
   ]
  },
  {
   "cell_type": "code",
   "source": [
    "Print = input('Escribe un número: ')\n",
    "\n",
    "print(Print)"
   ],
   "metadata": {
    "colab": {
     "base_uri": "https://localhost:8080/"
    },
    "id": "MyZY7vsl-pdT",
    "outputId": "5161f7aa-b6b2-4086-aa20-bc654f54bb4c"
   },
   "execution_count": null,
   "outputs": [
    {
     "output_type": "stream",
     "name": "stdout",
     "text": [
      "Escribe un número: 10\n",
      "10\n"
     ]
    }
   ]
  },
  {
   "cell_type": "code",
   "source": [
    "print(Print + Print)"
   ],
   "metadata": {
    "colab": {
     "base_uri": "https://localhost:8080/"
    },
    "id": "DcY-lLHcA2f3",
    "outputId": "3e87f2b7-dffd-4dab-d6d5-5bcfe544f9a5"
   },
   "execution_count": null,
   "outputs": [
    {
     "output_type": "stream",
     "name": "stdout",
     "text": [
      "1010\n"
     ]
    }
   ]
  },
  {
   "cell_type": "code",
   "source": [
    "Print = int(Print)\n",
    "print(Print * Print)"
   ],
   "metadata": {
    "colab": {
     "base_uri": "https://localhost:8080/"
    },
    "id": "s_cZa6h5-5RL",
    "outputId": "47f80c73-6e2e-4ad8-9c6c-31f3abe05f95"
   },
   "execution_count": null,
   "outputs": [
    {
     "output_type": "stream",
     "name": "stdout",
     "text": [
      "100\n"
     ]
    }
   ]
  },
  {
   "cell_type": "code",
   "source": [
    "d = int(input('Escribe un número: '))\n",
    "\n",
    "print(d)\n",
    "print(type(d))"
   ],
   "metadata": {
    "colab": {
     "base_uri": "https://localhost:8080/",
     "height": 235
    },
    "id": "VXftJmqYAjpx",
    "outputId": "2cac13a1-ab8c-4672-d2b3-2b0602fbfae4"
   },
   "execution_count": null,
   "outputs": [
    {
     "name": "stdout",
     "output_type": "stream",
     "text": [
      "Escribe un número: asd\n"
     ]
    },
    {
     "output_type": "error",
     "ename": "ValueError",
     "evalue": "ignored",
     "traceback": [
      "\u001B[0;31m---------------------------------------------------------------------------\u001B[0m",
      "\u001B[0;31mValueError\u001B[0m                                Traceback (most recent call last)",
      "\u001B[0;32m<ipython-input-20-b26b99b280eb>\u001B[0m in \u001B[0;36m<cell line: 1>\u001B[0;34m()\u001B[0m\n\u001B[0;32m----> 1\u001B[0;31m \u001B[0md\u001B[0m \u001B[0;34m=\u001B[0m \u001B[0mint\u001B[0m\u001B[0;34m(\u001B[0m\u001B[0minput\u001B[0m\u001B[0;34m(\u001B[0m\u001B[0;34m'Escribe un número: '\u001B[0m\u001B[0;34m)\u001B[0m\u001B[0;34m)\u001B[0m\u001B[0;34m\u001B[0m\u001B[0;34m\u001B[0m\u001B[0m\n\u001B[0m\u001B[1;32m      2\u001B[0m \u001B[0;34m\u001B[0m\u001B[0m\n\u001B[1;32m      3\u001B[0m \u001B[0mprint\u001B[0m\u001B[0;34m(\u001B[0m\u001B[0md\u001B[0m\u001B[0;34m)\u001B[0m\u001B[0;34m\u001B[0m\u001B[0;34m\u001B[0m\u001B[0m\n\u001B[1;32m      4\u001B[0m \u001B[0mprint\u001B[0m\u001B[0;34m(\u001B[0m\u001B[0mtype\u001B[0m\u001B[0;34m(\u001B[0m\u001B[0md\u001B[0m\u001B[0;34m)\u001B[0m\u001B[0;34m)\u001B[0m\u001B[0;34m\u001B[0m\u001B[0;34m\u001B[0m\u001B[0m\n",
      "\u001B[0;31mValueError\u001B[0m: invalid literal for int() with base 10: 'asd'"
     ]
    }
   ]
  },
  {
   "cell_type": "markdown",
   "source": [
    "# Tipos de datos"
   ],
   "metadata": {
    "id": "s_jMVjSGHZlb"
   }
  },
  {
   "cell_type": "markdown",
   "source": [
    "* int\n",
    "* float\n",
    "* String\n",
    "  * 'Simple' \n",
    "  * \"Doble\"  \n",
    "  * \"\"\"Triple\"\"\"\n",
    "* bool"
   ],
   "metadata": {
    "id": "y9C0dQTGHi7Z"
   }
  },
  {
   "cell_type": "code",
   "source": [
    "a = 10\n",
    "b = 10.\n",
    "c = 10.5104\n",
    "d = 10e-5\n",
    "\n",
    "print(type(a))\n",
    "print(type(b))\n",
    "print(type(c))\n",
    "print(type(d))"
   ],
   "metadata": {
    "colab": {
     "base_uri": "https://localhost:8080/"
    },
    "id": "EQTNyFTmHd0V",
    "outputId": "2ddd27bb-9801-42e4-bae4-47c0856a402a"
   },
   "execution_count": null,
   "outputs": [
    {
     "output_type": "stream",
     "name": "stdout",
     "text": [
      "<class 'int'>\n",
      "<class 'float'>\n",
      "<class 'float'>\n",
      "<class 'float'>\n"
     ]
    }
   ]
  },
  {
   "cell_type": "code",
   "source": [
    "print(c)\n",
    "print(round(c, 2))"
   ],
   "metadata": {
    "colab": {
     "base_uri": "https://localhost:8080/"
    },
    "id": "zl-hANNIIpSj",
    "outputId": "1015fc43-1dee-4db9-8b25-0c24e450aa71"
   },
   "execution_count": null,
   "outputs": [
    {
     "output_type": "stream",
     "name": "stdout",
     "text": [
      "10.5104\n",
      "10.51\n"
     ]
    }
   ]
  },
  {
   "cell_type": "code",
   "source": [
    "int(c)"
   ],
   "metadata": {
    "colab": {
     "base_uri": "https://localhost:8080/"
    },
    "id": "EkMRpDRRI1yX",
    "outputId": "1048e6bd-8073-4934-f6f4-fa5efb951271"
   },
   "execution_count": null,
   "outputs": [
    {
     "output_type": "execute_result",
     "data": {
      "text/plain": [
       "10"
      ]
     },
     "metadata": {},
     "execution_count": 29
    }
   ]
  },
  {
   "cell_type": "code",
   "source": [
    "round(c)"
   ],
   "metadata": {
    "colab": {
     "base_uri": "https://localhost:8080/"
    },
    "id": "_I85nE8LJi4y",
    "outputId": "0220d971-f1e2-4797-811f-623b79b001d3"
   },
   "execution_count": null,
   "outputs": [
    {
     "output_type": "execute_result",
     "data": {
      "text/plain": [
       "11"
      ]
     },
     "metadata": {},
     "execution_count": 30
    }
   ]
  },
  {
   "cell_type": "code",
   "source": [
    "print(a)\n",
    "print(float(a))"
   ],
   "metadata": {
    "colab": {
     "base_uri": "https://localhost:8080/"
    },
    "id": "6Y6JtXYcJme3",
    "outputId": "fada08bc-0679-4131-fa36-3534bd6a2e41"
   },
   "execution_count": null,
   "outputs": [
    {
     "output_type": "stream",
     "name": "stdout",
     "text": [
      "10\n",
      "10.0\n"
     ]
    }
   ]
  },
  {
   "cell_type": "code",
   "source": [
    "a = 'Esto es un string'\n",
    "b = \"Esto también es un string\"\n",
    "c = \"\"\"Esto es otro tipo de string\"\"\""
   ],
   "metadata": {
    "id": "2685EIGqJyZd"
   },
   "execution_count": null,
   "outputs": []
  },
  {
   "cell_type": "code",
   "source": [
    "d = \"Esto es un sting\n",
    "más largo\""
   ],
   "metadata": {
    "colab": {
     "base_uri": "https://localhost:8080/",
     "height": 131
    },
    "id": "EBHMQekZKCJX",
    "outputId": "7ee111b8-940e-40c0-9b22-7ed811ad4252"
   },
   "execution_count": null,
   "outputs": [
    {
     "output_type": "error",
     "ename": "SyntaxError",
     "evalue": "ignored",
     "traceback": [
      "\u001B[0;36m  File \u001B[0;32m\"<ipython-input-36-f4aa9302922e>\"\u001B[0;36m, line \u001B[0;32m1\u001B[0m\n\u001B[0;31m    d = \"Esto es un sting\u001B[0m\n\u001B[0m        ^\u001B[0m\n\u001B[0;31mSyntaxError\u001B[0m\u001B[0;31m:\u001B[0m unterminated string literal (detected at line 1)\n"
     ]
    }
   ]
  },
  {
   "cell_type": "code",
   "source": [
    "b = \"Esto también es un string Esto también es un string Esto también es un string Esto también es un string Esto también es un string Esto también es un string Esto también es un string \""
   ],
   "metadata": {
    "id": "fnNlm5f3K71z"
   },
   "execution_count": null,
   "outputs": []
  },
  {
   "cell_type": "code",
   "source": [
    "d = \"\"\"Esto es un string\n",
    "más largo\"\"\""
   ],
   "metadata": {
    "id": "BvjO6ns6KY6d"
   },
   "execution_count": null,
   "outputs": []
  },
  {
   "cell_type": "code",
   "source": [
    "float('10.5')"
   ],
   "metadata": {
    "colab": {
     "base_uri": "https://localhost:8080/"
    },
    "id": "y3W3rtThKdWg",
    "outputId": "8d1091cb-1c72-4c0c-ef21-cbe1403f6551"
   },
   "execution_count": null,
   "outputs": [
    {
     "output_type": "execute_result",
     "data": {
      "text/plain": [
       "10.5"
      ]
     },
     "metadata": {},
     "execution_count": 38
    }
   ]
  },
  {
   "cell_type": "code",
   "source": [
    "int('10.5')"
   ],
   "metadata": {
    "colab": {
     "base_uri": "https://localhost:8080/",
     "height": 166
    },
    "id": "-5awfPXnLPC4",
    "outputId": "6522f316-5da7-4b78-a568-bffb0f4e2ac0"
   },
   "execution_count": null,
   "outputs": [
    {
     "output_type": "error",
     "ename": "ValueError",
     "evalue": "ignored",
     "traceback": [
      "\u001B[0;31m---------------------------------------------------------------------------\u001B[0m",
      "\u001B[0;31mValueError\u001B[0m                                Traceback (most recent call last)",
      "\u001B[0;32m<ipython-input-39-6cc59efdcec3>\u001B[0m in \u001B[0;36m<cell line: 1>\u001B[0;34m()\u001B[0m\n\u001B[0;32m----> 1\u001B[0;31m \u001B[0mint\u001B[0m\u001B[0;34m(\u001B[0m\u001B[0;34m'10.5'\u001B[0m\u001B[0;34m)\u001B[0m\u001B[0;34m\u001B[0m\u001B[0;34m\u001B[0m\u001B[0m\n\u001B[0m",
      "\u001B[0;31mValueError\u001B[0m: invalid literal for int() with base 10: '10.5'"
     ]
    }
   ]
  },
  {
   "cell_type": "code",
   "source": [
    "f = '10.5'\n",
    "int(float(f))"
   ],
   "metadata": {
    "colab": {
     "base_uri": "https://localhost:8080/"
    },
    "id": "Q15MmcqwLRO-",
    "outputId": "e6c49855-1fb7-4c80-9a5e-44b123741405"
   },
   "execution_count": null,
   "outputs": [
    {
     "output_type": "execute_result",
     "data": {
      "text/plain": [
       "10"
      ]
     },
     "metadata": {},
     "execution_count": 43
    }
   ]
  },
  {
   "cell_type": "code",
   "source": [
    "bool(10)"
   ],
   "metadata": {
    "colab": {
     "base_uri": "https://localhost:8080/"
    },
    "id": "ezAf13T9LToM",
    "outputId": "c627ce84-0669-42ae-b89d-7132aba71c59"
   },
   "execution_count": null,
   "outputs": [
    {
     "output_type": "execute_result",
     "data": {
      "text/plain": [
       "True"
      ]
     },
     "metadata": {},
     "execution_count": 41
    }
   ]
  },
  {
   "cell_type": "code",
   "source": [
    "print(bool(-1))\n",
    "print(bool(0))\n",
    "print(bool(1))\n",
    "print(bool(10))"
   ],
   "metadata": {
    "colab": {
     "base_uri": "https://localhost:8080/"
    },
    "id": "840FQCQALlBw",
    "outputId": "7f2cb0de-0ab6-4942-87ea-5626274b1c04"
   },
   "execution_count": null,
   "outputs": [
    {
     "output_type": "stream",
     "name": "stdout",
     "text": [
      "True\n",
      "False\n",
      "True\n",
      "True\n"
     ]
    }
   ]
  },
  {
   "cell_type": "code",
   "source": [
    "print(bool(-1.1))\n",
    "print(bool(0.0))\n",
    "print(bool(1.5))"
   ],
   "metadata": {
    "colab": {
     "base_uri": "https://localhost:8080/"
    },
    "id": "Wl5rCWC0LtkR",
    "outputId": "972d06c3-2922-42d0-abf2-53b87ef300e4"
   },
   "execution_count": null,
   "outputs": [
    {
     "output_type": "stream",
     "name": "stdout",
     "text": [
      "True\n",
      "False\n",
      "True\n"
     ]
    }
   ]
  },
  {
   "cell_type": "code",
   "source": [
    "print(bool(''))\n",
    "print(bool(' '))\n",
    "print(bool('algo'))"
   ],
   "metadata": {
    "colab": {
     "base_uri": "https://localhost:8080/"
    },
    "id": "UjtDR_FMMiIW",
    "outputId": "4dd2cd7b-ed36-4050-9e7b-ba0056cbf580"
   },
   "execution_count": null,
   "outputs": [
    {
     "output_type": "stream",
     "name": "stdout",
     "text": [
      "False\n",
      "True\n",
      "True\n"
     ]
    }
   ]
  },
  {
   "cell_type": "code",
   "source": [
    "a = False\n",
    "b = True\n",
    "print(a)\n",
    "print(b)"
   ],
   "metadata": {
    "colab": {
     "base_uri": "https://localhost:8080/"
    },
    "id": "wpz6zxGEMrNj",
    "outputId": "93c45d18-2471-4eb0-a4cf-5750d230e010"
   },
   "execution_count": null,
   "outputs": [
    {
     "output_type": "stream",
     "name": "stdout",
     "text": [
      "False\n",
      "True\n"
     ]
    }
   ]
  },
  {
   "cell_type": "code",
   "source": [
    "a = true"
   ],
   "metadata": {
    "colab": {
     "base_uri": "https://localhost:8080/",
     "height": 166
    },
    "id": "4hbpocJjM3Uc",
    "outputId": "c873d846-8094-4592-90f4-eaca7efcbc30"
   },
   "execution_count": null,
   "outputs": [
    {
     "output_type": "error",
     "ename": "NameError",
     "evalue": "ignored",
     "traceback": [
      "\u001B[0;31m---------------------------------------------------------------------------\u001B[0m",
      "\u001B[0;31mNameError\u001B[0m                                 Traceback (most recent call last)",
      "\u001B[0;32m<ipython-input-48-c100e6034b0a>\u001B[0m in \u001B[0;36m<cell line: 1>\u001B[0;34m()\u001B[0m\n\u001B[0;32m----> 1\u001B[0;31m \u001B[0ma\u001B[0m \u001B[0;34m=\u001B[0m \u001B[0mtrue\u001B[0m\u001B[0;34m\u001B[0m\u001B[0;34m\u001B[0m\u001B[0m\n\u001B[0m",
      "\u001B[0;31mNameError\u001B[0m: name 'true' is not defined"
     ]
    }
   ]
  },
  {
   "cell_type": "code",
   "source": [
    "p = 5\n",
    "print(bool(p))\n",
    "p = 4\n",
    "print(bool(p))\n",
    "p = 0\n",
    "print(bool(p))\n",
    "p = False\n",
    "print(bool(p))"
   ],
   "metadata": {
    "colab": {
     "base_uri": "https://localhost:8080/"
    },
    "id": "zkvXaelSMzRG",
    "outputId": "ffb533dd-1d52-48c8-d630-2881e57a887b"
   },
   "execution_count": null,
   "outputs": [
    {
     "output_type": "stream",
     "name": "stdout",
     "text": [
      "True\n",
      "True\n",
      "False\n",
      "False\n"
     ]
    }
   ]
  },
  {
   "cell_type": "code",
   "source": [
    "5 == 4"
   ],
   "metadata": {
    "colab": {
     "base_uri": "https://localhost:8080/"
    },
    "id": "VeuQIF19N5CP",
    "outputId": "4780b39c-e8b8-4579-ca4c-e055d3410521"
   },
   "execution_count": null,
   "outputs": [
    {
     "output_type": "execute_result",
     "data": {
      "text/plain": [
       "False"
      ]
     },
     "metadata": {},
     "execution_count": 51
    }
   ]
  },
  {
   "cell_type": "code",
   "source": [
    "p = (5 == 4)\n",
    "print(p)"
   ],
   "metadata": {
    "colab": {
     "base_uri": "https://localhost:8080/"
    },
    "id": "5b1fbhyMOGPM",
    "outputId": "5b7ec7fb-523d-4f3c-efda-c9707674aad7"
   },
   "execution_count": null,
   "outputs": [
    {
     "output_type": "stream",
     "name": "stdout",
     "text": [
      "False\n"
     ]
    }
   ]
  },
  {
   "cell_type": "markdown",
   "source": [
    "# Comentarios\n",
    "Son útiles para incluir notas: en el código"
   ],
   "metadata": {
    "id": "CY7fc0XMPX_C"
   }
  },
  {
   "cell_type": "code",
   "source": [
    "# Esto es un comentario\n",
    "p = 5  # Esto también es un comentario\n",
    "print(p)"
   ],
   "metadata": {
    "colab": {
     "base_uri": "https://localhost:8080/"
    },
    "id": "8i91ifsKOJEf",
    "outputId": "06dba7db-befa-453a-8f0b-1f158d35cfd1"
   },
   "execution_count": null,
   "outputs": [
    {
     "output_type": "stream",
     "name": "stdout",
     "text": [
      "5\n"
     ]
    }
   ]
  },
  {
   "cell_type": "markdown",
   "source": [
    "# Ejercicio 1 - Mailing Address\n",
    "Create a program that displays your name and complete mailing address.\n",
    "\n"
   ],
   "metadata": {
    "id": "O_oAflt6Pski"
   }
  },
  {
   "cell_type": "code",
   "source": [
    "print('Manuel')\n",
    "print('Calle 0')"
   ],
   "metadata": {
    "colab": {
     "base_uri": "https://localhost:8080/"
    },
    "id": "-luPCEzgOsZK",
    "outputId": "9ce5d822-b656-417d-ecd4-01ec1b7d8b33"
   },
   "execution_count": null,
   "outputs": [
    {
     "output_type": "stream",
     "name": "stdout",
     "text": [
      "Manuel\n",
      "Calle 0\n"
     ]
    }
   ]
  },
  {
   "cell_type": "code",
   "source": [
    "nombre = input('Nombre: ')\n",
    "direccion = input('Dirección: ')\n",
    "print(nombre)\n",
    "print(direccion)"
   ],
   "metadata": {
    "colab": {
     "base_uri": "https://localhost:8080/"
    },
    "id": "vw98XhWZQKgZ",
    "outputId": "ce9ddb3e-5969-4bc1-a11b-97e35cd70171"
   },
   "execution_count": null,
   "outputs": [
    {
     "output_type": "stream",
     "name": "stdout",
     "text": [
      "Nombre: Manuel\n",
      "Dirección: Calle 13\n",
      "Manuel\n",
      "Calle 13\n"
     ]
    }
   ]
  },
  {
   "cell_type": "code",
   "source": [
    "print(\"\"\"Nombre\n",
    "Dirección\"\"\")"
   ],
   "metadata": {
    "colab": {
     "base_uri": "https://localhost:8080/"
    },
    "id": "0kuZo8YGQ65Q",
    "outputId": "8e417c6a-3223-47c5-ed51-30e0b2856ffc"
   },
   "execution_count": null,
   "outputs": [
    {
     "output_type": "stream",
     "name": "stdout",
     "text": [
      "Nombre\n",
      "Dirección\n"
     ]
    }
   ]
  },
  {
   "cell_type": "code",
   "source": [
    "print(nombre, direccion)\n",
    "print('Nombre:', nombre, 'Dirección:', direccion)"
   ],
   "metadata": {
    "colab": {
     "base_uri": "https://localhost:8080/"
    },
    "id": "wo6jt-veQccB",
    "outputId": "013d00e7-15ef-41e5-a21c-2743d224973e"
   },
   "execution_count": null,
   "outputs": [
    {
     "output_type": "stream",
     "name": "stdout",
     "text": [
      "Manuel Calle 13\n",
      "Nombre: Manuel Dirección: Calle 13\n"
     ]
    }
   ]
  },
  {
   "cell_type": "code",
   "source": [
    "print('Nombre:', nombre, '\\nDirección:', direccion)"
   ],
   "metadata": {
    "colab": {
     "base_uri": "https://localhost:8080/"
    },
    "id": "3rmES2dWROJI",
    "outputId": "4e83c8bb-d631-4fdf-aca0-72c637c943e8"
   },
   "execution_count": null,
   "outputs": [
    {
     "output_type": "stream",
     "name": "stdout",
     "text": [
      "Nombre: Manuel \n",
      "Dirección: Calle 13\n"
     ]
    }
   ]
  },
  {
   "cell_type": "markdown",
   "source": [
    "# Ejercicio 3 - Area of a room\n",
    "Write a program that asks the user to enter the width and length of a room. Once\n",
    "the values have been read, your program should compute and display the area of the\n",
    "room."
   ],
   "metadata": {
    "id": "tbBR62uvRvwJ"
   }
  },
  {
   "cell_type": "code",
   "source": [
    "largo = float(input('¿Cuál es el largo de la pieza?: '))\n",
    "ancho = float(input('¿Cuál es el ancho de la pieza?: '))\n",
    "\n",
    "print('El área del cuarto es de', largo * ancho, 'm2')"
   ],
   "metadata": {
    "colab": {
     "base_uri": "https://localhost:8080/"
    },
    "id": "nfTTJ7XMSMyr",
    "outputId": "9c04b167-a627-4322-999f-6330e80ac113"
   },
   "execution_count": null,
   "outputs": [
    {
     "output_type": "stream",
     "name": "stdout",
     "text": [
      "¿Cuál es el largo de la pieza?: 3\n",
      "¿Cuál es el ancho de la pieza?: 4\n",
      "El área del cuarto es de 12.0 m2\n"
     ]
    }
   ]
  },
  {
   "cell_type": "code",
   "source": [],
   "metadata": {
    "id": "I2NKVfh-S4wn"
   },
   "execution_count": null,
   "outputs": []
  },
  {
   "cell_type": "markdown",
   "source": [
    "# Operadores y precedencia\n",
    "\n",
    "https://docs.python.org/3/library/operator.html\n",
    "\n",
    "- Aritméticos\n",
    "  - Suma\n",
    "  - Resta\n",
    "  - Multiplicacion\n",
    "  - División\n",
    "  - Potencia\n",
    "  - Módulo\n",
    "- Lógicos\n",
    "  - .\n",
    "- De comparación\n",
    "  - .\n",
    "- Bitwise\n",
    "  - .\n",
    "  - https://realpython.com/python-bitwise-operators/"
   ],
   "metadata": {
    "id": "5LgpS_0oTP3P"
   }
  },
  {
   "cell_type": "code",
   "source": [
    "print(5 + 5)\n",
    "print('5' + '5')\n",
    "print(True + True)\n",
    "print(False + True)"
   ],
   "metadata": {
    "colab": {
     "base_uri": "https://localhost:8080/"
    },
    "id": "C2Ngz3bUTSST",
    "outputId": "67d878d8-d623-4a46-8c4b-959defa5e15a"
   },
   "execution_count": null,
   "outputs": [
    {
     "output_type": "stream",
     "name": "stdout",
     "text": [
      "10\n",
      "55\n",
      "2\n",
      "1\n"
     ]
    }
   ]
  },
  {
   "cell_type": "code",
   "source": [
    "print('5' - '5')"
   ],
   "metadata": {
    "colab": {
     "base_uri": "https://localhost:8080/",
     "height": 201
    },
    "id": "bSD-vaM3Vdjd",
    "outputId": "602cf44c-ccc9-4574-a49d-1c42885777a7"
   },
   "execution_count": null,
   "outputs": [
    {
     "output_type": "error",
     "ename": "TypeError",
     "evalue": "ignored",
     "traceback": [
      "\u001B[0;31m---------------------------------------------------------------------------\u001B[0m",
      "\u001B[0;31mTypeError\u001B[0m                                 Traceback (most recent call last)",
      "\u001B[0;32m<ipython-input-65-b6877a68205a>\u001B[0m in \u001B[0;36m<cell line: 1>\u001B[0;34m()\u001B[0m\n\u001B[0;32m----> 1\u001B[0;31m \u001B[0mprint\u001B[0m\u001B[0;34m(\u001B[0m\u001B[0;34m'5'\u001B[0m \u001B[0;34m-\u001B[0m \u001B[0;34m'5'\u001B[0m\u001B[0;34m)\u001B[0m\u001B[0;34m\u001B[0m\u001B[0;34m\u001B[0m\u001B[0m\n\u001B[0m\u001B[1;32m      2\u001B[0m \u001B[0mprint\u001B[0m\u001B[0;34m(\u001B[0m\u001B[0;32mTrue\u001B[0m \u001B[0;34m-\u001B[0m \u001B[0;32mTrue\u001B[0m\u001B[0;34m)\u001B[0m\u001B[0;34m\u001B[0m\u001B[0;34m\u001B[0m\u001B[0m\n\u001B[1;32m      3\u001B[0m \u001B[0mprint\u001B[0m\u001B[0;34m(\u001B[0m\u001B[0;32mFalse\u001B[0m \u001B[0;34m-\u001B[0m \u001B[0;32mTrue\u001B[0m\u001B[0;34m)\u001B[0m\u001B[0;34m\u001B[0m\u001B[0;34m\u001B[0m\u001B[0m\n",
      "\u001B[0;31mTypeError\u001B[0m: unsupported operand type(s) for -: 'str' and 'str'"
     ]
    }
   ]
  },
  {
   "cell_type": "code",
   "source": [
    "print(True - True)\n",
    "print(False - True)"
   ],
   "metadata": {
    "id": "u8XPqHfNVp3I",
    "outputId": "6a3bec26-5704-44d3-84fc-e875ba3c54b7",
    "colab": {
     "base_uri": "https://localhost:8080/"
    }
   },
   "execution_count": null,
   "outputs": [
    {
     "output_type": "stream",
     "name": "stdout",
     "text": [
      "0\n",
      "-1\n"
     ]
    }
   ]
  },
  {
   "cell_type": "markdown",
   "source": [
    "# String formatting"
   ],
   "metadata": {
    "id": "xxNWyyK7hjId"
   }
  },
  {
   "cell_type": "code",
   "source": [],
   "metadata": {
    "id": "ByaKGg-Qouam"
   },
   "execution_count": null,
   "outputs": []
  },
  {
   "cell_type": "markdown",
   "source": [
    "# Palabras Reservadas\n",
    "\n",
    "https://realpython.com/lessons/reserved-keywords/"
   ],
   "metadata": {
    "id": "Fw0w6lUeopk6"
   }
  },
  {
   "cell_type": "code",
   "source": [
    "help(\"keywords\")"
   ],
   "metadata": {
    "id": "-9YWryj-osZn"
   },
   "execution_count": null,
   "outputs": []
  },
  {
   "cell_type": "markdown",
   "source": [
    "# Caracteres Especiales"
   ],
   "metadata": {
    "id": "hAjU8jOkos8W"
   }
  },
  {
   "cell_type": "code",
   "source": [],
   "metadata": {
    "id": "pQkXmxoeotUF"
   },
   "execution_count": null,
   "outputs": []
  }
 ]
}
