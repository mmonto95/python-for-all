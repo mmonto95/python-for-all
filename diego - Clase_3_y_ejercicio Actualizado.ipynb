{
 "nbformat": 4,
 "nbformat_minor": 0,
 "metadata": {
  "colab": {
   "provenance": []
  },
  "kernelspec": {
   "name": "python3",
   "display_name": "Python 3"
  },
  "language_info": {
   "name": "python"
  }
 },
 "cells": [
  {
   "cell_type": "code",
   "execution_count": 3,
   "metadata": {
    "colab": {
     "base_uri": "https://localhost:8080/"
    },
    "id": "SGlvaSCx0GBh",
    "outputId": "8fed13d9-5738-4730-cf2a-80cab6a87030"
   },
   "outputs": [
    {
     "output_type": "stream",
     "name": "stdout",
     "text": [
      "Hola,manolo\n"
     ]
    }
   ],
   "source": [
    "mensaje=\"Hola,{}\"\n",
    "nombre=\"manolo\"\n",
    "saludo=mensaje.format(nombre)\n",
    "print(saludo)"
   ]
  },
  {
   "cell_type": "code",
   "source": [
    "mensaje2=\"como moco {} {}\"\n",
    "hoy=\"marzo\"\n",
    "dia=\"3\"\n",
    "saludado=mensaje2.format(hoy,dia)\n",
    "print(saludado)"
   ],
   "metadata": {
    "colab": {
     "base_uri": "https://localhost:8080/"
    },
    "id": "m4NULMA70dmI",
    "outputId": "035c493b-81f8-4afb-b57a-510ce1ec0b21"
   },
   "execution_count": 4,
   "outputs": [
    {
     "output_type": "stream",
     "name": "stdout",
     "text": [
      "como moco marzo 3\n"
     ]
    }
   ]
  },
  {
   "cell_type": "markdown",
   "source": [
    "mensaje3=\"Hola, {nombre_cliente} {apellido_cliente} {Segundo_apellido_cliente}\"\n",
    "nombre= \"MANOLO\"\n",
    "apellido= \"elver \"\n",
    "Segundo_apellido= \"Parzetti\"\n",
    "saludo4= mensaje3.format(nombre_cliente=nombre, apellido_cliente=apellido,Segundo_apellido_cliente= Segundo_apellido)\n",
    "print(saludo4)\n"
   ],
   "metadata": {
    "id": "Ru9NDGOn3cQh"
   }
  },
  {
   "cell_type": "code",
   "source": [
    "mensaje3=\"Hola, {nombre_cliente} {apellido_cliente} {Segundo_apellido_cliente}\"\n",
    " nombre= \"MANOLO\" \n",
    " apellido=  \"elver \"\n",
    "   Segundo_apellido="
   ],
   "metadata": {
    "id": "l0g6jJUZ5vwA"
   },
   "execution_count": null,
   "outputs": []
  },
  {
   "cell_type": "code",
   "source": [
    "name=\"jimmy\"\n",
    "apellido=\"montana\"\n",
    "surname=\"zuluaga\"\n",
    "saludo=f\"HOLA' {nombre} {apellido} {surname}\"\n",
    "print(saludo)"
   ],
   "metadata": {
    "colab": {
     "base_uri": "https://localhost:8080/"
    },
    "id": "P7vkeh2H6BsI",
    "outputId": "ae7e8f03-600b-41ac-b0b4-a2e52be3e7d9"
   },
   "execution_count": 8,
   "outputs": [
    {
     "output_type": "stream",
     "name": "stdout",
     "text": [
      "HOLA' MANOLO montana zuluaga\n"
     ]
    }
   ]
  },
  {
   "cell_type": "code",
   "source": [
    "palabras_con_comillas= \"el profe dijo 'presten atencion'  \"\n",
    "print(palabras_con_comillas)"
   ],
   "metadata": {
    "colab": {
     "base_uri": "https://localhost:8080/"
    },
    "id": "f_RJDWWr65UZ",
    "outputId": "fe6b528c-3649-47d2-8ca7-022b50c42f74"
   },
   "execution_count": 11,
   "outputs": [
    {
     "output_type": "stream",
     "name": "stdout",
     "text": [
      "el profe dijo 'presten atencion'  \n"
     ]
    }
   ]
  },
  {
   "cell_type": "code",
   "source": [
    "palabras_con_comillas= \"el profe dijo 'presten atencion'  \"\n",
    "print(palabras_con_comillas)"
   ],
   "metadata": {
    "id": "jDJ9zJkw8nCP"
   },
   "execution_count": null,
   "outputs": []
  },
  {
   "cell_type": "code",
   "source": [],
   "metadata": {
    "id": "NS3l8SYa7ajC"
   },
   "execution_count": null,
   "outputs": []
  },
  {
   "cell_type": "markdown",
   "source": [
    "###Ejercicio #4\n",
    "Create a program that reads the length and width of a farmer’s field from the user in\n",
    "feet. Display the area of the field in acres.\n",
    "Hint: There are 43,560 square feet in an acre.\n",
    "\n"
   ],
   "metadata": {
    "id": "5FQHIjhg-h3X"
   }
  },
  {
   "cell_type": "code",
   "source": [
    "longitud= float(input(\"longitud\"))\n",
    "ancho=float(input(\"ancho\"))\n",
    "\n",
    "area= longitud*ancho\n",
    "\n",
    "conversion_acres= area/43560\n",
    "\n",
    "mensaje= \"El area del campo es {} acress\"\n",
    "\n",
    "solucion=mensaje.format(conversion_acres)\n",
    "print(solucion)"
   ],
   "metadata": {
    "colab": {
     "base_uri": "https://localhost:8080/"
    },
    "id": "zSJjyNgOAVXQ",
    "outputId": "aeb089a0-3a47-4ac2-c6c9-7a0681ec297a"
   },
   "execution_count": 12,
   "outputs": [
    {
     "output_type": "stream",
     "name": "stdout",
     "text": [
      "longitud100\n",
      "ancho50\n",
      "El area del campo es 0.1147842056932966 acress\n"
     ]
    }
   ]
  },
  {
   "cell_type": "code",
   "source": [
    "cantidad_menor_litro = int(input(\"Ingrese la cantidad de envases de un litro o menos: \"))\n",
    "cantidad_mayor_litro = int(input(\"Ingrese la cantidad de envases de más de un litro: \"))\n",
    "\n",
    "deposito_menor_litro = cantidad_menor_litro * 0.10\n",
    "deposito_mayor_litro = cantidad_mayor_litro * 0.25\n",
    "\n",
    "total_deposito = deposito_menor_litro + deposito_mayor_litro\n",
    "\n",
    "Print(\"Elreembolso totales:\", total_deposito)\n"
   ],
   "metadata": {
    "colab": {
     "base_uri": "https://localhost:8080/",
     "height": 235
    },
    "id": "MqKnt364K8R-",
    "outputId": "0185c01a-505b-4d19-b766-1e2c0ca2d395"
   },
   "execution_count": 15,
   "outputs": [
    {
     "name": "stdout",
     "output_type": "stream",
     "text": [
      "Ingrese la cantidad de envases de un litro o menos: 2\n",
      "Ingrese la cantidad de envases de más de un litro: 2\n"
     ]
    },
    {
     "output_type": "error",
     "ename": "NameError",
     "evalue": "ignored",
     "traceback": [
      "\u001B[0;31m---------------------------------------------------------------------------\u001B[0m",
      "\u001B[0;31mNameError\u001B[0m                                 Traceback (most recent call last)",
      "\u001B[0;32m<ipython-input-15-bf36f0c533c2>\u001B[0m in \u001B[0;36m<cell line: 9>\u001B[0;34m()\u001B[0m\n\u001B[1;32m      7\u001B[0m \u001B[0mtotal_deposito\u001B[0m \u001B[0;34m=\u001B[0m \u001B[0mdeposito_menor_litro\u001B[0m \u001B[0;34m+\u001B[0m \u001B[0mdeposito_mayor_litro\u001B[0m\u001B[0;34m\u001B[0m\u001B[0;34m\u001B[0m\u001B[0m\n\u001B[1;32m      8\u001B[0m \u001B[0;34m\u001B[0m\u001B[0m\n\u001B[0;32m----> 9\u001B[0;31m \u001B[0mPrint\u001B[0m\u001B[0;34m(\u001B[0m\u001B[0;34m\"Elreembolso totales:\"\u001B[0m\u001B[0;34m,\u001B[0m \u001B[0mtotal_deposito\u001B[0m\u001B[0;34m)\u001B[0m\u001B[0;34m\u001B[0m\u001B[0;34m\u001B[0m\u001B[0m\n\u001B[0m",
      "\u001B[0;31mNameError\u001B[0m: name 'Print' is not defined"
     ]
    }
   ]
  },
  {
   "cell_type": "markdown",
   "source": [
    "EJERCICIO 32\n",
    "Create a program that reads three integers from the user and displays them in sorted\n",
    "order (from smallest to largest). Use the min and max functions to find the smallest\n",
    "and largest values. The middle value can be found by computing the sum of all three\n",
    "values, and then subtracting the minimum value and the maximum value"
   ],
   "metadata": {
    "id": "Fsvm5G-yNx8z"
   }
  },
  {
   "cell_type": "code",
   "source": [
    "a=int(input(\"PRIMER ENTERO\"))\n",
    "b=int(input(\"Segundo ENTERO\"))\n",
    "c=int(input(\"Tercer ENTERO\"))\n",
    "\n",
    "minimo=min(a,b,c)\n",
    "maximo=max(a,b,c)\n",
    "medio=a+b+c-minimo-maximo\n",
    "\n",
    "print(minimo)\n",
    "print(medio)\n",
    "print(maximo)\n"
   ],
   "metadata": {
    "colab": {
     "base_uri": "https://localhost:8080/"
    },
    "id": "I26wWWihNSNc",
    "outputId": "f9a4b532-c574-49f7-b6a0-c065d89a0281"
   },
   "execution_count": 17,
   "outputs": [
    {
     "output_type": "stream",
     "name": "stdout",
     "text": [
      "PRIMER ENTERO1\n",
      "Segundo ENTERO4\n",
      "Tercer ENTERO5\n",
      "1\n",
      "4\n",
      "5\n"
     ]
    }
   ]
  },
  {
   "cell_type": "markdown",
   "source": [
    "### EJERCICIO 33\n",
    "A bakery sells loaves of bread for $3.49 each. Day old bread is discounted by 60\n",
    "percent. Write a program that begins by reading the number of loaves of day old\n",
    "bread being purchased from the user. Then your program should display the regular\n",
    "price for the bread, the discount because it is a day old, and the total price. All of the\n",
    "values should be displayed using two decimal places, and the decimal points in all\n",
    "of the numbers should be aligned when reasonable values are entered by the user"
   ],
   "metadata": {
    "id": "8NUMHTNUPBtE"
   }
  },
  {
   "cell_type": "code",
   "source": [
    "trozos_de_pan=int(input(\"Numero de panes vencidos\"))\n",
    "precio_regular = trozos_de_pan * 3.49\n",
    "descuento = precio_regular * 0.60\n",
    "precio_total = precio_regular - descuento\n",
    "\n",
    "print(\"el precio regular es:\", round(precio_regular, 2))\n",
    "print(\"el descuento es:\", round(descuento, 2))\n",
    "print(\"el precio total es:\", round(precio_total, 2))\n",
    "\n"
   ],
   "metadata": {
    "colab": {
     "base_uri": "https://localhost:8080/"
    },
    "id": "TbUHZjWqPJfr",
    "outputId": "c30575f9-66be-4aa6-ae46-626dd193161a"
   },
   "execution_count": 3,
   "outputs": [
    {
     "name": "stdout",
     "output_type": "stream",
     "text": [
      "el precio regular es: 10.47\n",
      "el descuento es: 6.28\n",
      "el precio total es: 4.19\n"
     ]
    }
   ]
  },
  {
   "cell_type": "code",
   "execution_count": null,
   "outputs": [],
   "source": [],
   "metadata": {
    "collapsed": false
   }
  }
 ]
}
