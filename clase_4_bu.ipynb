{
  "nbformat": 4,
  "nbformat_minor": 0,
  "metadata": {
    "colab": {
      "provenance": []
    },
    "kernelspec": {
      "name": "python3",
      "display_name": "Python 3"
    },
    "language_info": {
      "name": "python"
    }
  },
  "cells": [
    {
      "cell_type": "markdown",
      "source": [
        "# Dudas Sesión Anterior"
      ],
      "metadata": {
        "id": "qY-B0FlvmAdh"
      }
    },
    {
      "cell_type": "code",
      "source": [
        "# Ejercicio"
      ],
      "metadata": {
        "id": "DV3ocEr5mHxS"
      },
      "execution_count": null,
      "outputs": []
    },
    {
      "cell_type": "code",
      "source": [
        "# Ejercicio 48\n",
        "\"\"\"\n",
        "0 Dragon\n",
        "1 Snake\n",
        "2 Horse\n",
        "3 Sheep\n",
        "4 Monkey\n",
        "5 Rooster\n",
        "6 Dog\n",
        "7 Pig\n",
        "8 Rat\n",
        "9 Ox\n",
        "10 Tiger\n",
        "11 Hare\n",
        "\"\"\"\n",
        "year = int(input(\"Por favor ingrese un año: \"))\n",
        "zodiaco = year%12\n",
        "animal =\"\"\n",
        "if(zodiaco == 0): \n",
        "    animal = \"Dragon\"\n",
        "elif(zodiaco == 1): \n",
        "    animal = \"Snake\"\n",
        "elif(zodiaco == 2): \n",
        "    animal = \"Horse\"\n",
        "elif(zodiaco == 3): \n",
        "    animal = \"Sheep\"\n",
        "elif(zodiaco == 4): \n",
        "    animal = \"Monkey\"\n",
        "elif(zodiaco == 5): \n",
        "    animal = \"Rooster\"\n",
        "elif(zodiaco == 6): \n",
        "    animal = \"Dog\"\n",
        "elif(zodiaco == 7): \n",
        "    animal = \"Pig\"\n",
        "elif(zodiaco == 8): \n",
        "    animal = \"Rat\"\n",
        "elif(zodiaco == 9): \n",
        "    animal = \"Ox\"\n",
        "elif(zodiaco == 10): \n",
        "    animal = \"Tiger\"\n",
        "elif(zodiaco == 11): \n",
        "    animal = \"Hare\"\n",
        "\n",
        "print(f\"El zodiaco para el año {year} es {animal}\")"
      ],
      "metadata": {
        "id": "1TZeKp__mICW"
      },
      "execution_count": null,
      "outputs": []
    },
    {
      "cell_type": "code",
      "source": [
        "# Ejercicio 38\n",
        "\n",
        "#mes = int(input(\"Por favor ingrese un mes: \"))\n",
        "\n",
        "# dias =\"\"\n",
        "# if(mes == 1): \n",
        "#     dias = 31\n",
        "# elif(mes == 2): \n",
        "#     dias = \"28 o 29 días\"\n",
        "# elif(mes == 3): \n",
        "#     dias = 31\n",
        "# elif(mes == 4): \n",
        "#     dias = 30\n",
        "# elif(mes == 5): \n",
        "#     dias = 31\n",
        "# elif(mes == 6): \n",
        "#     dias = 30\n",
        "# elif(mes == 7): \n",
        "#     dias = 31\n",
        "# elif(mes == 8): \n",
        "#     dias = 31\n",
        "# elif(mes == 9): \n",
        "#     dias = 30\n",
        "# elif(mes == 10): \n",
        "#     dias = 31\n",
        "# elif(mes == 11): \n",
        "#     dias = 30\n",
        "# elif(mes == 12): \n",
        "#     dias = 31\n",
        "# else:\n",
        "#     print(\"Ingrese un mes valido (1-12): \")\n",
        "\n",
        "# print(f\"El mes {mes} tiene {dias} días\")\n",
        "\n",
        "# Solución Con diccionarios\n",
        "\n",
        "\n",
        "mes = input(\"Por favor ingrese un mes: \")\n",
        "\n",
        "meses = {\n",
        "    \"enero\":31,\n",
        "    \"febrero\":\"28 o 29\",\n",
        "    \"marzo\":31\n",
        "}\n",
        "\n",
        "print(f\"El mes {mes.upper()} tiene {meses[mes.lower()]} días\")"
      ],
      "metadata": {
        "id": "mfYfXYkumIUQ"
      },
      "execution_count": null,
      "outputs": []
    },
    {
      "cell_type": "markdown",
      "source": [
        "# Ciclos"
      ],
      "metadata": {
        "id": "gzhTvr9cl2-s"
      }
    },
    {
      "cell_type": "markdown",
      "source": [
        "## Ciclos While"
      ],
      "metadata": {
        "id": "RQg2fXvql7jB"
      }
    },
    {
      "cell_type": "code",
      "source": [
        "contador = 0\n",
        "while( contador < 20 ):\n",
        "    contador += 1\n",
        "    print(contador)"
      ],
      "metadata": {
        "colab": {
          "base_uri": "https://localhost:8080/"
        },
        "id": "egmhrdxzluJK",
        "outputId": "23de812b-72d6-4cc0-9a89-0ed81aa4d6a1"
      },
      "execution_count": null,
      "outputs": [
        {
          "output_type": "stream",
          "name": "stdout",
          "text": [
            "1\n",
            "2\n",
            "3\n",
            "4\n",
            "5\n",
            "6\n",
            "7\n",
            "8\n",
            "9\n",
            "10\n",
            "11\n",
            "12\n",
            "13\n",
            "14\n",
            "15\n",
            "16\n",
            "17\n",
            "18\n",
            "19\n",
            "20\n"
          ]
        }
      ]
    },
    {
      "cell_type": "code",
      "source": [
        "cont = 0\n",
        "while(True):\n",
        "    if(cont>20):\n",
        "        break\n",
        "    cont+=1\n",
        "    print(cont)"
      ],
      "metadata": {
        "colab": {
          "base_uri": "https://localhost:8080/"
        },
        "id": "LEHCf2beluhz",
        "outputId": "2af91228-ff47-40eb-a088-9583147cd315"
      },
      "execution_count": null,
      "outputs": [
        {
          "output_type": "stream",
          "name": "stdout",
          "text": [
            "1\n",
            "2\n",
            "3\n",
            "4\n",
            "5\n",
            "6\n",
            "7\n",
            "8\n",
            "9\n",
            "10\n",
            "11\n",
            "12\n",
            "13\n",
            "14\n",
            "15\n",
            "16\n",
            "17\n",
            "18\n",
            "19\n",
            "20\n",
            "21\n"
          ]
        }
      ]
    },
    {
      "cell_type": "code",
      "source": [
        "# NO Ejecutar\n",
        "cont = 0\n",
        "while(True):\n",
        "    if(cont>=10):\n",
        "        break\n",
        "    cont+=1\n",
        "    print(cont)"
      ],
      "metadata": {
        "colab": {
          "base_uri": "https://localhost:8080/"
        },
        "id": "xmTJjtjPzEf3",
        "outputId": "e90a3446-892f-4213-f47c-bea47cd2844b"
      },
      "execution_count": null,
      "outputs": [
        {
          "output_type": "stream",
          "name": "stdout",
          "text": [
            "1\n",
            "2\n",
            "3\n",
            "4\n",
            "5\n",
            "6\n",
            "7\n",
            "8\n",
            "9\n",
            "10\n"
          ]
        }
      ]
    },
    {
      "cell_type": "markdown",
      "source": [
        "## Ciclos For"
      ],
      "metadata": {
        "id": "odF2nHU8l99t"
      }
    },
    {
      "cell_type": "code",
      "source": [
        "letras = ['a','b','c','d','e']\n",
        "for e in letras:\n",
        "    print(e)"
      ],
      "metadata": {
        "colab": {
          "base_uri": "https://localhost:8080/"
        },
        "id": "H5aBKUVplxHA",
        "outputId": "968c8bfa-e6f4-4f47-9452-cea6b38dbdde"
      },
      "execution_count": null,
      "outputs": [
        {
          "output_type": "stream",
          "name": "stdout",
          "text": [
            "a\n",
            "b\n",
            "c\n",
            "d\n",
            "e\n"
          ]
        }
      ]
    },
    {
      "cell_type": "code",
      "source": [
        "print(list(range(48,100,3)))"
      ],
      "metadata": {
        "colab": {
          "base_uri": "https://localhost:8080/"
        },
        "id": "Jo_KuYMt0j0Y",
        "outputId": "d9461609-062c-41bc-f712-636ec0e89e8f"
      },
      "execution_count": null,
      "outputs": [
        {
          "output_type": "stream",
          "name": "stdout",
          "text": [
            "[48, 51, 54, 57, 60, 63, 66, 69, 72, 75, 78, 81, 84, 87, 90, 93, 96, 99]\n"
          ]
        }
      ]
    },
    {
      "cell_type": "code",
      "source": [
        "letras = ['a','b','c','d','e']\n",
        "flag = 0\n",
        "while(flag<len(letras)):\n",
        "  print(letras[flag])\n",
        "  flag += 1\n"
      ],
      "metadata": {
        "colab": {
          "base_uri": "https://localhost:8080/"
        },
        "id": "-u3AuiQez5sc",
        "outputId": "875fcd8f-1738-4996-bf3d-442deccf9092"
      },
      "execution_count": null,
      "outputs": [
        {
          "output_type": "stream",
          "name": "stdout",
          "text": [
            "a\n",
            "b\n",
            "c\n",
            "d\n",
            "e\n"
          ]
        }
      ]
    },
    {
      "cell_type": "code",
      "execution_count": null,
      "metadata": {
        "colab": {
          "base_uri": "https://localhost:8080/"
        },
        "id": "SRS4izJClqR-",
        "outputId": "323d44b5-574f-4a66-91cc-d87ec763da01"
      },
      "outputs": [
        {
          "output_type": "stream",
          "name": "stdout",
          "text": [
            "61.py \n",
            "62.py \n",
            "63.py \n",
            "64.py \n",
            "65.py \n",
            "66.py \n",
            "67.py \n",
            "68.py \n",
            "69.py \n",
            "70.py \n",
            "71.py \n",
            "72.py \n",
            "73.py \n",
            "74.py \n",
            "75.py \n",
            "76.py \n",
            "77.py \n",
            "78.py \n",
            "79.py \n",
            "80.py \n"
          ]
        }
      ],
      "source": [
        "for i in range(61,81):\n",
        "    print(f\"{i}.py \", sep=\" \")\n"
      ]
    },
    {
      "cell_type": "code",
      "source": [
        "z = 7\n",
        "x = 1\n",
        "while z > 0:\n",
        "    print(' ' * z + '*' * x + ' ' * z)\n",
        "    x+=2\n",
        "    z-=1\n"
      ],
      "metadata": {
        "colab": {
          "base_uri": "https://localhost:8080/"
        },
        "id": "UiRJeDyam_1r",
        "outputId": "d9833bc9-d7f3-4de3-a771-ca48cb347b22"
      },
      "execution_count": null,
      "outputs": [
        {
          "output_type": "stream",
          "name": "stdout",
          "text": [
            "       *       \n",
            "      ***      \n",
            "     *****     \n",
            "    *******    \n",
            "   *********   \n",
            "  ***********  \n",
            " ************* \n"
          ]
        }
      ]
    },
    {
      "cell_type": "code",
      "source": [
        "from random import shuffle\n",
        "\n",
        "estudiantes = [\"Andrés Mauricio Vergel Miranda\",\"Catalina Espinal Jaramillo\",\"César Augusto Gómez González\",\"César Rubents Ramírez Monsalve\",\"Diego Alexander Higuita Jaramillo\",\"Edwin Alejandro Bejarano García\",\"José Orlando Agudelo Barrera\",\"Laura Vanessa Hernández Acevedo\",\"Maritza Medina Giraldo\",\"Sebastián Zapata Granada\",\"Yuli Marina Ledezma Maturana\",\"Tomas Restrepo\"]\n",
        "estudiantes2 = shuffle(estudiantes)\n",
        "for i in range(12):\n",
        "  print(f\"grupo{(i%4)+1}:\")\n",
        "  print(estudiantes[i])\n"
      ],
      "metadata": {
        "colab": {
          "base_uri": "https://localhost:8080/"
        },
        "id": "G8MQ86tb2gkp",
        "outputId": "9e141d6a-db6c-4376-ee17-31c9e586c10d"
      },
      "execution_count": null,
      "outputs": [
        {
          "output_type": "stream",
          "name": "stdout",
          "text": [
            "grupo1:\n",
            "Sebastián Zapata Granada\n",
            "grupo2:\n",
            "César Augusto Gómez González\n",
            "grupo3:\n",
            "César Rubents Ramírez Monsalve\n",
            "grupo4:\n",
            "Yuli Marina Ledezma Maturana\n",
            "grupo1:\n",
            "Diego Alexander Higuita Jaramillo\n",
            "grupo2:\n",
            "José Orlando Agudelo Barrera\n",
            "grupo3:\n",
            "Edwin Alejandro Bejarano García\n",
            "grupo4:\n",
            "Catalina Espinal Jaramillo\n",
            "grupo1:\n",
            "Andrés Mauricio Vergel Miranda\n",
            "grupo2:\n",
            "Maritza Medina Giraldo\n",
            "grupo3:\n",
            "Tomas Restrepo\n",
            "grupo4:\n",
            "Laura Vanessa Hernández Acevedo\n"
          ]
        }
      ]
    },
    {
      "cell_type": "markdown",
      "source": [
        "grupo1: Ejercicio 64\n",
        "Sebastián Zapata Granada\n",
        "Diego Alexander Higuita Jaramillo\n",
        "Andrés Mauricio Vergel Miranda\n",
        "\n",
        "grupo2: Ejercicio 65\n",
        "César Augusto Gómez González\n",
        "José Orlando Agudelo Barrera\n",
        "Maritza Medina Giraldo\n",
        "\n",
        "grupo3: Ejercicio 66\n",
        "César Rubents Ramírez Monsalve\n",
        "Edwin Alejandro Bejarano García\n",
        "Tomas Restrepo\n",
        "\n",
        "grupo4: Ejercicio 67 \n",
        "Yuli Marina Ledezma Maturana\n",
        "Catalina Espinal Jaramillo\n",
        "Laura Vanessa Hernández Acevedo"
      ],
      "metadata": {
        "id": "-Ci78acf5XHC"
      }
    },
    {
      "cell_type": "code",
      "source": [
        "# Ejercicio 61: promedio\n",
        "\n",
        "valor = int(input(\"ingrese valores, para terminar ingrese 0: \"))\n",
        "cont = 0\n",
        "promedio = 0\n",
        "while(valor!=0):\n",
        "  cont+=1\n",
        "  promedio += valor\n",
        "  valor = int(input(\"ingrese valores, para terminar ingrese 0: \"))\n",
        "  \n",
        "print(f\"El promedio de los {cont} numeros ingresados es: {promedio/cont}\")"
      ],
      "metadata": {
        "colab": {
          "base_uri": "https://localhost:8080/"
        },
        "id": "CLt1QkG53X4z",
        "outputId": "a99caa4f-292f-4415-ee74-fb64884fb989"
      },
      "execution_count": null,
      "outputs": [
        {
          "output_type": "stream",
          "name": "stdout",
          "text": [
            "ingrese valores, para terminar ingrese 0: 1\n",
            "ingrese valores, para terminar ingrese 0: 2\n",
            "ingrese valores, para terminar ingrese 0: 3\n",
            "ingrese valores, para terminar ingrese 0: 0\n",
            "El promedio de los 3 numeros ingresados es: 2.0\n"
          ]
        }
      ]
    },
    {
      "cell_type": "code",
      "source": [
        "# Ejercicio 62: Tabla de descuentos\n",
        "\n",
        "precios = [4.95, 9.95, 14.95, 19.95, 24.95]\n",
        "for precio in precios:\n",
        "  print(f\"precio original: {precio}, tiene un descuento de {precio*0.60:.2f} precio a pagar: {precio*0.4:.2f}\")\n"
      ],
      "metadata": {
        "colab": {
          "base_uri": "https://localhost:8080/"
        },
        "id": "4Q3Vcu4W7qh1",
        "outputId": "a5156f02-a9c3-44e4-fc54-8639fb69c1fa"
      },
      "execution_count": null,
      "outputs": [
        {
          "output_type": "stream",
          "name": "stdout",
          "text": [
            "precio original: 4.95, tiene un descuento de 2.97 precio a pagar: 1.98\n",
            "precio original: 9.95, tiene un descuento de 5.97 precio a pagar: 3.98\n",
            "precio original: 14.95, tiene un descuento de 8.97 precio a pagar: 5.98\n",
            "precio original: 19.95, tiene un descuento de 11.97 precio a pagar: 7.98\n",
            "precio original: 24.95, tiene un descuento de 14.97 precio a pagar: 9.98\n"
          ]
        }
      ]
    },
    {
      "cell_type": "code",
      "source": [
        "# Ejercicio 62: Tabla de descuentos  modificado\n",
        "\n",
        "precios = [4.95, 9.95, 14.95, 19.95, 24.95]\n",
        "\n",
        "for precio in precios:\n",
        "  print(f\"precio original: {precio}, precio con descuento {precio*0.60:.2f}\")\n"
      ],
      "metadata": {
        "colab": {
          "base_uri": "https://localhost:8080/"
        },
        "id": "SVEZ1w-M78Af",
        "outputId": "d59d64d8-37af-4e8a-8922-2cedec64d03a"
      },
      "execution_count": null,
      "outputs": [
        {
          "output_type": "stream",
          "name": "stdout",
          "text": [
            "precio original: 4.95, precio con descuento 2.97\n",
            "precio original: 9.95, precio con descuento 5.97\n",
            "precio original: 14.95, precio con descuento 8.97\n",
            "precio original: 19.95, precio con descuento 11.97\n",
            "precio original: 24.95, precio con descuento 14.97\n"
          ]
        }
      ]
    },
    {
      "cell_type": "code",
      "source": [
        "from random import randint\n",
        "\n",
        "max = 0\n",
        "cont = 0\n",
        "for i in range(100):\n",
        "   \n",
        "  valor = randint(1,100)\n",
        "  if(valor>max):\n",
        "    max = valor\n",
        "    cont = cont + 1\n",
        "    print(f\"{valor} -> Actualizado el max\")\n",
        "  else:\n",
        "    print(f\"{valor}\")\n",
        "    \n",
        "print(f\"El máximo fue actualizado {cont} veces\")"
      ],
      "metadata": {
        "colab": {
          "base_uri": "https://localhost:8080/"
        },
        "id": "7f3RNPJZ9cCG",
        "outputId": "4a492879-0b50-4e17-e71e-2a9e0ca96322"
      },
      "execution_count": null,
      "outputs": [
        {
          "output_type": "stream",
          "name": "stdout",
          "text": [
            "84 -> Actualizado el max\n",
            "76\n",
            "7\n",
            "29\n",
            "81\n",
            "2\n",
            "44\n",
            "92 -> Actualizado el max\n",
            "12\n",
            "99 -> Actualizado el max\n",
            "6\n",
            "53\n",
            "93\n",
            "31\n",
            "3\n",
            "90\n",
            "89\n",
            "25\n",
            "77\n",
            "57\n",
            "44\n",
            "60\n",
            "2\n",
            "94\n",
            "96\n",
            "38\n",
            "44\n",
            "68\n",
            "40\n",
            "31\n",
            "98\n",
            "3\n",
            "16\n",
            "81\n",
            "6\n",
            "15\n",
            "49\n",
            "61\n",
            "68\n",
            "100 -> Actualizado el max\n",
            "62\n",
            "52\n",
            "28\n",
            "39\n",
            "20\n",
            "59\n",
            "66\n",
            "11\n",
            "53\n",
            "11\n",
            "65\n",
            "53\n",
            "21\n",
            "37\n",
            "65\n",
            "46\n",
            "76\n",
            "58\n",
            "78\n",
            "20\n",
            "76\n",
            "39\n",
            "14\n",
            "74\n",
            "38\n",
            "10\n",
            "15\n",
            "74\n",
            "59\n",
            "88\n",
            "18\n",
            "62\n",
            "1\n",
            "26\n",
            "40\n",
            "16\n",
            "82\n",
            "29\n",
            "42\n",
            "85\n",
            "30\n",
            "58\n",
            "1\n",
            "74\n",
            "54\n",
            "72\n",
            "26\n",
            "48\n",
            "61\n",
            "50\n",
            "91\n",
            "63\n",
            "42\n",
            "38\n",
            "26\n",
            "42\n",
            "38\n",
            "76\n",
            "28\n",
            "96\n",
            "El máximo fue actualizado 4 veces\n"
          ]
        }
      ]
    },
    {
      "cell_type": "code",
      "source": [
        "from random import randint\n",
        "\n",
        "max = 0\n",
        "cont = 0\n",
        "iterador = 0\n",
        "while(iterador < 100):\n",
        "  iterador += 1\n",
        "  valor = randint(1,100)\n",
        "  if(valor>max):\n",
        "    max = valor\n",
        "    cont = cont + 1  # cont+=1\n",
        "    print(f\"{valor} -> Actualizado el max\")\n",
        "  else:\n",
        "    print(f\"{valor}\")\n",
        "print(f\"El máximo fue actualizado {cont} veces\")"
      ],
      "metadata": {
        "colab": {
          "base_uri": "https://localhost:8080/"
        },
        "id": "3tPG76uD__2y",
        "outputId": "e868d399-e9b5-4262-aaa8-19f25ee4cfde"
      },
      "execution_count": null,
      "outputs": [
        {
          "output_type": "stream",
          "name": "stdout",
          "text": [
            "15 -> Actualizado el max\n",
            "44 -> Actualizado el max\n",
            "53 -> Actualizado el max\n",
            "97 -> Actualizado el max\n",
            "32\n",
            "5\n",
            "72\n",
            "19\n",
            "69\n",
            "2\n",
            "2\n",
            "94\n",
            "97\n",
            "98 -> Actualizado el max\n",
            "81\n",
            "66\n",
            "30\n",
            "64\n",
            "11\n",
            "20\n",
            "1\n",
            "87\n",
            "64\n",
            "61\n",
            "69\n",
            "45\n",
            "17\n",
            "77\n",
            "60\n",
            "31\n",
            "69\n",
            "43\n",
            "99 -> Actualizado el max\n",
            "61\n",
            "12\n",
            "32\n",
            "21\n",
            "19\n",
            "28\n",
            "27\n",
            "9\n",
            "48\n",
            "12\n",
            "93\n",
            "17\n",
            "70\n",
            "85\n",
            "98\n",
            "65\n",
            "78\n",
            "13\n",
            "56\n",
            "74\n",
            "54\n",
            "30\n",
            "25\n",
            "79\n",
            "100 -> Actualizado el max\n",
            "85\n",
            "92\n",
            "16\n",
            "15\n",
            "26\n",
            "11\n",
            "35\n",
            "54\n",
            "41\n",
            "41\n",
            "49\n",
            "39\n",
            "61\n",
            "75\n",
            "57\n",
            "57\n",
            "87\n",
            "15\n",
            "7\n",
            "62\n",
            "47\n",
            "71\n",
            "55\n",
            "52\n",
            "78\n",
            "34\n",
            "68\n",
            "36\n",
            "97\n",
            "87\n",
            "57\n",
            "13\n",
            "97\n",
            "68\n",
            "34\n",
            "68\n",
            "92\n",
            "34\n",
            "71\n",
            "59\n",
            "38\n",
            "40\n",
            "El máximo fue actualizado 7 veces\n"
          ]
        }
      ]
    },
    {
      "cell_type": "code",
      "source": [
        "v = input(\"Ingrese algo\")\n",
        "while(v!=\"\"):\n",
        "  v = input(\"Ingrese algo\")\n",
        "  print(v)\n",
        "print(\"Terminé\")"
      ],
      "metadata": {
        "colab": {
          "base_uri": "https://localhost:8080/"
        },
        "id": "8CGGKwr7P2mV",
        "outputId": "02563b0c-b235-45c3-d6cb-766394cdaaaa"
      },
      "execution_count": null,
      "outputs": [
        {
          "output_type": "stream",
          "name": "stdout",
          "text": [
            "Ingrese algoa\n",
            "Ingrese algob\n",
            "b\n",
            "Ingrese algoc\n",
            "c\n",
            "Ingrese algod\n",
            "d\n",
            "Ingrese algo\n",
            "\n",
            "Terminé\n"
          ]
        }
      ]
    },
    {
      "cell_type": "code",
      "source": [
        "x = input(\"X: \")\n",
        "y = input(\"Y: \")\n",
        "\n",
        "while(x!=\"\"):\n",
        "  x = input(\"X: \")\n",
        "  y = input(\"Y: \")"
      ],
      "metadata": {
        "colab": {
          "base_uri": "https://localhost:8080/"
        },
        "id": "6w4LQyBMReSR",
        "outputId": "fc043bee-c349-4a5b-dc01-61bf6005866d"
      },
      "execution_count": null,
      "outputs": [
        {
          "name": "stdout",
          "output_type": "stream",
          "text": [
            "X: 0\n",
            "Y: 1\n",
            "X: 2\n",
            "Y: 1\n",
            "X: 3\n",
            "Y: 0\n",
            "X: \n",
            "Y: \n"
          ]
        }
      ]
    },
    {
      "cell_type": "code",
      "source": [],
      "metadata": {
        "id": "R0WgY27LSN_a"
      },
      "execution_count": null,
      "outputs": []
    }
  ]
}