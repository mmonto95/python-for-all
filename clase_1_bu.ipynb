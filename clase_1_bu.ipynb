{
 "nbformat": 4,
 "nbformat_minor": 0,
 "metadata": {
  "colab": {
   "provenance": []
  },
  "kernelspec": {
   "name": "python3",
   "display_name": "Python 3"
  },
  "language_info": {
   "name": "python"
  }
 },
 "cells": [
  {
   "cell_type": "markdown",
   "source": [
    "# Clase 1"
   ],
   "metadata": {
    "collapsed": false
   }
  },
  {
   "cell_type": "markdown",
   "source": [
    "* I/O: Entrada y Salida Básica\n",
    "* Tipos de Datos:\n",
    "    * int\n",
    "    * float\n",
    "    * String\n",
    "      * 'Simple' \n",
    "      * \"Doble\"  \n",
    "      * \"\"\"Triple\"\"\"\n",
    "    * bool\n",
    "* Variables\n",
    "* Tipado dinamico\n",
    "* Expresiones\n",
    "* Comentarios\n",
    "* Aritmética y Operadores\n",
    "* Contenedores:\n",
    "    * Lista\n",
    "    * Tupla\n",
    "    * Diccionarios\n",
    "    * Conjuntos\n",
    "* Valores de Verdad y Comparaciones\n",
    "* Palabras reservadas\n"
   ],
   "metadata": {
    "id": "Jb13AmjQ7TbL"
   }
  },
  {
   "cell_type": "code",
   "source": [
    "# String\n",
    "\n",
    "nombre = \"Manuel\"\n",
    "profesion = \"ingeniero\""
   ],
   "metadata": {
    "id": "knlouewr7Vbk"
   },
   "execution_count": null,
   "outputs": []
  },
  {
   "cell_type": "markdown",
   "source": [
    "# Entrada y Salida  (Básica)\n",
    "\n",
    "* input(\"Mensaje Indicatorio para el usuario\")\n",
    "* print(variables, \"Esto es un texto\")"
   ],
   "metadata": {
    "id": "RkOX5Rym-WpN"
   }
  },
  {
   "cell_type": "code",
   "source": [
    "nombre = input(\"Por favor Ingrese su nombre: \")\n",
    "print(nombre)"
   ],
   "metadata": {
    "colab": {
     "base_uri": "https://localhost:8080/"
    },
    "id": "QSTFt_aY-I54",
    "outputId": "24e8a4be-b239-4a39-a181-2947a905b116"
   },
   "execution_count": null,
   "outputs": [
    {
     "output_type": "stream",
     "name": "stdout",
     "text": [
      "Por favor Ingrese su nombre: Antonio Banderas\n",
      "Antonio Banderas\n"
     ]
    }
   ]
  },
  {
   "cell_type": "code",
   "source": [
    "#nombre1 = input(\"ingrese un nombre: \")\n",
    "nombre1 = input( \"ingrese un nombre: \" )"
   ],
   "metadata": {
    "colab": {
     "base_uri": "https://localhost:8080/"
    },
    "id": "cGLCmyiq_CMk",
    "outputId": "f531ef17-58c3-4a80-85be-806e7e2132c4"
   },
   "execution_count": null,
   "outputs": [
    {
     "name": "stdout",
     "output_type": "stream",
     "text": [
      "ingrese un nombre: Alejandro\n"
     ]
    }
   ]
  },
  {
   "cell_type": "code",
   "source": [
    "for i in range(10):\n",
    "  print(i)\n"
   ],
   "metadata": {
    "colab": {
     "base_uri": "https://localhost:8080/"
    },
    "id": "RS_IT5AtAHuk",
    "outputId": "1f8af3af-9a8c-4248-9eb5-63612680bb0f"
   },
   "execution_count": null,
   "outputs": [
    {
     "output_type": "stream",
     "name": "stdout",
     "text": [
      "0\n",
      "1\n",
      "2\n",
      "3\n",
      "4\n",
      "5\n",
      "6\n",
      "7\n",
      "8\n",
      "9\n"
     ]
    }
   ]
  },
  {
   "cell_type": "code",
   "source": [
    "edad = 36\n",
    "edad = edad +1 \n",
    "print(edad)"
   ],
   "metadata": {
    "colab": {
     "base_uri": "https://localhost:8080/"
    },
    "id": "WrdGWl4PAf3v",
    "outputId": "0d0929a3-b0eb-4a19-f777-8741c84aad24"
   },
   "execution_count": null,
   "outputs": [
    {
     "output_type": "stream",
     "name": "stdout",
     "text": [
      "37\n"
     ]
    }
   ]
  },
  {
   "cell_type": "code",
   "source": [
    "pezo = 1\n",
    "peso = 100\n",
    "\n",
    "print(pezo, peso)"
   ],
   "metadata": {
    "colab": {
     "base_uri": "https://localhost:8080/"
    },
    "id": "GV_-E2NuBL8O",
    "outputId": "5b211cd1-a7f0-4265-d7e4-4e51e4d6601e"
   },
   "execution_count": null,
   "outputs": [
    {
     "output_type": "stream",
     "name": "stdout",
     "text": [
      "1 100\n"
     ]
    }
   ]
  },
  {
   "cell_type": "code",
   "source": [
    "print( \"texto\" , \"escribir\", edad, nombre)"
   ],
   "metadata": {
    "colab": {
     "base_uri": "https://localhost:8080/"
    },
    "id": "Vhnlv9S9Bc31",
    "outputId": "0681f617-d414-4713-ee03-5d6a0904b454"
   },
   "execution_count": null,
   "outputs": [
    {
     "output_type": "stream",
     "name": "stdout",
     "text": [
      "texto escribir 37 Sergio\n"
     ]
    }
   ]
  },
  {
   "cell_type": "code",
   "source": [
    "pi = 3.1415926535\n",
    "print(pi)"
   ],
   "metadata": {
    "colab": {
     "base_uri": "https://localhost:8080/"
    },
    "id": "nyZrccU2BwdA",
    "outputId": "9ac241ae-3ccd-40e6-8593-437adb0a0bed"
   },
   "execution_count": null,
   "outputs": [
    {
     "output_type": "stream",
     "name": "stdout",
     "text": [
      "4.1415926535\n"
     ]
    }
   ]
  },
  {
   "cell_type": "code",
   "source": [
    "# int a = 1; #definiendo una variable a, cuyo valor es 1. (en otro lenguaje de programación)\n",
    "\n",
    "variable1 = \"Una descripcion\"\n",
    "print(variable1)\n",
    "\n",
    "variable1 = 17\n",
    "print(variable1)\n",
    "\n",
    "variable1 = 5.13\n",
    "print(variable1)\n",
    "\n",
    "variable1 = False\n",
    "print(variable1)"
   ],
   "metadata": {
    "colab": {
     "base_uri": "https://localhost:8080/"
    },
    "id": "A7ZL7cMgB7LG",
    "outputId": "996ab541-d6c2-4567-81a3-a3265577172f"
   },
   "execution_count": null,
   "outputs": [
    {
     "output_type": "stream",
     "name": "stdout",
     "text": [
      "Una descripcion\n",
      "17\n",
      "5.13\n",
      "False\n"
     ]
    }
   ]
  },
  {
   "cell_type": "code",
   "source": [
    "s1 = 'Esto es una cadena con comillas simples'\n",
    "s2 = \"Esto tiene comillas dobles\"\n",
    "s3 = \"\"\"A diferencia de las anteriores\n",
    "la triple comilla doble\n",
    "puede tener multiples lineas\"\"\"  # String doc\n",
    "\n",
    "print(s1)\n",
    "print(s2)\n",
    "print(s3)"
   ],
   "metadata": {
    "colab": {
     "base_uri": "https://localhost:8080/"
    },
    "id": "UbU2k70-FzpJ",
    "outputId": "ab013c42-ede5-41b8-da83-0c639da2df24"
   },
   "execution_count": null,
   "outputs": [
    {
     "output_type": "stream",
     "name": "stdout",
     "text": [
      "Esto es una cadena con comillas simples\n",
      "Esto tiene comillas dobles\n",
      "A diferencia de las anteriores\n",
      "la triple comilla doble\n",
      "puede tener multiples lineas\n"
     ]
    }
   ]
  },
  {
   "cell_type": "markdown",
   "source": [
    "# Operadores\n",
    "\n",
    "https://docs.python.org/3/library/operator.html\n",
    "\n",
    "\n",
    "* Suma\n",
    "* Resta\n",
    "* Multiplicacion\n",
    "* División\n",
    "* Potencia\n",
    "* \n"
   ],
   "metadata": {
    "id": "CFDCoyb4G4Px"
   }
  },
  {
   "cell_type": "code",
   "source": [
    "print(5+9783)"
   ],
   "metadata": {
    "colab": {
     "base_uri": "https://localhost:8080/"
    },
    "id": "UxK1AxYMIEXj",
    "outputId": "5ab1ce58-427f-44b0-8df9-0915e544e6d2"
   },
   "execution_count": null,
   "outputs": [
    {
     "output_type": "stream",
     "name": "stdout",
     "text": [
      "9788\n"
     ]
    }
   ]
  },
  {
   "cell_type": "code",
   "source": [
    "print(23//5)"
   ],
   "metadata": {
    "colab": {
     "base_uri": "https://localhost:8080/"
    },
    "id": "Es5uIg6uIKoV",
    "outputId": "a3aa7a67-6e49-4910-c417-29b9f2b98c54"
   },
   "execution_count": null,
   "outputs": [
    {
     "output_type": "stream",
     "name": "stdout",
     "text": [
      "4\n"
     ]
    }
   ]
  },
  {
   "cell_type": "code",
   "source": [
    "print(23%5) # El operador Modulo nos entrega el Residuo de una división"
   ],
   "metadata": {
    "colab": {
     "base_uri": "https://localhost:8080/"
    },
    "id": "dSiI7PQZIpGt",
    "outputId": "0dc30770-8aa4-47e4-fdcd-655a950d0a4a"
   },
   "execution_count": null,
   "outputs": [
    {
     "output_type": "stream",
     "name": "stdout",
     "text": [
      "3\n"
     ]
    }
   ]
  },
  {
   "cell_type": "code",
   "source": [
    "print(1 + 2)"
   ],
   "metadata": {
    "colab": {
     "base_uri": "https://localhost:8080/"
    },
    "id": "qaORi2S1JDTi",
    "outputId": "f5a5a225-961a-474b-a83e-7b2719e91681"
   },
   "execution_count": null,
   "outputs": [
    {
     "output_type": "stream",
     "name": "stdout",
     "text": [
      "3\n"
     ]
    }
   ]
  },
  {
   "cell_type": "code",
   "source": [
    "print(\"esto es\" + \" una cadena\")"
   ],
   "metadata": {
    "colab": {
     "base_uri": "https://localhost:8080/"
    },
    "id": "Ltm11CezJMmL",
    "outputId": "cd13519e-1673-483d-9cdf-a720c0726fb2"
   },
   "execution_count": null,
   "outputs": [
    {
     "output_type": "stream",
     "name": "stdout",
     "text": [
      "esto es una cadena\n"
     ]
    }
   ]
  },
  {
   "cell_type": "code",
   "source": [
    "print(False+True)"
   ],
   "metadata": {
    "colab": {
     "base_uri": "https://localhost:8080/"
    },
    "id": "4vn_-q-5Jc71",
    "outputId": "0ab7e717-a584-4eae-fa71-526e25247d94"
   },
   "execution_count": null,
   "outputs": [
    {
     "output_type": "stream",
     "name": "stdout",
     "text": [
      "1\n"
     ]
    }
   ]
  },
  {
   "cell_type": "code",
   "source": [
    "var1 = 312\n",
    "var2 = \"Jose Orlando\"\n",
    "\n",
    "print( var2 + var1) # hay operaciones que no se pueden realizar entre ciertos tipos de datos\n"
   ],
   "metadata": {
    "colab": {
     "base_uri": "https://localhost:8080/",
     "height": 200
    },
    "id": "Iiwd7ez2JqgH",
    "outputId": "593583ae-f6d4-49ae-aafb-850b2bb5f039"
   },
   "execution_count": null,
   "outputs": [
    {
     "output_type": "error",
     "ename": "TypeError",
     "evalue": "ignored",
     "traceback": [
      "\u001B[0;31m---------------------------------------------------------------------------\u001B[0m",
      "\u001B[0;31mTypeError\u001B[0m                                 Traceback (most recent call last)",
      "\u001B[0;32m<ipython-input-29-047215e510af>\u001B[0m in \u001B[0;36m<module>\u001B[0;34m\u001B[0m\n\u001B[1;32m      2\u001B[0m \u001B[0mvar2\u001B[0m \u001B[0;34m=\u001B[0m \u001B[0;34m\"Jose Orlando\"\u001B[0m\u001B[0;34m\u001B[0m\u001B[0;34m\u001B[0m\u001B[0m\n\u001B[1;32m      3\u001B[0m \u001B[0;34m\u001B[0m\u001B[0m\n\u001B[0;32m----> 4\u001B[0;31m \u001B[0mprint\u001B[0m\u001B[0;34m(\u001B[0m \u001B[0mvar2\u001B[0m \u001B[0;34m+\u001B[0m \u001B[0mvar1\u001B[0m\u001B[0;34m)\u001B[0m \u001B[0;31m# hay operaciones que no se pueden realizar entre ciertos tipos de datos\u001B[0m\u001B[0;34m\u001B[0m\u001B[0;34m\u001B[0m\u001B[0m\n\u001B[0m",
      "\u001B[0;31mTypeError\u001B[0m: can only concatenate str (not \"int\") to str"
     ]
    }
   ]
  },
  {
   "cell_type": "code",
   "source": [],
   "metadata": {
    "id": "F2xvxNNXLnlK"
   },
   "execution_count": null,
   "outputs": []
  },
  {
   "cell_type": "markdown",
   "source": [
    "# The python workbook"
   ],
   "metadata": {
    "id": "N30inPyPJ4TX"
   }
  },
  {
   "cell_type": "code",
   "source": [
    "# Ej 1\n",
    "\n",
    "nombre = \"Manuel Andrés Monsalve Castañeda\"\n",
    "dir = \"Cr 49 # 67-10\"\n",
    "\n",
    "#print(\"favor entregar a \",nombre, \" en la direccion: \", dir)\n",
    "print(f\"favor entregar a  {nombre}  en la direccion:  {dir}\")\n"
   ],
   "metadata": {
    "colab": {
     "base_uri": "https://localhost:8080/"
    },
    "id": "kTP8YaQ-LDoG",
    "outputId": "3d21f0b1-a73b-4654-98b2-6185aa9553a1"
   },
   "execution_count": null,
   "outputs": [
    {
     "output_type": "stream",
     "name": "stdout",
     "text": [
      "favor entregar a  Sergio Andrés Monsalve Castañeda  en la direccion:  Cr 49 # 67-10\n"
     ]
    }
   ]
  },
  {
   "cell_type": "code",
   "source": [
    "# Ejercicio 2: \n",
    "nombre = input(\"por favor ingresa tu nombre: \")\n",
    "print(\"hola \", nombre)"
   ],
   "metadata": {
    "colab": {
     "base_uri": "https://localhost:8080/"
    },
    "id": "hRL01DinLlXM",
    "outputId": "060adabf-167b-4353-91c6-53b390128163"
   },
   "execution_count": null,
   "outputs": [
    {
     "output_type": "stream",
     "name": "stdout",
     "text": [
      "por favor ingresa tu nombre: Antonio\n",
      "hola  Antonio\n"
     ]
    }
   ]
  },
  {
   "cell_type": "code",
   "source": [
    "# error de tipos, no puedo multiplicar strings.\n",
    "\n",
    "base = input(\"Por favor ingrese el ancho: \")\n",
    "largo = input(\"por favor ingrese el largo: \")\n",
    "\n",
    "print(f\"el area de un rectangulo ancho: {base} y largo: {largo} es {base*largo} \")"
   ],
   "metadata": {
    "colab": {
     "base_uri": "https://localhost:8080/",
     "height": 235
    },
    "id": "W3ArdA9cMVu4",
    "outputId": "48c0b3b2-a8e6-44f3-d98a-b946bb0f9b9e"
   },
   "execution_count": null,
   "outputs": [
    {
     "name": "stdout",
     "output_type": "stream",
     "text": [
      "Por favor ingrese el ancho: 4\n",
      "por favor ingrese el largo: 5\n"
     ]
    },
    {
     "output_type": "error",
     "ename": "TypeError",
     "evalue": "ignored",
     "traceback": [
      "\u001B[0;31m---------------------------------------------------------------------------\u001B[0m",
      "\u001B[0;31mTypeError\u001B[0m                                 Traceback (most recent call last)",
      "\u001B[0;32m<ipython-input-35-a63b7827eb88>\u001B[0m in \u001B[0;36m<module>\u001B[0;34m\u001B[0m\n\u001B[1;32m      2\u001B[0m \u001B[0mlargo\u001B[0m \u001B[0;34m=\u001B[0m \u001B[0minput\u001B[0m\u001B[0;34m(\u001B[0m\u001B[0;34m\"por favor ingrese el largo: \"\u001B[0m\u001B[0;34m)\u001B[0m\u001B[0;34m\u001B[0m\u001B[0;34m\u001B[0m\u001B[0m\n\u001B[1;32m      3\u001B[0m \u001B[0;34m\u001B[0m\u001B[0m\n\u001B[0;32m----> 4\u001B[0;31m \u001B[0mprint\u001B[0m\u001B[0;34m(\u001B[0m\u001B[0;34mf\"el area de un rectangulo ancho: {base} y largo: {largo} es {base*largo} \"\u001B[0m\u001B[0;34m)\u001B[0m\u001B[0;34m\u001B[0m\u001B[0;34m\u001B[0m\u001B[0m\n\u001B[0m",
      "\u001B[0;31mTypeError\u001B[0m: can't multiply sequence by non-int of type 'str'"
     ]
    }
   ]
  },
  {
   "cell_type": "code",
   "source": [
    "# Estamos pidiendole a python que intente cambiar el tipo string por flotante\n",
    "\n",
    "ancho = float(input(\"Por favor ingrese el ancho en metros: \"))\n",
    "largo = float(input(\"por favor ingrese el largo en metros: \"))\n",
    "\n",
    "print(f\"el area de un rectangulo ancho: {ancho} y largo: {largo} es {ancho*largo} metros cuadrados \")"
   ],
   "metadata": {
    "colab": {
     "base_uri": "https://localhost:8080/"
    },
    "id": "1buYDkF5M-n9",
    "outputId": "59b99553-5610-44b3-93c2-e9145e495347"
   },
   "execution_count": null,
   "outputs": [
    {
     "output_type": "stream",
     "name": "stdout",
     "text": [
      "Por favor ingrese el ancho en metros: 4\n",
      "por favor ingrese el largo en metros: 5.2\n",
      "el area de un rectangulo ancho: 4.0 y largo: 5.2 es 20.8 metros cuadrados \n"
     ]
    }
   ]
  },
  {
   "cell_type": "code",
   "source": [
    "# Ejercicio 4\n",
    "\n"
   ],
   "metadata": {
    "id": "qWTD61_nON6H"
   },
   "execution_count": null,
   "outputs": []
  },
  {
   "cell_type": "code",
   "source": [
    "# Dudas\n",
    "\n"
   ],
   "metadata": {
    "id": "3Wtni7HCO9BT"
   },
   "execution_count": null,
   "outputs": []
  },
  {
   "cell_type": "code",
   "source": [
    "PRINT(\"hola\")"
   ],
   "metadata": {
    "colab": {
     "base_uri": "https://localhost:8080/",
     "height": 166
    },
    "id": "ihuskIpHPEJ9",
    "outputId": "7807fb97-c892-4ef9-bafb-e2bab1922485"
   },
   "execution_count": null,
   "outputs": [
    {
     "output_type": "error",
     "ename": "NameError",
     "evalue": "ignored",
     "traceback": [
      "\u001B[0;31m---------------------------------------------------------------------------\u001B[0m",
      "\u001B[0;31mNameError\u001B[0m                                 Traceback (most recent call last)",
      "\u001B[0;32m<ipython-input-40-00066ed26101>\u001B[0m in \u001B[0;36m<module>\u001B[0;34m\u001B[0m\n\u001B[0;32m----> 1\u001B[0;31m \u001B[0mPRINT\u001B[0m\u001B[0;34m(\u001B[0m\u001B[0;34m\"hola\"\u001B[0m\u001B[0;34m)\u001B[0m\u001B[0;34m\u001B[0m\u001B[0;34m\u001B[0m\u001B[0m\n\u001B[0m",
      "\u001B[0;31mNameError\u001B[0m: name 'PRINT' is not defined"
     ]
    }
   ]
  },
  {
   "cell_type": "code",
   "source": [
    "print(\"hola\")"
   ],
   "metadata": {
    "colab": {
     "base_uri": "https://localhost:8080/"
    },
    "id": "cgtIfNJjPHHo",
    "outputId": "ac144b9f-ad4c-4957-82c3-ace724dee996"
   },
   "execution_count": null,
   "outputs": [
    {
     "output_type": "stream",
     "name": "stdout",
     "text": [
      "hola\n"
     ]
    }
   ]
  },
  {
   "cell_type": "code",
   "source": [
    "# escribo algo para aclarar lo que voy a hacer "
   ],
   "metadata": {
    "colab": {
     "base_uri": "https://localhost:8080/",
     "height": 131
    },
    "id": "rxseP6_jPY7E",
    "outputId": "ffd441ff-bcb6-4254-d527-153cdf23e7f5"
   },
   "execution_count": null,
   "outputs": [
    {
     "output_type": "error",
     "ename": "SyntaxError",
     "evalue": "ignored",
     "traceback": [
      "\u001B[0;36m  File \u001B[0;32m\"<ipython-input-42-248ec181f7ed>\"\u001B[0;36m, line \u001B[0;32m1\u001B[0m\n\u001B[0;31m    escribo algo\u001B[0m\n\u001B[0m               ^\u001B[0m\n\u001B[0;31mSyntaxError\u001B[0m\u001B[0;31m:\u001B[0m invalid syntax\n"
     ]
    }
   ]
  },
  {
   "cell_type": "code",
   "source": [
    "nombre = \"sergio\"\n",
    "print(nombre)"
   ],
   "metadata": {
    "colab": {
     "base_uri": "https://localhost:8080/"
    },
    "id": "iNZGjt-aPudg",
    "outputId": "29d3643b-f4e9-492f-be62-d56812366cc6"
   },
   "execution_count": null,
   "outputs": [
    {
     "output_type": "stream",
     "name": "stdout",
     "text": [
      "sergio\n"
     ]
    }
   ]
  },
  {
   "cell_type": "markdown",
   "source": [
    "las mayusculas y las minusculas importan, son diferentes en python\n",
    "\n"
   ],
   "metadata": {
    "id": "YG6Jzq7EQJkk"
   }
  },
  {
   "cell_type": "code",
   "source": [
    "vAr1 = 10\n",
    "var1 = 20\n",
    "print(vAr1, var1)"
   ],
   "metadata": {
    "colab": {
     "base_uri": "https://localhost:8080/"
    },
    "id": "Xncdh4-zP6Wr",
    "outputId": "805a7c6c-2002-4c0a-8d88-496ba6c59a81"
   },
   "execution_count": null,
   "outputs": [
    {
     "output_type": "stream",
     "name": "stdout",
     "text": [
      "10 20\n"
     ]
    }
   ]
  },
  {
   "cell_type": "code",
   "source": [
    "\"\"\" \n",
    "Ejercicio 5\n",
    "$0.10 1 litro o menor\n",
    "$0.25 mayor a un litro\n",
    "\n",
    "Escriba un programa que lea el numero de contenedores de cada tamaño\n",
    "y su programa debe calcular e imprimir el deposito de los contenedores\n",
    "\"\"\"\n",
    "\n",
    "pequeños = int(input(\"Ingrese la cantidad de contenedores pequeños\"))\n",
    "grandes  = int(input(\"Ingrese la cantidad de contenedores grandes\"))\n",
    "deposito = pequeños*0.10 + grandes * 0.25\n",
    "print(f\"el deposito a retornar seria de: ${deposito}\" )\n",
    "\n",
    "\n",
    "# print(\"el deposito a retornar seria de: $\"+str(deposito))\n",
    "# print(f\"el deposito a retornar seria de: $\", deposito )"
   ],
   "metadata": {
    "colab": {
     "base_uri": "https://localhost:8080/"
    },
    "id": "kSFi36BfTXMY",
    "outputId": "fbb03cbd-035b-42b8-98fe-ecb7ed0d61e7"
   },
   "execution_count": null,
   "outputs": [
    {
     "output_type": "stream",
     "name": "stdout",
     "text": [
      "Ingrese la cantidad de contenedores pequeños4\n",
      "Ingrese la cantidad de contenedores grandes3\n",
      "el deposito a retornar seria de: $1.15\n",
      "el deposito a retornar seria de: $1.15\n",
      "el deposito a retornar seria de: $ 1.15\n"
     ]
    }
   ]
  },
  {
   "cell_type": "code",
   "source": [
    "你好 = \"hola\"\n",
    "print(你好)"
   ],
   "metadata": {
    "colab": {
     "base_uri": "https://localhost:8080/"
    },
    "id": "1Umy9zctU5Lf",
    "outputId": "58867348-1174-4039-8344-1fc83331ce62"
   },
   "execution_count": null,
   "outputs": [
    {
     "output_type": "stream",
     "name": "stdout",
     "text": [
      "hola\n"
     ]
    }
   ]
  },
  {
   "cell_type": "code",
   "source": [
    "pi = 3.1415926535\n",
    "cantidad = 5\n",
    "\n",
    "print(type(pi))\n",
    "print(type(cantidad))"
   ],
   "metadata": {
    "colab": {
     "base_uri": "https://localhost:8080/"
    },
    "id": "wUDCz6rrVKJb",
    "outputId": "3aacab42-fda7-4181-fbcc-3e68b4ff0d96"
   },
   "execution_count": null,
   "outputs": [
    {
     "output_type": "stream",
     "name": "stdout",
     "text": [
      "<class 'float'>\n",
      "<class 'int'>\n"
     ]
    }
   ]
  },
  {
   "cell_type": "code",
   "source": [
    "# Ejercicio 32\n",
    "\"\"\"\n",
    "lea 3 enteros\n",
    "devuelva de menor a mayor...\n",
    "usar funciones min y max\n",
    "\"\"\"\n",
    "\n",
    "val1 = int(input(\"ingrese valor 1: \"))\n",
    "val2 = int(input(\"ingrese valor 2: \"))\n",
    "val3 = int(input(\"ingrese valor 3: \"))\n",
    "\n",
    "minimo = min(val1,val2,val3)\n",
    "maximo = max(val1,val2,val3)\n",
    "medio = val1+val2+val3-minimo-maximo\n",
    "\n",
    "print(\"El minimo es: \",minimo)\n",
    "print(\"El medio es: \",medio)\n",
    "print(\"El máximo es: \",maximo)"
   ],
   "metadata": {
    "colab": {
     "base_uri": "https://localhost:8080/"
    },
    "id": "7sncF7TBW7DK",
    "outputId": "3c82135f-bb1b-4d92-ec50-cb50fa6b03ec"
   },
   "execution_count": null,
   "outputs": [
    {
     "output_type": "stream",
     "name": "stdout",
     "text": [
      "ingrese valor 1: 234\n",
      "ingrese valor 2: 123\n",
      "ingrese valor 3: 412\n",
      "El minimo es:  123\n",
      "El medio es:  234\n",
      "El máximo es:  412\n"
     ]
    }
   ]
  },
  {
   "cell_type": "code",
   "source": [
    "print(sorted([int(x) for x in input(\"ingrese 3 numeros\").split()]))"
   ],
   "metadata": {
    "colab": {
     "base_uri": "https://localhost:8080/"
    },
    "id": "40iE7NvReG2I",
    "outputId": "b935764f-b49f-4a9f-f8d0-cced16f5f2e4"
   },
   "execution_count": null,
   "outputs": [
    {
     "output_type": "stream",
     "name": "stdout",
     "text": [
      "ingrese 3 numeros54 14 27\n",
      "[14, 27, 54]\n"
     ]
    }
   ]
  },
  {
   "cell_type": "markdown",
   "source": [
    "# Comentarios\n",
    "\n",
    "Codigo que no va a ser intepretado por python, es decir, va a ser ignorado y es de uso exclusivo del programador.\n",
    "\n",
    "En python los comentarios se realizan anteponiendo el simbolo # \n",
    "\n",
    "* esto\n",
    "* es \n",
    "* una \n",
    "* lista\n",
    "* de \n",
    "* items"
   ],
   "metadata": {
    "id": "nD2cYA7O_a4D"
   }
  },
  {
   "cell_type": "code",
   "source": [
    "# Ejercicio 33\n",
    "\"\"\"\n",
    "pan -> 3.49\n",
    "descuento de viejo -> 60%\n",
    "(cantidad) -> (Valor normal, valor descuento, total a pagar)\n",
    "\"\"\"\n",
    "precio = 3.49\n",
    "descuento = 0.6\n",
    "cantidad = int(input(\"Cuantos panes desea comprar?\"))\n",
    "\n",
    "valor = precio * cantidad\n",
    "descontado = valor * descuento\n",
    "\n",
    "print(f\"el precio sin descuento sería: {valor}\")\n",
    "print(f\"el descuento generado es de: {descontado}\")\n",
    "print(f\"el total a pagar seria de: {valor-descontado}\")"
   ],
   "metadata": {
    "colab": {
     "base_uri": "https://localhost:8080/"
    },
    "id": "1Ikd-yemPNbz",
    "outputId": "7cada442-5507-476b-96b5-8dfd9a80f409"
   },
   "execution_count": null,
   "outputs": [
    {
     "output_type": "stream",
     "name": "stdout",
     "text": [
      "Cuantos panes desea comprar?10\n",
      "el precio sin descuento sería: 34.900000000000006\n",
      "el descuento generado es de: 20.94\n",
      "el total a pagar seria de: 13.960000000000004\n"
     ]
    }
   ]
  },
  {
   "cell_type": "markdown",
   "source": [
    "Compilado vs Interpretado\n",
    "\n",
    "Codigo en un Lenguaje -> Lenguaje de Maquina"
   ],
   "metadata": {
    "id": "Apd5Dch_C0Zn"
   }
  },
  {
   "cell_type": "code",
   "source": [
    "print(10*3.1415)"
   ],
   "metadata": {
    "colab": {
     "base_uri": "https://localhost:8080/"
    },
    "id": "7u-rYjJja1_x",
    "outputId": "27c3580e-4349-4c80-8784-9a551e7eb6a7"
   },
   "execution_count": null,
   "outputs": [
    {
     "output_type": "stream",
     "name": "stdout",
     "text": [
      "31.415000000000003\n"
     ]
    }
   ]
  },
  {
   "cell_type": "code",
   "source": [
    "# Ejercicio 6\n",
    "\"\"\"\n",
    "(costo comida) -> \n",
    "impuestos = 0.19\n",
    "propina = 0.18\n",
    "\"\"\"\n",
    "\n",
    "costo = float(input(\"Ingrese el valor de su comida: \"))\n",
    "impuesto = costo*0.19\n",
    "propina = costo*0.18\n",
    "total = costo+impuesto+propina\n",
    "\n",
    "print(impuesto,propina,total)"
   ],
   "metadata": {
    "colab": {
     "base_uri": "https://localhost:8080/"
    },
    "id": "U9BtDGrffXWs",
    "outputId": "d12baa71-a9fc-4787-88d0-ec7ad275050c"
   },
   "execution_count": null,
   "outputs": [
    {
     "output_type": "stream",
     "name": "stdout",
     "text": [
      "Ingrese el valor de su comida: 100\n",
      "19.0 18.0 137.0\n"
     ]
    }
   ]
  },
  {
   "cell_type": "markdown",
   "source": [
    "# Enlaces\n",
    "\n",
    "* https://docs.python.org/es/3/tutorial/\n",
    "\n"
   ],
   "metadata": {
    "id": "gfPNzisE7Z9T"
   }
  },
  {
   "cell_type": "markdown",
   "source": [],
   "metadata": {
    "id": "85HjgB4M9lHv"
   }
  }
 ]
}
