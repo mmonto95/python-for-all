{
 "nbformat": 4,
 "nbformat_minor": 0,
 "metadata": {
  "colab": {
   "provenance": []
  },
  "kernelspec": {
   "name": "python3",
   "display_name": "Python 3"
  },
  "language_info": {
   "name": "python"
  }
 },
 "cells": [
  {
   "cell_type": "code",
   "execution_count": 3,
   "metadata": {
    "colab": {
     "base_uri": "https://localhost:8080/"
    },
    "id": "ajHU5ra63wqF",
    "outputId": "807a876e-66ba-470f-e6f2-3760ce406b65"
   },
   "outputs": [
    {
     "name": "stdout",
     "output_type": "stream",
     "text": [
      "Medida lado A :  6\n",
      "Medida lado B :  8\n",
      "10.0\n"
     ]
    }
   ],
   "source": [
    "from math import sqrt\n",
    "def calcular_hipo(lado_a, lado_b):\n",
    "  print('Medida lado A : ', lado_a)\n",
    "  print('Medida lado B : ', lado_b)\n",
    "  print(sqrt(lado_a**2 + lado_b**2))\n",
    "\n",
    "calcular_hipo(6, 8)\n"
   ]
  },
  {
   "cell_type": "code",
   "execution_count": null,
   "outputs": [],
   "source": [],
   "metadata": {
    "collapsed": false
   }
  }
 ]
}
