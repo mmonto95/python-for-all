{
 "nbformat": 4,
 "nbformat_minor": 0,
 "metadata": {
  "colab": {
   "provenance": []
  },
  "kernelspec": {
   "name": "python3",
   "display_name": "Python 3"
  },
  "language_info": {
   "name": "python"
  }
 },
 "cells": [
  {
   "cell_type": "markdown",
   "source": [
    "# Clase 1"
   ],
   "metadata": {
    "collapsed": false
   }
  },
  {
   "cell_type": "markdown",
   "source": [
    "* I/O: Entrada y Salida Básica\n",
    "* Tipos de Datos:\n",
    "    * int\n",
    "    * float\n",
    "    * String\n",
    "      * 'Simple' \n",
    "      * \"Doble\"  \n",
    "      * \"\"\"Triple\"\"\"\n",
    "    * bool\n",
    "* Variables\n",
    "* Tipado dinámico\n",
    "* Expresiones\n",
    "* Comentarios\n",
    "* Aritmética y Operadores\n",
    "* Contenedores:\n",
    "    * Lista\n",
    "    * Tupla\n",
    "    * Diccionarios\n",
    "    * Conjuntos\n",
    "* Valores de Verdad y Comparaciones\n",
    "* Palabras reservadas\n"
   ],
   "metadata": {
    "id": "Jb13AmjQ7TbL"
   }
  },
  {
   "cell_type": "markdown",
   "source": [],
   "metadata": {
    "id": "85HjgB4M9lHv"
   }
  }
 ]
}
