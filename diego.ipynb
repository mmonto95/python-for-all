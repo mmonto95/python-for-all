{
 "nbformat": 4,
 "nbformat_minor": 0,
 "metadata": {
  "colab": {
   "provenance": []
  },
  "kernelspec": {
   "name": "python3",
   "display_name": "Python 3"
  },
  "language_info": {
   "name": "python"
  }
 },
 "cells": [
  {
   "cell_type": "code",
   "execution_count": 3,
   "metadata": {
    "colab": {
     "base_uri": "https://localhost:8080/"
    },
    "id": "SGlvaSCx0GBh",
    "outputId": "8fed13d9-5738-4730-cf2a-80cab6a87030"
   },
   "outputs": [
    {
     "output_type": "stream",
     "name": "stdout",
     "text": [
      "Hola,manolo\n"
     ]
    }
   ],
   "source": [
    "mensaje=\"Hola,{}\"\n",
    "nombre=\"manolo\"\n",
    "saludo=mensaje.format(nombre)\n",
    "print(saludo)"
   ]
  },
  {
   "cell_type": "code",
   "source": [
    "mensaje2=\"como moco {} {}\"\n",
    "hoy=\"marzo\"\n",
    "dia=\"3\"\n",
    "saludado=mensaje2.format(hoy,dia)\n",
    "print(saludado)"
   ],
   "metadata": {
    "colab": {
     "base_uri": "https://localhost:8080/"
    },
    "id": "m4NULMA70dmI",
    "outputId": "035c493b-81f8-4afb-b57a-510ce1ec0b21"
   },
   "execution_count": 4,
   "outputs": [
    {
     "output_type": "stream",
     "name": "stdout",
     "text": [
      "como moco marzo 3\n"
     ]
    }
   ]
  },
  {
   "cell_type": "markdown",
   "source": [
    "mensaje3=\"Hola, {nombre_cliente} {apellido_cliente} {Segundo_apellido_cliente}\"\n",
    "nombre= \"MANOLO\"\n",
    "apellido= \"elver \"\n",
    "Segundo_apellido= \"Parzetti\"\n",
    "saludo4= mensaje3.format(nombre_cliente=nombre, apellido_cliente=apellido,Segundo_apellido_cliente= Segundo_apellido)\n",
    "print(saludo4)\n"
   ],
   "metadata": {
    "id": "Ru9NDGOn3cQh"
   }
  },
  {
   "cell_type": "code",
   "source": [
    "mensaje3=\"Hola, {nombre_cliente} {apellido_cliente} {Segundo_apellido_cliente}\"\n",
    " nombre= \"MANOLO\" \n",
    " apellido=  \"elver \"\n",
    "   Segundo_apellido="
   ],
   "metadata": {
    "id": "l0g6jJUZ5vwA"
   },
   "execution_count": null,
   "outputs": []
  },
  {
   "cell_type": "code",
   "source": [
    "name=\"jimmy\"\n",
    "apellido=\"montana\"\n",
    "surname=\"zuluaga\"\n",
    "saludo=f\"HOLA' {nombre} {apellido} {surname}\"\n",
    "print(saludo)"
   ],
   "metadata": {
    "colab": {
     "base_uri": "https://localhost:8080/"
    },
    "id": "P7vkeh2H6BsI",
    "outputId": "ae7e8f03-600b-41ac-b0b4-a2e52be3e7d9"
   },
   "execution_count": 8,
   "outputs": [
    {
     "output_type": "stream",
     "name": "stdout",
     "text": [
      "HOLA' MANOLO montana zuluaga\n"
     ]
    }
   ]
  },
  {
   "cell_type": "code",
   "source": [
    "palabras_con_comillas= \"el profe dijo 'presten atencion'  \"\n",
    "print(palabras_con_comillas)"
   ],
   "metadata": {
    "colab": {
     "base_uri": "https://localhost:8080/"
    },
    "id": "f_RJDWWr65UZ",
    "outputId": "fe6b528c-3649-47d2-8ca7-022b50c42f74"
   },
   "execution_count": 11,
   "outputs": [
    {
     "output_type": "stream",
     "name": "stdout",
     "text": [
      "el profe dijo 'presten atencion'  \n"
     ]
    }
   ]
  },
  {
   "cell_type": "code",
   "source": [
    "palabras_con_comillas= \"el profe dijo 'presten atencion'  \"\n",
    "print(palabras_con_comillas)"
   ],
   "metadata": {
    "id": "jDJ9zJkw8nCP"
   },
   "execution_count": null,
   "outputs": []
  },
  {
   "cell_type": "code",
   "source": [],
   "metadata": {
    "id": "NS3l8SYa7ajC"
   },
   "execution_count": null,
   "outputs": []
  },
  {
   "cell_type": "markdown",
   "source": [
    "###Ejercicio #4\n",
    "Create a program that reads the length and width of a farmer’s field from the user in\n",
    "feet. Display the area of the field in acres.\n",
    "Hint: There are 43,560 square feet in an acre.\n",
    "\n"
   ],
   "metadata": {
    "id": "5FQHIjhg-h3X"
   }
  },
  {
   "cell_type": "code",
   "source": [
    "longitud= float(input(\"longitud\"))\n",
    "ancho=float(input(\"ancho\"))\n",
    "\n",
    "area= longitud*ancho\n",
    "\n",
    "conversion_acres= area/43560\n",
    "\n",
    "mensaje= \"El area del campo es {} acres\"\n",
    "\n",
    "solucion=mensaje.format(conversion_acres)\n",
    "print(solucion)"
   ],
   "metadata": {
    "id": "zSJjyNgOAVXQ"
   },
   "execution_count": 1,
   "outputs": [
    {
     "name": "stdout",
     "output_type": "stream",
     "text": [
      "El area del campo es 1.147842056932966 acress\n"
     ]
    }
   ]
  },
  {
   "cell_type": "code",
   "execution_count": null,
   "outputs": [],
   "source": [],
   "metadata": {
    "collapsed": false
   }
  }
 ]
}
