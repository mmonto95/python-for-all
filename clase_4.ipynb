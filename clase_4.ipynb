{
 "nbformat": 4,
 "nbformat_minor": 0,
 "metadata": {
  "colab": {
   "provenance": []
  },
  "kernelspec": {
   "name": "python3",
   "display_name": "Python 3"
  },
  "language_info": {
   "name": "python"
  }
 },
 "cells": [
  {
   "cell_type": "markdown",
   "source": [
    "# Funciones y métodos\n",
    "\n",
    "### Funciones\n",
    "- print('Hola')\n",
    "- float()\n",
    "- input()\n",
    "- np.mean()\n",
    "\n",
    "### Métodos\n",
    "- [].append(0)\n",
    "- [].sorted()\n",
    "- '{} asdf'.format('Hola')\n",
    "- 'asdf'.upper()"
   ],
   "metadata": {
    "collapsed": false
   }
  },
  {
   "cell_type": "markdown",
   "source": [
    "# Funciones\n",
    "\n",
    "* funciones sin parámetros\n",
    "* funciones con parámetros fijos\n",
    "* funciones con parámetros con nombres\n",
    "* funciones con número indeterminado de parámetros\n",
    "* el retorno!\n"
   ],
   "metadata": {
    "collapsed": false
   }
  },
  {
   "cell_type": "code",
   "execution_count": 31,
   "outputs": [
    {
     "name": "stdout",
     "output_type": "stream",
     "text": [
      "\n",
      "Here is a list of the Python keywords.  Enter any keyword to get more help.\n",
      "\n",
      "False               break               for                 not\n",
      "None                class               from                or\n",
      "True                continue            global              pass\n",
      "__peg_parser__      def                 if                  raise\n",
      "and                 del                 import              return\n",
      "as                  elif                in                  try\n",
      "assert              else                is                  while\n",
      "async               except              lambda              with\n",
      "await               finally             nonlocal            yield\n",
      "\n"
     ]
    }
   ],
   "source": [
    "help('keywords')"
   ],
   "metadata": {
    "collapsed": false
   }
  },
  {
   "cell_type": "code",
   "execution_count": 2,
   "outputs": [],
   "source": [
    "def print_hola():\n",
    "    print('Hola')"
   ],
   "metadata": {
    "collapsed": false
   }
  },
  {
   "cell_type": "code",
   "execution_count": 3,
   "outputs": [
    {
     "name": "stdout",
     "output_type": "stream",
     "text": [
      "Hola\n"
     ]
    }
   ],
   "source": [
    "print_hola()"
   ],
   "metadata": {
    "collapsed": false
   }
  },
  {
   "cell_type": "code",
   "execution_count": 4,
   "outputs": [],
   "source": [
    "def print_hola_y_chao():\n",
    "    print('Hola')\n",
    "    print('Chao')"
   ],
   "metadata": {
    "collapsed": false
   }
  },
  {
   "cell_type": "code",
   "execution_count": 5,
   "outputs": [
    {
     "name": "stdout",
     "output_type": "stream",
     "text": [
      "Hola\n",
      "Chao\n"
     ]
    }
   ],
   "source": [
    "print_hola_y_chao()"
   ],
   "metadata": {
    "collapsed": false
   }
  },
  {
   "cell_type": "code",
   "execution_count": 8,
   "outputs": [
    {
     "ename": "NameError",
     "evalue": "name 'print_chao' is not defined",
     "output_type": "error",
     "traceback": [
      "\u001B[0;31m---------------------------------------------------------------------------\u001B[0m",
      "\u001B[0;31mNameError\u001B[0m                                 Traceback (most recent call last)",
      "Cell \u001B[0;32mIn[8], line 1\u001B[0m\n\u001B[0;32m----> 1\u001B[0m \u001B[43mprint_chao\u001B[49m()\n",
      "\u001B[0;31mNameError\u001B[0m: name 'print_chao' is not defined"
     ]
    }
   ],
   "source": [
    "print_chao()"
   ],
   "metadata": {
    "collapsed": false
   }
  },
  {
   "cell_type": "code",
   "execution_count": 9,
   "outputs": [],
   "source": [
    "def print_chao():\n",
    "    print('Chao')"
   ],
   "metadata": {
    "collapsed": false
   }
  },
  {
   "cell_type": "code",
   "execution_count": 10,
   "outputs": [
    {
     "name": "stdout",
     "output_type": "stream",
     "text": [
      "Chao\n"
     ]
    }
   ],
   "source": [
    "print_chao()"
   ],
   "metadata": {
    "collapsed": false
   }
  },
  {
   "cell_type": "code",
   "execution_count": 11,
   "outputs": [],
   "source": [
    "def encontrar_suma_de_multiplos():\n",
    "    total = 0\n",
    "    for elemento in range(1000):\n",
    "        if elemento % 3 == 0 or elemento % 5 == 0:\n",
    "            total += elemento\n",
    "    print(total)"
   ],
   "metadata": {
    "collapsed": false
   }
  },
  {
   "cell_type": "code",
   "execution_count": 12,
   "outputs": [
    {
     "name": "stdout",
     "output_type": "stream",
     "text": [
      "233168\n"
     ]
    }
   ],
   "source": [
    "encontrar_suma_de_multiplos()"
   ],
   "metadata": {
    "collapsed": false
   }
  },
  {
   "cell_type": "code",
   "execution_count": 13,
   "outputs": [],
   "source": [
    "def saludar(nombre):\n",
    "    print('Hola', nombre)"
   ],
   "metadata": {
    "collapsed": false
   }
  },
  {
   "cell_type": "code",
   "execution_count": 14,
   "outputs": [
    {
     "name": "stdout",
     "output_type": "stream",
     "text": [
      "Hola Manuel\n"
     ]
    }
   ],
   "source": [
    "saludar('Manuel')"
   ],
   "metadata": {
    "collapsed": false
   }
  },
  {
   "cell_type": "code",
   "execution_count": 15,
   "outputs": [
    {
     "name": "stdout",
     "output_type": "stream",
     "text": [
      "Hola Daniel\n"
     ]
    }
   ],
   "source": [
    "saludar('Daniel')"
   ],
   "metadata": {
    "collapsed": false
   }
  },
  {
   "cell_type": "code",
   "execution_count": 17,
   "outputs": [
    {
     "name": "stdout",
     "output_type": "stream",
     "text": [
      "Hola [1, 2, 3, 4, 6, 7, 8, 9]\n"
     ]
    }
   ],
   "source": [
    "lista = [i for i in range(1, 10) if i != 5]\n",
    "saludar(lista)"
   ],
   "metadata": {
    "collapsed": false
   }
  },
  {
   "cell_type": "code",
   "execution_count": 18,
   "outputs": [
    {
     "name": "stdout",
     "output_type": "stream",
     "text": [
      "Hola [1, 2, 3, 4, 6, 7, 8, 9]\n"
     ]
    }
   ],
   "source": [
    "saludar([i for i in range(1, 10) if i != 5])"
   ],
   "metadata": {
    "collapsed": false
   }
  },
  {
   "cell_type": "code",
   "execution_count": 19,
   "outputs": [
    {
     "ename": "TypeError",
     "evalue": "print_hola_y_chao() takes 0 positional arguments but 1 was given",
     "output_type": "error",
     "traceback": [
      "\u001B[0;31m---------------------------------------------------------------------------\u001B[0m",
      "\u001B[0;31mTypeError\u001B[0m                                 Traceback (most recent call last)",
      "Cell \u001B[0;32mIn[19], line 1\u001B[0m\n\u001B[0;32m----> 1\u001B[0m \u001B[43mprint_hola_y_chao\u001B[49m\u001B[43m(\u001B[49m\u001B[38;5;124;43m'\u001B[39;49m\u001B[38;5;124;43mManuel\u001B[39;49m\u001B[38;5;124;43m'\u001B[39;49m\u001B[43m)\u001B[49m\n",
      "\u001B[0;31mTypeError\u001B[0m: print_hola_y_chao() takes 0 positional arguments but 1 was given"
     ]
    }
   ],
   "source": [
    "print_hola_y_chao('Manuel')"
   ],
   "metadata": {
    "collapsed": false
   }
  },
  {
   "cell_type": "code",
   "execution_count": 20,
   "outputs": [
    {
     "ename": "TypeError",
     "evalue": "saludar() missing 1 required positional argument: 'nombre'",
     "output_type": "error",
     "traceback": [
      "\u001B[0;31m---------------------------------------------------------------------------\u001B[0m",
      "\u001B[0;31mTypeError\u001B[0m                                 Traceback (most recent call last)",
      "Cell \u001B[0;32mIn[20], line 1\u001B[0m\n\u001B[0;32m----> 1\u001B[0m \u001B[43msaludar\u001B[49m\u001B[43m(\u001B[49m\u001B[43m)\u001B[49m\n",
      "\u001B[0;31mTypeError\u001B[0m: saludar() missing 1 required positional argument: 'nombre'"
     ]
    }
   ],
   "source": [
    "saludar()"
   ],
   "metadata": {
    "collapsed": false
   }
  },
  {
   "cell_type": "code",
   "execution_count": 21,
   "outputs": [
    {
     "ename": "TypeError",
     "evalue": "saludar() takes 1 positional argument but 2 were given",
     "output_type": "error",
     "traceback": [
      "\u001B[0;31m---------------------------------------------------------------------------\u001B[0m",
      "\u001B[0;31mTypeError\u001B[0m                                 Traceback (most recent call last)",
      "Cell \u001B[0;32mIn[21], line 1\u001B[0m\n\u001B[0;32m----> 1\u001B[0m \u001B[43msaludar\u001B[49m\u001B[43m(\u001B[49m\u001B[38;5;124;43m'\u001B[39;49m\u001B[38;5;124;43mManuel\u001B[39;49m\u001B[38;5;124;43m'\u001B[39;49m\u001B[43m,\u001B[49m\u001B[43m \u001B[49m\u001B[38;5;124;43m'\u001B[39;49m\u001B[38;5;124;43mMiguel\u001B[39;49m\u001B[38;5;124;43m'\u001B[39;49m\u001B[43m)\u001B[49m\n",
      "\u001B[0;31mTypeError\u001B[0m: saludar() takes 1 positional argument but 2 were given"
     ]
    }
   ],
   "source": [
    "saludar('Manuel', 'Miguel')"
   ],
   "metadata": {
    "collapsed": false
   }
  },
  {
   "cell_type": "code",
   "execution_count": 25,
   "outputs": [],
   "source": [
    "def saludar_a_dos_personas(nombre_1, nombre_2):\n",
    "    print('Hola', nombre_1)\n",
    "    print('Hola', nombre_2)"
   ],
   "metadata": {
    "collapsed": false
   }
  },
  {
   "cell_type": "code",
   "execution_count": 27,
   "outputs": [
    {
     "name": "stdout",
     "output_type": "stream",
     "text": [
      "Hola Miguel\n",
      "Hola Manuel\n"
     ]
    }
   ],
   "source": [
    "saludar_a_dos_personas('Miguel', 'Manuel')"
   ],
   "metadata": {
    "collapsed": false
   }
  },
  {
   "cell_type": "code",
   "execution_count": 28,
   "outputs": [],
   "source": [
    "def saludar_con_nombre_y_apellido(nombre, apellido):\n",
    "    print('Hola', nombre, apellido)"
   ],
   "metadata": {
    "collapsed": false
   }
  },
  {
   "cell_type": "code",
   "execution_count": 29,
   "outputs": [
    {
     "name": "stdout",
     "output_type": "stream",
     "text": [
      "Hola Nombre Apellido\n"
     ]
    }
   ],
   "source": [
    "saludar_con_nombre_y_apellido('Nombre', 'Apellido')"
   ],
   "metadata": {
    "collapsed": false
   }
  },
  {
   "cell_type": "code",
   "execution_count": null,
   "outputs": [],
   "source": [
    "saludar_con_nombre_y_apellido()"
   ],
   "metadata": {
    "collapsed": false
   }
  },
  {
   "cell_type": "code",
   "execution_count": 30,
   "outputs": [
    {
     "name": "stdout",
     "output_type": "stream",
     "text": [
      "Hola José\n",
      "None\n"
     ]
    }
   ],
   "source": [
    "saludo = saludar('José')\n",
    "print(saludo)"
   ],
   "metadata": {
    "collapsed": false
   }
  },
  {
   "cell_type": "code",
   "execution_count": 32,
   "outputs": [],
   "source": [
    "def saludar(nombre):\n",
    "    saludo = f'Hola {nombre}'\n",
    "    return saludo"
   ],
   "metadata": {
    "collapsed": false
   }
  },
  {
   "cell_type": "code",
   "execution_count": 33,
   "outputs": [],
   "source": [
    "primer_saludo = saludar('José')"
   ],
   "metadata": {
    "collapsed": false
   }
  },
  {
   "cell_type": "code",
   "execution_count": 34,
   "outputs": [
    {
     "data": {
      "text/plain": "'Hola José'"
     },
     "execution_count": 34,
     "metadata": {},
     "output_type": "execute_result"
    }
   ],
   "source": [
    "primer_saludo"
   ],
   "metadata": {
    "collapsed": false
   }
  },
  {
   "cell_type": "code",
   "execution_count": 35,
   "outputs": [],
   "source": [
    "segundo_saludo = saludar('Mateo')"
   ],
   "metadata": {
    "collapsed": false
   }
  },
  {
   "cell_type": "code",
   "execution_count": 36,
   "outputs": [
    {
     "name": "stdout",
     "output_type": "stream",
     "text": [
      "Hola José\n",
      "Hola Mateo\n"
     ]
    }
   ],
   "source": [
    "print(primer_saludo)\n",
    "print(segundo_saludo)"
   ],
   "metadata": {
    "collapsed": false
   }
  },
  {
   "cell_type": "markdown",
   "source": [
    "# Ejercicio 81: Calcular la hipotenusa"
   ],
   "metadata": {
    "collapsed": false
   }
  },
  {
   "cell_type": "code",
   "execution_count": 2,
   "outputs": [
    {
     "name": "stdout",
     "output_type": "stream",
     "text": [
      "Medida lado A :  6\n",
      "Medida lado B :  8\n",
      "10.0\n"
     ]
    }
   ],
   "source": [
    "from math import sqrt\n",
    "\n",
    "def calcular_hipo(lado_a, lado_b):\n",
    "    print('Medida lado A : ', lado_a)\n",
    "    print('Medida lado B : ', lado_b)\n",
    "    print(sqrt(lado_a**2 + lado_b**2))\n",
    "\n",
    "calcular_hipo(6, 8)"
   ],
   "metadata": {
    "collapsed": false
   }
  },
  {
   "cell_type": "code",
   "execution_count": 3,
   "outputs": [
    {
     "name": "stdout",
     "output_type": "stream",
     "text": [
      "10.0\n"
     ]
    }
   ],
   "source": [
    "def calcular_hipo(lado_a, lado_b):\n",
    "    return sqrt(lado_a ** 2 + lado_b ** 2)\n",
    "\n",
    "hipotenusa = calcular_hipo(6, 8)\n",
    "print(hipotenusa)"
   ],
   "metadata": {
    "collapsed": false
   }
  },
  {
   "cell_type": "code",
   "execution_count": 4,
   "outputs": [
    {
     "name": "stdout",
     "output_type": "stream",
     "text": [
      "None\n"
     ]
    }
   ],
   "source": [
    "# ESTA NO SIRVE\n",
    "def calcular_hipo(lado_a, lado_b):\n",
    "    sqrt(lado_a ** 2 + lado_b ** 2)\n",
    "\n",
    "hipotenusa = calcular_hipo(6, 8)\n",
    "print(hipotenusa)"
   ],
   "metadata": {
    "collapsed": false
   }
  },
  {
   "cell_type": "markdown",
   "source": [
    "# Ejercicio 83: Shipping Calculator"
   ],
   "metadata": {
    "collapsed": false
   }
  },
  {
   "cell_type": "code",
   "execution_count": 13,
   "outputs": [
    {
     "name": "stdout",
     "output_type": "stream",
     "text": [
      "13.899999999999999\n"
     ]
    }
   ],
   "source": [
    "def items(x):\n",
    "    if x <= 0:\n",
    "        return \"Digita un entero psoitivo mayor que cero\"\n",
    "    else:\n",
    "        return 10.95 + (x-1)*2.95\n",
    "\n",
    "costo = items(1)\n",
    "print(costo)"
   ],
   "metadata": {
    "collapsed": false
   }
  },
  {
   "cell_type": "code",
   "execution_count": null,
   "outputs": [],
   "source": [
    "def shipping_calc(numero_de_items):\n",
    "  return(10.95 + (numero_de_items - 1)*2.95)\n",
    "\n",
    "Items = shipping_calc(3)\n",
    "print(Items)"
   ],
   "metadata": {
    "collapsed": false
   }
  },
  {
   "cell_type": "code",
   "execution_count": 21,
   "outputs": [
    {
     "name": "stdout",
     "output_type": "stream",
     "text": [
      "10.95\n"
     ]
    }
   ],
   "source": [
    "def calcular_costo_envio(num_articulos):\n",
    "    if num_articulos == 1:\n",
    "        return 10.95\n",
    "    else:\n",
    "        return 10.95 + (2.95 * (num_articulos - 1))\n",
    "\n",
    "\n",
    "costo_envio = calcular_costo_envio(1)\n",
    "print(costo_envio)"
   ],
   "metadata": {
    "collapsed": false
   }
  },
  {
   "cell_type": "markdown",
   "source": [
    "# Funciones con número de argumentos indefinido"
   ],
   "metadata": {
    "collapsed": false
   }
  },
  {
   "cell_type": "markdown",
   "source": [
    "El print lo podemos llamar con un número cualquiera de argumentos sin nombre:"
   ],
   "metadata": {
    "collapsed": false
   }
  },
  {
   "cell_type": "code",
   "execution_count": 22,
   "outputs": [
    {
     "name": "stdout",
     "output_type": "stream",
     "text": [
      "1\n",
      "1 2 3\n"
     ]
    }
   ],
   "source": [
    "a = 1\n",
    "b = 2\n",
    "c = 3\n",
    "print(a)\n",
    "print(a, b, c)"
   ],
   "metadata": {
    "collapsed": false
   }
  },
  {
   "cell_type": "markdown",
   "source": [
    "Pero al utilizar los argumentos con nombre de la función print, solo podemos llamarlos una vez."
   ],
   "metadata": {
    "collapsed": false
   }
  },
  {
   "cell_type": "code",
   "execution_count": 23,
   "outputs": [
    {
     "ename": "SyntaxError",
     "evalue": "keyword argument repeated: sep (2900662712.py, line 1)",
     "output_type": "error",
     "traceback": [
      "\u001B[0;36m  Cell \u001B[0;32mIn[23], line 1\u001B[0;36m\u001B[0m\n\u001B[0;31m    print(a, b, c, sep=';', sep='--')\u001B[0m\n\u001B[0m                            ^\u001B[0m\n\u001B[0;31mSyntaxError\u001B[0m\u001B[0;31m:\u001B[0m keyword argument repeated: sep\n"
     ]
    }
   ],
   "source": [
    "print(a, b, c, sep=';', sep='--')"
   ],
   "metadata": {
    "collapsed": false
   }
  },
  {
   "cell_type": "code",
   "execution_count": 25,
   "outputs": [
    {
     "name": "stdout",
     "output_type": "stream",
     "text": [
      "1;2;3\n"
     ]
    }
   ],
   "source": [
    "print(a, b, c, sep=';')"
   ],
   "metadata": {
    "collapsed": false
   }
  },
  {
   "cell_type": "markdown",
   "source": [
    "Los argumentos sin nombre (positional argument) SIEMPRE van antes que los que tienen nombre (keyword arguments)"
   ],
   "metadata": {
    "collapsed": false
   }
  },
  {
   "cell_type": "code",
   "execution_count": 24,
   "outputs": [
    {
     "ename": "SyntaxError",
     "evalue": "positional argument follows keyword argument (2602576056.py, line 1)",
     "output_type": "error",
     "traceback": [
      "\u001B[0;36m  Cell \u001B[0;32mIn[24], line 1\u001B[0;36m\u001B[0m\n\u001B[0;31m    print(sep=';', a, b, c)\u001B[0m\n\u001B[0m                          ^\u001B[0m\n\u001B[0;31mSyntaxError\u001B[0m\u001B[0;31m:\u001B[0m positional argument follows keyword argument\n"
     ]
    }
   ],
   "source": [
    "print(sep=';', a, b, c)"
   ],
   "metadata": {
    "collapsed": false
   }
  },
  {
   "cell_type": "code",
   "execution_count": 27,
   "outputs": [
    {
     "name": "stdout",
     "output_type": "stream",
     "text": [
      "1 ; 2 ; 3 XD"
     ]
    }
   ],
   "source": [
    "print(a, b, c, sep=' ; ', end=' XD')"
   ],
   "metadata": {
    "collapsed": false
   }
  },
  {
   "cell_type": "code",
   "execution_count": 29,
   "outputs": [],
   "source": [
    "def print_varios_argumentos(*numeros):\n",
    "    print(numeros)"
   ],
   "metadata": {
    "collapsed": false
   }
  },
  {
   "cell_type": "code",
   "execution_count": 30,
   "outputs": [
    {
     "name": "stdout",
     "output_type": "stream",
     "text": [
      "(1, 2, 3, 4)\n"
     ]
    }
   ],
   "source": [
    "print_varios_argumentos(1, 2, 3, 4)"
   ],
   "metadata": {
    "collapsed": false
   }
  },
  {
   "cell_type": "code",
   "execution_count": 34,
   "outputs": [
    {
     "name": "stdout",
     "output_type": "stream",
     "text": [
      "(1, 2, 3, 4, 34, 34, 34, 3, 43, 2, 12)\n"
     ]
    }
   ],
   "source": [
    "print_varios_argumentos(1, 2,3,4,34,34,34,3,43,2,12)"
   ],
   "metadata": {
    "collapsed": false
   }
  },
  {
   "cell_type": "code",
   "execution_count": 35,
   "outputs": [],
   "source": [
    "def print_varios_argumentos(*numeros):\n",
    "    for numero in numeros:\n",
    "        print(numero * 3)"
   ],
   "metadata": {
    "collapsed": false
   }
  },
  {
   "cell_type": "code",
   "execution_count": 36,
   "outputs": [
    {
     "name": "stdout",
     "output_type": "stream",
     "text": [
      "3\n",
      "6\n",
      "9\n",
      "12\n"
     ]
    }
   ],
   "source": [
    "print_varios_argumentos(1, 2, 3, 4)"
   ],
   "metadata": {
    "collapsed": false
   }
  },
  {
   "cell_type": "markdown",
   "source": [
    "# Funciones con argumentos nombrados (keyword arguments)"
   ],
   "metadata": {
    "collapsed": false
   }
  },
  {
   "cell_type": "code",
   "execution_count": 37,
   "outputs": [],
   "source": [
    "def saludar(nombre='Manuel'):\n",
    "    print('Hola', nombre)"
   ],
   "metadata": {
    "collapsed": false
   }
  },
  {
   "cell_type": "code",
   "execution_count": 39,
   "outputs": [
    {
     "name": "stdout",
     "output_type": "stream",
     "text": [
      "Hola Manuel\n"
     ]
    }
   ],
   "source": [
    "saludar()"
   ],
   "metadata": {
    "collapsed": false
   }
  },
  {
   "cell_type": "code",
   "execution_count": 40,
   "outputs": [
    {
     "name": "stdout",
     "output_type": "stream",
     "text": [
      "Hola Sebastián\n"
     ]
    }
   ],
   "source": [
    "saludar(nombre='Sebastián')"
   ],
   "metadata": {
    "collapsed": false
   }
  },
  {
   "cell_type": "code",
   "execution_count": 41,
   "outputs": [
    {
     "name": "stdout",
     "output_type": "stream",
     "text": [
      "Hola Sebastián\n"
     ]
    }
   ],
   "source": [
    "saludar('Sebastián')"
   ],
   "metadata": {
    "collapsed": false
   }
  },
  {
   "cell_type": "code",
   "execution_count": 42,
   "outputs": [],
   "source": [
    "def saludar_a_dos_personas(nombre1, nombre2='Diego'):\n",
    "    print('Hola', nombre1)\n",
    "    print('Hola', nombre2)"
   ],
   "metadata": {
    "collapsed": false
   }
  },
  {
   "cell_type": "code",
   "execution_count": 43,
   "outputs": [
    {
     "ename": "TypeError",
     "evalue": "saludar_a_dos_personas() missing 1 required positional argument: 'nombre1'",
     "output_type": "error",
     "traceback": [
      "\u001B[0;31m---------------------------------------------------------------------------\u001B[0m",
      "\u001B[0;31mTypeError\u001B[0m                                 Traceback (most recent call last)",
      "Cell \u001B[0;32mIn[43], line 1\u001B[0m\n\u001B[0;32m----> 1\u001B[0m \u001B[43msaludar_a_dos_personas\u001B[49m\u001B[43m(\u001B[49m\u001B[43m)\u001B[49m\n",
      "\u001B[0;31mTypeError\u001B[0m: saludar_a_dos_personas() missing 1 required positional argument: 'nombre1'"
     ]
    }
   ],
   "source": [
    "saludar_a_dos_personas()"
   ],
   "metadata": {
    "collapsed": false
   }
  },
  {
   "cell_type": "code",
   "execution_count": 44,
   "outputs": [
    {
     "name": "stdout",
     "output_type": "stream",
     "text": [
      "Hola Daniel\n",
      "Hola Diego\n"
     ]
    }
   ],
   "source": [
    "saludar_a_dos_personas('Daniel')"
   ],
   "metadata": {
    "collapsed": false
   }
  },
  {
   "cell_type": "code",
   "execution_count": 45,
   "outputs": [
    {
     "name": "stdout",
     "output_type": "stream",
     "text": [
      "Hola Daniel\n",
      "Hola Juliana\n"
     ]
    }
   ],
   "source": [
    "saludar_a_dos_personas('Daniel', nombre2='Juliana')"
   ],
   "metadata": {
    "collapsed": false
   }
  },
  {
   "cell_type": "code",
   "execution_count": 46,
   "outputs": [
    {
     "name": "stdout",
     "output_type": "stream",
     "text": [
      "Hola Daniel\n",
      "Hola Juliana\n"
     ]
    }
   ],
   "source": [
    "saludar_a_dos_personas('Daniel', 'Juliana')"
   ],
   "metadata": {
    "collapsed": false
   }
  },
  {
   "cell_type": "code",
   "execution_count": 47,
   "outputs": [
    {
     "name": "stdout",
     "output_type": "stream",
     "text": [
      "Hola Daniel\n",
      "Hola Juliana\n"
     ]
    }
   ],
   "source": [
    "saludar_a_dos_personas(nombre2='Juliana', nombre1='Daniel')"
   ],
   "metadata": {
    "collapsed": false
   }
  },
  {
   "cell_type": "code",
   "execution_count": 57,
   "outputs": [],
   "source": [
    "def saludar_a_dos_personas_y_luego_a_muchas(\n",
    "    nombre1,\n",
    "    *resto_de_nombres,\n",
    "    nombre2='Diego',\n",
    "):\n",
    "    print('Hola', nombre1)\n",
    "    print('Hola', nombre2)\n",
    "    print('Hola', resto_de_nombres)"
   ],
   "metadata": {
    "collapsed": false
   }
  },
  {
   "cell_type": "code",
   "execution_count": 51,
   "outputs": [
    {
     "ename": "TypeError",
     "evalue": "saludar_a_dos_personas_y_luego_a_muchas() missing 1 required positional argument: 'nombre1'",
     "output_type": "error",
     "traceback": [
      "\u001B[0;31m---------------------------------------------------------------------------\u001B[0m",
      "\u001B[0;31mTypeError\u001B[0m                                 Traceback (most recent call last)",
      "Cell \u001B[0;32mIn[51], line 1\u001B[0m\n\u001B[0;32m----> 1\u001B[0m \u001B[43msaludar_a_dos_personas_y_luego_a_muchas\u001B[49m\u001B[43m(\u001B[49m\u001B[43m)\u001B[49m\n",
      "\u001B[0;31mTypeError\u001B[0m: saludar_a_dos_personas_y_luego_a_muchas() missing 1 required positional argument: 'nombre1'"
     ]
    }
   ],
   "source": [
    "saludar_a_dos_personas_y_luego_a_muchas()"
   ],
   "metadata": {
    "collapsed": false
   }
  },
  {
   "cell_type": "code",
   "execution_count": 52,
   "outputs": [
    {
     "name": "stdout",
     "output_type": "stream",
     "text": [
      "Hola Daniel\n",
      "Hola Diego\n",
      "Hola ()\n"
     ]
    }
   ],
   "source": [
    "saludar_a_dos_personas_y_luego_a_muchas('Daniel')"
   ],
   "metadata": {
    "collapsed": false
   }
  },
  {
   "cell_type": "code",
   "execution_count": 58,
   "outputs": [
    {
     "name": "stdout",
     "output_type": "stream",
     "text": [
      "Hola Daniel\n",
      "Hola Diego\n",
      "Hola ('Juliana',)\n"
     ]
    }
   ],
   "source": [
    "saludar_a_dos_personas_y_luego_a_muchas('Daniel', 'Juliana')"
   ],
   "metadata": {
    "collapsed": false
   }
  },
  {
   "cell_type": "code",
   "execution_count": 59,
   "outputs": [
    {
     "name": "stdout",
     "output_type": "stream",
     "text": [
      "Hola Daniel\n",
      "Hola Algo distinto\n",
      "Hola ('Juliana', 1, 2, 3)\n"
     ]
    }
   ],
   "source": [
    "saludar_a_dos_personas_y_luego_a_muchas(\n",
    "    'Daniel', 'Juliana', 1, 2, 3, nombre2='Algo distinto'\n",
    ")"
   ],
   "metadata": {
    "collapsed": false
   }
  },
  {
   "cell_type": "markdown",
   "source": [
    "# Exercise 128: Reverse Lookup\n",
    "\n"
   ],
   "metadata": {
    "collapsed": false
   }
  },
  {
   "cell_type": "code",
   "execution_count": 60,
   "outputs": [],
   "source": [
    "mi_diccionario = {\n",
    "    'llave_1': 'valor_1',\n",
    "    'llave_2': 'valor_2',\n",
    "    'llave_3': [1, 2, 3],\n",
    "    'llave_4': 'valor_1',\n",
    "}"
   ],
   "metadata": {
    "collapsed": false
   }
  },
  {
   "cell_type": "code",
   "execution_count": 62,
   "outputs": [
    {
     "data": {
      "text/plain": "'valor_1'"
     },
     "execution_count": 62,
     "metadata": {},
     "output_type": "execute_result"
    }
   ],
   "source": [
    "mi_diccionario['llave_1']"
   ],
   "metadata": {
    "collapsed": false
   }
  },
  {
   "cell_type": "code",
   "execution_count": 61,
   "outputs": [
    {
     "name": "stdout",
     "output_type": "stream",
     "text": [
      "llave_1\n",
      "llave_2\n",
      "llave_3\n",
      "llave_4\n"
     ]
    }
   ],
   "source": [
    "for a in mi_diccionario:\n",
    "    print(a)"
   ],
   "metadata": {
    "collapsed": false
   }
  },
  {
   "cell_type": "code",
   "execution_count": 66,
   "outputs": [],
   "source": [
    "def reverse_lookup(diccionario, valor):\n",
    "    matching_keys = []\n",
    "    for key in diccionario:\n",
    "        # if key == valor:  ESTE NO\n",
    "        if diccionario[key] == valor:\n",
    "            matching_keys.append(key)\n",
    "\n",
    "    return matching_keys"
   ],
   "metadata": {
    "collapsed": false
   }
  },
  {
   "cell_type": "code",
   "execution_count": 67,
   "outputs": [
    {
     "data": {
      "text/plain": "['llave_1', 'llave_4']"
     },
     "execution_count": 67,
     "metadata": {},
     "output_type": "execute_result"
    }
   ],
   "source": [
    "reverse_lookup(mi_diccionario, 'valor_1')"
   ],
   "metadata": {
    "collapsed": false
   }
  },
  {
   "cell_type": "code",
   "execution_count": 68,
   "outputs": [
    {
     "data": {
      "text/plain": "[]"
     },
     "execution_count": 68,
     "metadata": {},
     "output_type": "execute_result"
    }
   ],
   "source": [
    "reverse_lookup(mi_diccionario, 'Mauricio')"
   ],
   "metadata": {
    "collapsed": false
   }
  },
  {
   "cell_type": "code",
   "execution_count": null,
   "outputs": [],
   "source": [
    "mi_diccionario = {\n",
    "    'llave_1': 'valor_1',\n",
    "    'llave_2': 'valor_2',\n",
    "    'llave_3': [1, 2, 3],\n",
    "    'llave_4': 'valor_1',\n",
    "}"
   ],
   "metadata": {
    "collapsed": false
   }
  },
  {
   "cell_type": "code",
   "execution_count": 70,
   "outputs": [
    {
     "data": {
      "text/plain": "[]"
     },
     "execution_count": 70,
     "metadata": {},
     "output_type": "execute_result"
    }
   ],
   "source": [
    "reverse_lookup(mi_diccionario, 1)"
   ],
   "metadata": {
    "collapsed": false
   }
  },
  {
   "cell_type": "code",
   "execution_count": 71,
   "outputs": [
    {
     "data": {
      "text/plain": "[1, 2, 3]"
     },
     "execution_count": 71,
     "metadata": {},
     "output_type": "execute_result"
    }
   ],
   "source": [
    "mi_diccionario['llave_3']"
   ],
   "metadata": {
    "collapsed": false
   }
  },
  {
   "cell_type": "code",
   "execution_count": 72,
   "outputs": [
    {
     "data": {
      "text/plain": "['llave_3']"
     },
     "execution_count": 72,
     "metadata": {},
     "output_type": "execute_result"
    }
   ],
   "source": [
    "reverse_lookup(mi_diccionario, [1, 2, 3])"
   ],
   "metadata": {
    "collapsed": false
   }
  },
  {
   "cell_type": "code",
   "execution_count": 73,
   "outputs": [
    {
     "name": "stdout",
     "output_type": "stream",
     "text": [
      "llave_1 valor_1\n",
      "llave_2 valor_2\n",
      "llave_3 [1, 2, 3]\n",
      "llave_4 valor_1\n"
     ]
    }
   ],
   "source": [
    "for llave, valor in mi_diccionario.items():\n",
    "    print(llave, valor)"
   ],
   "metadata": {
    "collapsed": false
   }
  },
  {
   "cell_type": "code",
   "execution_count": 74,
   "outputs": [],
   "source": [
    "def reverse_lookup(diccionario, search_value):\n",
    "    matching_keys = []\n",
    "    for key, value in diccionario.items():\n",
    "        if value == search_value:\n",
    "            matching_keys.append(key)\n",
    "\n",
    "    return matching_keys"
   ],
   "metadata": {
    "collapsed": false
   }
  },
  {
   "cell_type": "code",
   "execution_count": 75,
   "outputs": [
    {
     "data": {
      "text/plain": "[]"
     },
     "execution_count": 75,
     "metadata": {},
     "output_type": "execute_result"
    }
   ],
   "source": [
    "reverse_lookup(mi_diccionario, 'Hola')"
   ],
   "metadata": {
    "collapsed": false
   }
  },
  {
   "cell_type": "code",
   "execution_count": 76,
   "outputs": [
    {
     "data": {
      "text/plain": "[]"
     },
     "execution_count": 76,
     "metadata": {},
     "output_type": "execute_result"
    }
   ],
   "source": [
    "reverse_lookup(mi_diccionario, 'llave_1')"
   ],
   "metadata": {
    "collapsed": false
   }
  },
  {
   "cell_type": "code",
   "execution_count": null,
   "outputs": [],
   "source": [],
   "metadata": {
    "collapsed": false
   }
  }
 ]
}
